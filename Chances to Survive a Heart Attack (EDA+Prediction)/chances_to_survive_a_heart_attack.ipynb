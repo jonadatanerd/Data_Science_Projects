{
 "cells": [
  {
   "attachments": {},
   "cell_type": "markdown",
   "id": "silent-remains",
   "metadata": {
    "papermill": {
     "duration": 0.067896,
     "end_time": "2021-06-24T05:19:28.542706",
     "exception": false,
     "start_time": "2021-06-24T05:19:28.474810",
     "status": "completed"
    },
    "tags": []
   },
   "source": [
    "# Heart Disease Analysis and Prediction"
   ]
  },
  {
   "attachments": {},
   "cell_type": "markdown",
   "id": "surgical-horizontal",
   "metadata": {
    "papermill": {
     "duration": 0.063174,
     "end_time": "2021-06-24T05:19:28.667439",
     "exception": false,
     "start_time": "2021-06-24T05:19:28.604265",
     "status": "completed"
    },
    "tags": []
   },
   "source": [
    "In this notebook we trying to predict whether a patient should be diagnosed with Heart Disease or not. This is a binary outcome:<br>\n",
    "1. **Positive (1):** patient diagnosed with Heart Disease\n",
    "1. **Negative (0):** patient not diagnosed with Heart Disease<br>\n",
    "\n",
    "Multiple machine learning Models will be applied to see which yields greatest accuracy."
   ]
  },
  {
   "attachments": {},
   "cell_type": "markdown",
   "id": "stuck-worker",
   "metadata": {
    "papermill": {
     "duration": 0.058201,
     "end_time": "2021-06-24T05:19:28.789481",
     "exception": false,
     "start_time": "2021-06-24T05:19:28.731280",
     "status": "completed"
    },
    "tags": []
   },
   "source": [
    "# Dataset Features:\n",
    "The Output (Positive or Negative diagnosis of Heart Disease) is determined by 13 features:\n",
    "1. **age:** age of the patient\n",
    "2. **sex:** 1 = male, 0 = female (binary)\n",
    "3. **cp:** chest pain type (4 values) Value 0: typical angina, Value 1: atypical angina, Value 2: non-anginal pain, Value 3: asymptomatic\n",
    "4. **trestbps:** resting blood pressure\n",
    "5. **chol:** serum cholesterol in mg/dl\n",
    "6. **fbs:** fasting blood sugar > 120 mg/dl (binary) (1 = true; 0 = false)\n",
    "7. **restecg:** resting electrocardiography results (values 0, 1, 2)\n",
    "8. **thalachh:** maximum heart rate achieved\n",
    "9. **exng:** exercise induced angina (binary) (1 = yes, 0 = no)\n",
    "10. **oldpeak:** = ST depression induced by exercise relative to rest\n",
    "11. **slp:** of the peak exercise ST segment (Value 0: up sloping , Value 1: flat , Value 2: down sloping )\n",
    "12. **caa:** number of major vessels (values: 0–3)\n",
    "13. **thall:** maximum heart rate achieved (0 = no-data, 1 = normal, 2 = fixed defect, 3 = reversible defect)"
   ]
  },
  {
   "cell_type": "code",
   "execution_count": 1,
   "id": "constitutional-prophet",
   "metadata": {
    "execution": {
     "iopub.execute_input": "2021-06-24T05:19:28.912560Z",
     "iopub.status.busy": "2021-06-24T05:19:28.911918Z",
     "iopub.status.idle": "2021-06-24T05:19:30.833281Z",
     "shell.execute_reply": "2021-06-24T05:19:30.832029Z",
     "shell.execute_reply.started": "2021-06-24T04:59:51.031818Z"
    },
    "papermill": {
     "duration": 1.985623,
     "end_time": "2021-06-24T05:19:30.833472",
     "exception": false,
     "start_time": "2021-06-24T05:19:28.847849",
     "status": "completed"
    },
    "tags": []
   },
   "outputs": [],
   "source": [
    "# import all the required libraries\n",
    "import numpy as np\n",
    "import pandas as pd\n",
    "import seaborn as sns\n",
    "import matplotlib.pyplot as plt\n",
    "\n",
    "from sklearn.svm import SVC\n",
    "from xgboost import XGBClassifier\n",
    "from sklearn.naive_bayes import GaussianNB\n",
    "from sklearn.tree import DecisionTreeClassifier\n",
    "from sklearn.preprocessing import StandardScaler\n",
    "from sklearn.neighbors import KNeighborsClassifier\n",
    "from sklearn.ensemble import RandomForestClassifier\n",
    "from sklearn.linear_model import LogisticRegression\n",
    "from sklearn.model_selection import train_test_split\n",
    "from sklearn.metrics import classification_report, confusion_matrix "
   ]
  },
  {
   "cell_type": "code",
   "execution_count": 2,
   "id": "capable-macro",
   "metadata": {
    "execution": {
     "iopub.execute_input": "2021-06-24T05:19:30.955721Z",
     "iopub.status.busy": "2021-06-24T05:19:30.954815Z",
     "iopub.status.idle": "2021-06-24T05:19:30.957850Z",
     "shell.execute_reply": "2021-06-24T05:19:30.957279Z",
     "shell.execute_reply.started": "2021-06-24T04:45:54.961006Z"
    },
    "papermill": {
     "duration": 0.065742,
     "end_time": "2021-06-24T05:19:30.957987",
     "exception": false,
     "start_time": "2021-06-24T05:19:30.892245",
     "status": "completed"
    },
    "tags": []
   },
   "outputs": [],
   "source": [
    "import warnings\n",
    "warnings.filterwarnings('ignore')"
   ]
  },
  {
   "cell_type": "code",
   "execution_count": 3,
   "id": "extensive-satellite",
   "metadata": {
    "execution": {
     "iopub.execute_input": "2021-06-24T05:19:31.084434Z",
     "iopub.status.busy": "2021-06-24T05:19:31.083466Z",
     "iopub.status.idle": "2021-06-24T05:19:31.086864Z",
     "shell.execute_reply": "2021-06-24T05:19:31.086359Z",
     "shell.execute_reply.started": "2021-06-24T04:45:55.127626Z"
    },
    "papermill": {
     "duration": 0.070059,
     "end_time": "2021-06-24T05:19:31.087037",
     "exception": false,
     "start_time": "2021-06-24T05:19:31.016978",
     "status": "completed"
    },
    "tags": []
   },
   "outputs": [],
   "source": [
    "sns.set_context('talk')\n",
    "sns.set_palette('Paired')\n",
    "sns.set(style = 'darkgrid')"
   ]
  },
  {
   "attachments": {},
   "cell_type": "markdown",
   "id": "jewish-proportion",
   "metadata": {
    "papermill": {
     "duration": 0.059037,
     "end_time": "2021-06-24T05:19:31.204283",
     "exception": false,
     "start_time": "2021-06-24T05:19:31.145246",
     "status": "completed"
    },
    "tags": []
   },
   "source": [
    "# Data Exploration"
   ]
  },
  {
   "cell_type": "code",
   "execution_count": 4,
   "id": "abandoned-removal",
   "metadata": {
    "execution": {
     "iopub.execute_input": "2021-06-24T05:19:31.328203Z",
     "iopub.status.busy": "2021-06-24T05:19:31.327453Z",
     "iopub.status.idle": "2021-06-24T05:19:31.348709Z",
     "shell.execute_reply": "2021-06-24T05:19:31.348064Z",
     "shell.execute_reply.started": "2021-06-24T04:45:55.642682Z"
    },
    "papermill": {
     "duration": 0.085976,
     "end_time": "2021-06-24T05:19:31.348892",
     "exception": false,
     "start_time": "2021-06-24T05:19:31.262916",
     "status": "completed"
    },
    "tags": []
   },
   "outputs": [],
   "source": [
    "# load the dataset\n",
    "data = pd.read_csv('/kaggle/input/heart-attack-analysis-prediction-dataset/heart.csv')"
   ]
  },
  {
   "cell_type": "code",
   "execution_count": 5,
   "id": "sought-contemporary",
   "metadata": {
    "execution": {
     "iopub.execute_input": "2021-06-24T05:19:31.479104Z",
     "iopub.status.busy": "2021-06-24T05:19:31.478366Z",
     "iopub.status.idle": "2021-06-24T05:19:31.501461Z",
     "shell.execute_reply": "2021-06-24T05:19:31.500804Z",
     "shell.execute_reply.started": "2021-06-24T04:45:55.924265Z"
    },
    "papermill": {
     "duration": 0.094528,
     "end_time": "2021-06-24T05:19:31.501612",
     "exception": false,
     "start_time": "2021-06-24T05:19:31.407084",
     "status": "completed"
    },
    "tags": []
   },
   "outputs": [
    {
     "data": {
      "text/html": [
       "<div>\n",
       "<style scoped>\n",
       "    .dataframe tbody tr th:only-of-type {\n",
       "        vertical-align: middle;\n",
       "    }\n",
       "\n",
       "    .dataframe tbody tr th {\n",
       "        vertical-align: top;\n",
       "    }\n",
       "\n",
       "    .dataframe thead th {\n",
       "        text-align: right;\n",
       "    }\n",
       "</style>\n",
       "<table border=\"1\" class=\"dataframe\">\n",
       "  <thead>\n",
       "    <tr style=\"text-align: right;\">\n",
       "      <th></th>\n",
       "      <th>age</th>\n",
       "      <th>sex</th>\n",
       "      <th>cp</th>\n",
       "      <th>trtbps</th>\n",
       "      <th>chol</th>\n",
       "      <th>fbs</th>\n",
       "      <th>restecg</th>\n",
       "      <th>thalachh</th>\n",
       "      <th>exng</th>\n",
       "      <th>oldpeak</th>\n",
       "      <th>slp</th>\n",
       "      <th>caa</th>\n",
       "      <th>thall</th>\n",
       "      <th>output</th>\n",
       "    </tr>\n",
       "  </thead>\n",
       "  <tbody>\n",
       "    <tr>\n",
       "      <th>0</th>\n",
       "      <td>63</td>\n",
       "      <td>1</td>\n",
       "      <td>3</td>\n",
       "      <td>145</td>\n",
       "      <td>233</td>\n",
       "      <td>1</td>\n",
       "      <td>0</td>\n",
       "      <td>150</td>\n",
       "      <td>0</td>\n",
       "      <td>2.3</td>\n",
       "      <td>0</td>\n",
       "      <td>0</td>\n",
       "      <td>1</td>\n",
       "      <td>1</td>\n",
       "    </tr>\n",
       "    <tr>\n",
       "      <th>1</th>\n",
       "      <td>37</td>\n",
       "      <td>1</td>\n",
       "      <td>2</td>\n",
       "      <td>130</td>\n",
       "      <td>250</td>\n",
       "      <td>0</td>\n",
       "      <td>1</td>\n",
       "      <td>187</td>\n",
       "      <td>0</td>\n",
       "      <td>3.5</td>\n",
       "      <td>0</td>\n",
       "      <td>0</td>\n",
       "      <td>2</td>\n",
       "      <td>1</td>\n",
       "    </tr>\n",
       "    <tr>\n",
       "      <th>2</th>\n",
       "      <td>41</td>\n",
       "      <td>0</td>\n",
       "      <td>1</td>\n",
       "      <td>130</td>\n",
       "      <td>204</td>\n",
       "      <td>0</td>\n",
       "      <td>0</td>\n",
       "      <td>172</td>\n",
       "      <td>0</td>\n",
       "      <td>1.4</td>\n",
       "      <td>2</td>\n",
       "      <td>0</td>\n",
       "      <td>2</td>\n",
       "      <td>1</td>\n",
       "    </tr>\n",
       "    <tr>\n",
       "      <th>3</th>\n",
       "      <td>56</td>\n",
       "      <td>1</td>\n",
       "      <td>1</td>\n",
       "      <td>120</td>\n",
       "      <td>236</td>\n",
       "      <td>0</td>\n",
       "      <td>1</td>\n",
       "      <td>178</td>\n",
       "      <td>0</td>\n",
       "      <td>0.8</td>\n",
       "      <td>2</td>\n",
       "      <td>0</td>\n",
       "      <td>2</td>\n",
       "      <td>1</td>\n",
       "    </tr>\n",
       "    <tr>\n",
       "      <th>4</th>\n",
       "      <td>57</td>\n",
       "      <td>0</td>\n",
       "      <td>0</td>\n",
       "      <td>120</td>\n",
       "      <td>354</td>\n",
       "      <td>0</td>\n",
       "      <td>1</td>\n",
       "      <td>163</td>\n",
       "      <td>1</td>\n",
       "      <td>0.6</td>\n",
       "      <td>2</td>\n",
       "      <td>0</td>\n",
       "      <td>2</td>\n",
       "      <td>1</td>\n",
       "    </tr>\n",
       "  </tbody>\n",
       "</table>\n",
       "</div>"
      ],
      "text/plain": [
       "   age  sex  cp  trtbps  chol  fbs  restecg  thalachh  exng  oldpeak  slp  \\\n",
       "0   63    1   3     145   233    1        0       150     0      2.3    0   \n",
       "1   37    1   2     130   250    0        1       187     0      3.5    0   \n",
       "2   41    0   1     130   204    0        0       172     0      1.4    2   \n",
       "3   56    1   1     120   236    0        1       178     0      0.8    2   \n",
       "4   57    0   0     120   354    0        1       163     1      0.6    2   \n",
       "\n",
       "   caa  thall  output  \n",
       "0    0      1       1  \n",
       "1    0      2       1  \n",
       "2    0      2       1  \n",
       "3    0      2       1  \n",
       "4    0      2       1  "
      ]
     },
     "execution_count": 5,
     "metadata": {},
     "output_type": "execute_result"
    }
   ],
   "source": [
    "# display first few records\n",
    "data.head()"
   ]
  },
  {
   "cell_type": "code",
   "execution_count": 6,
   "id": "complete-summer",
   "metadata": {
    "execution": {
     "iopub.execute_input": "2021-06-24T05:19:31.624855Z",
     "iopub.status.busy": "2021-06-24T05:19:31.624215Z",
     "iopub.status.idle": "2021-06-24T05:19:31.627664Z",
     "shell.execute_reply": "2021-06-24T05:19:31.628165Z",
     "shell.execute_reply.started": "2021-06-24T04:45:56.159088Z"
    },
    "papermill": {
     "duration": 0.066883,
     "end_time": "2021-06-24T05:19:31.628345",
     "exception": false,
     "start_time": "2021-06-24T05:19:31.561462",
     "status": "completed"
    },
    "tags": []
   },
   "outputs": [
    {
     "data": {
      "text/plain": [
       "(303, 14)"
      ]
     },
     "execution_count": 6,
     "metadata": {},
     "output_type": "execute_result"
    }
   ],
   "source": [
    "# show the number of records and the number of features\n",
    "data.shape"
   ]
  },
  {
   "cell_type": "code",
   "execution_count": 7,
   "id": "mineral-broadcasting",
   "metadata": {
    "execution": {
     "iopub.execute_input": "2021-06-24T05:19:31.749649Z",
     "iopub.status.busy": "2021-06-24T05:19:31.749042Z",
     "iopub.status.idle": "2021-06-24T05:19:31.769200Z",
     "shell.execute_reply": "2021-06-24T05:19:31.770378Z",
     "shell.execute_reply.started": "2021-06-24T04:45:56.318730Z"
    },
    "papermill": {
     "duration": 0.083507,
     "end_time": "2021-06-24T05:19:31.770706",
     "exception": false,
     "start_time": "2021-06-24T05:19:31.687199",
     "status": "completed"
    },
    "tags": []
   },
   "outputs": [
    {
     "name": "stdout",
     "output_type": "stream",
     "text": [
      "<class 'pandas.core.frame.DataFrame'>\n",
      "RangeIndex: 303 entries, 0 to 302\n",
      "Data columns (total 14 columns):\n",
      " #   Column    Non-Null Count  Dtype  \n",
      "---  ------    --------------  -----  \n",
      " 0   age       303 non-null    int64  \n",
      " 1   sex       303 non-null    int64  \n",
      " 2   cp        303 non-null    int64  \n",
      " 3   trtbps    303 non-null    int64  \n",
      " 4   chol      303 non-null    int64  \n",
      " 5   fbs       303 non-null    int64  \n",
      " 6   restecg   303 non-null    int64  \n",
      " 7   thalachh  303 non-null    int64  \n",
      " 8   exng      303 non-null    int64  \n",
      " 9   oldpeak   303 non-null    float64\n",
      " 10  slp       303 non-null    int64  \n",
      " 11  caa       303 non-null    int64  \n",
      " 12  thall     303 non-null    int64  \n",
      " 13  output    303 non-null    int64  \n",
      "dtypes: float64(1), int64(13)\n",
      "memory usage: 33.3 KB\n"
     ]
    }
   ],
   "source": [
    "# get a basic understanding of the dataset\n",
    "data.info()"
   ]
  },
  {
   "cell_type": "code",
   "execution_count": 8,
   "id": "potential-freeware",
   "metadata": {
    "execution": {
     "iopub.execute_input": "2021-06-24T05:19:31.893713Z",
     "iopub.status.busy": "2021-06-24T05:19:31.893106Z",
     "iopub.status.idle": "2021-06-24T05:19:31.948149Z",
     "shell.execute_reply": "2021-06-24T05:19:31.947091Z",
     "shell.execute_reply.started": "2021-06-24T04:45:56.531544Z"
    },
    "papermill": {
     "duration": 0.117736,
     "end_time": "2021-06-24T05:19:31.948295",
     "exception": false,
     "start_time": "2021-06-24T05:19:31.830559",
     "status": "completed"
    },
    "tags": []
   },
   "outputs": [
    {
     "data": {
      "text/html": [
       "<div>\n",
       "<style scoped>\n",
       "    .dataframe tbody tr th:only-of-type {\n",
       "        vertical-align: middle;\n",
       "    }\n",
       "\n",
       "    .dataframe tbody tr th {\n",
       "        vertical-align: top;\n",
       "    }\n",
       "\n",
       "    .dataframe thead th {\n",
       "        text-align: right;\n",
       "    }\n",
       "</style>\n",
       "<table border=\"1\" class=\"dataframe\">\n",
       "  <thead>\n",
       "    <tr style=\"text-align: right;\">\n",
       "      <th></th>\n",
       "      <th>age</th>\n",
       "      <th>sex</th>\n",
       "      <th>cp</th>\n",
       "      <th>trtbps</th>\n",
       "      <th>chol</th>\n",
       "      <th>fbs</th>\n",
       "      <th>restecg</th>\n",
       "      <th>thalachh</th>\n",
       "      <th>exng</th>\n",
       "      <th>oldpeak</th>\n",
       "      <th>slp</th>\n",
       "      <th>caa</th>\n",
       "      <th>thall</th>\n",
       "      <th>output</th>\n",
       "    </tr>\n",
       "  </thead>\n",
       "  <tbody>\n",
       "    <tr>\n",
       "      <th>count</th>\n",
       "      <td>303.000000</td>\n",
       "      <td>303.000000</td>\n",
       "      <td>303.000000</td>\n",
       "      <td>303.000000</td>\n",
       "      <td>303.000000</td>\n",
       "      <td>303.000000</td>\n",
       "      <td>303.000000</td>\n",
       "      <td>303.000000</td>\n",
       "      <td>303.000000</td>\n",
       "      <td>303.000000</td>\n",
       "      <td>303.000000</td>\n",
       "      <td>303.000000</td>\n",
       "      <td>303.000000</td>\n",
       "      <td>303.000000</td>\n",
       "    </tr>\n",
       "    <tr>\n",
       "      <th>mean</th>\n",
       "      <td>54.366337</td>\n",
       "      <td>0.683168</td>\n",
       "      <td>0.966997</td>\n",
       "      <td>131.623762</td>\n",
       "      <td>246.264026</td>\n",
       "      <td>0.148515</td>\n",
       "      <td>0.528053</td>\n",
       "      <td>149.646865</td>\n",
       "      <td>0.326733</td>\n",
       "      <td>1.039604</td>\n",
       "      <td>1.399340</td>\n",
       "      <td>0.729373</td>\n",
       "      <td>2.313531</td>\n",
       "      <td>0.544554</td>\n",
       "    </tr>\n",
       "    <tr>\n",
       "      <th>std</th>\n",
       "      <td>9.082101</td>\n",
       "      <td>0.466011</td>\n",
       "      <td>1.032052</td>\n",
       "      <td>17.538143</td>\n",
       "      <td>51.830751</td>\n",
       "      <td>0.356198</td>\n",
       "      <td>0.525860</td>\n",
       "      <td>22.905161</td>\n",
       "      <td>0.469794</td>\n",
       "      <td>1.161075</td>\n",
       "      <td>0.616226</td>\n",
       "      <td>1.022606</td>\n",
       "      <td>0.612277</td>\n",
       "      <td>0.498835</td>\n",
       "    </tr>\n",
       "    <tr>\n",
       "      <th>min</th>\n",
       "      <td>29.000000</td>\n",
       "      <td>0.000000</td>\n",
       "      <td>0.000000</td>\n",
       "      <td>94.000000</td>\n",
       "      <td>126.000000</td>\n",
       "      <td>0.000000</td>\n",
       "      <td>0.000000</td>\n",
       "      <td>71.000000</td>\n",
       "      <td>0.000000</td>\n",
       "      <td>0.000000</td>\n",
       "      <td>0.000000</td>\n",
       "      <td>0.000000</td>\n",
       "      <td>0.000000</td>\n",
       "      <td>0.000000</td>\n",
       "    </tr>\n",
       "    <tr>\n",
       "      <th>25%</th>\n",
       "      <td>47.500000</td>\n",
       "      <td>0.000000</td>\n",
       "      <td>0.000000</td>\n",
       "      <td>120.000000</td>\n",
       "      <td>211.000000</td>\n",
       "      <td>0.000000</td>\n",
       "      <td>0.000000</td>\n",
       "      <td>133.500000</td>\n",
       "      <td>0.000000</td>\n",
       "      <td>0.000000</td>\n",
       "      <td>1.000000</td>\n",
       "      <td>0.000000</td>\n",
       "      <td>2.000000</td>\n",
       "      <td>0.000000</td>\n",
       "    </tr>\n",
       "    <tr>\n",
       "      <th>50%</th>\n",
       "      <td>55.000000</td>\n",
       "      <td>1.000000</td>\n",
       "      <td>1.000000</td>\n",
       "      <td>130.000000</td>\n",
       "      <td>240.000000</td>\n",
       "      <td>0.000000</td>\n",
       "      <td>1.000000</td>\n",
       "      <td>153.000000</td>\n",
       "      <td>0.000000</td>\n",
       "      <td>0.800000</td>\n",
       "      <td>1.000000</td>\n",
       "      <td>0.000000</td>\n",
       "      <td>2.000000</td>\n",
       "      <td>1.000000</td>\n",
       "    </tr>\n",
       "    <tr>\n",
       "      <th>75%</th>\n",
       "      <td>61.000000</td>\n",
       "      <td>1.000000</td>\n",
       "      <td>2.000000</td>\n",
       "      <td>140.000000</td>\n",
       "      <td>274.500000</td>\n",
       "      <td>0.000000</td>\n",
       "      <td>1.000000</td>\n",
       "      <td>166.000000</td>\n",
       "      <td>1.000000</td>\n",
       "      <td>1.600000</td>\n",
       "      <td>2.000000</td>\n",
       "      <td>1.000000</td>\n",
       "      <td>3.000000</td>\n",
       "      <td>1.000000</td>\n",
       "    </tr>\n",
       "    <tr>\n",
       "      <th>max</th>\n",
       "      <td>77.000000</td>\n",
       "      <td>1.000000</td>\n",
       "      <td>3.000000</td>\n",
       "      <td>200.000000</td>\n",
       "      <td>564.000000</td>\n",
       "      <td>1.000000</td>\n",
       "      <td>2.000000</td>\n",
       "      <td>202.000000</td>\n",
       "      <td>1.000000</td>\n",
       "      <td>6.200000</td>\n",
       "      <td>2.000000</td>\n",
       "      <td>4.000000</td>\n",
       "      <td>3.000000</td>\n",
       "      <td>1.000000</td>\n",
       "    </tr>\n",
       "  </tbody>\n",
       "</table>\n",
       "</div>"
      ],
      "text/plain": [
       "              age         sex          cp      trtbps        chol         fbs  \\\n",
       "count  303.000000  303.000000  303.000000  303.000000  303.000000  303.000000   \n",
       "mean    54.366337    0.683168    0.966997  131.623762  246.264026    0.148515   \n",
       "std      9.082101    0.466011    1.032052   17.538143   51.830751    0.356198   \n",
       "min     29.000000    0.000000    0.000000   94.000000  126.000000    0.000000   \n",
       "25%     47.500000    0.000000    0.000000  120.000000  211.000000    0.000000   \n",
       "50%     55.000000    1.000000    1.000000  130.000000  240.000000    0.000000   \n",
       "75%     61.000000    1.000000    2.000000  140.000000  274.500000    0.000000   \n",
       "max     77.000000    1.000000    3.000000  200.000000  564.000000    1.000000   \n",
       "\n",
       "          restecg    thalachh        exng     oldpeak         slp         caa  \\\n",
       "count  303.000000  303.000000  303.000000  303.000000  303.000000  303.000000   \n",
       "mean     0.528053  149.646865    0.326733    1.039604    1.399340    0.729373   \n",
       "std      0.525860   22.905161    0.469794    1.161075    0.616226    1.022606   \n",
       "min      0.000000   71.000000    0.000000    0.000000    0.000000    0.000000   \n",
       "25%      0.000000  133.500000    0.000000    0.000000    1.000000    0.000000   \n",
       "50%      1.000000  153.000000    0.000000    0.800000    1.000000    0.000000   \n",
       "75%      1.000000  166.000000    1.000000    1.600000    2.000000    1.000000   \n",
       "max      2.000000  202.000000    1.000000    6.200000    2.000000    4.000000   \n",
       "\n",
       "            thall      output  \n",
       "count  303.000000  303.000000  \n",
       "mean     2.313531    0.544554  \n",
       "std      0.612277    0.498835  \n",
       "min      0.000000    0.000000  \n",
       "25%      2.000000    0.000000  \n",
       "50%      2.000000    1.000000  \n",
       "75%      3.000000    1.000000  \n",
       "max      3.000000    1.000000  "
      ]
     },
     "execution_count": 8,
     "metadata": {},
     "output_type": "execute_result"
    }
   ],
   "source": [
    "# summarise the count, mean, standard deviation, min and max for numeric features\n",
    "data.describe()"
   ]
  },
  {
   "attachments": {},
   "cell_type": "markdown",
   "id": "whole-richmond",
   "metadata": {
    "papermill": {
     "duration": 0.061307,
     "end_time": "2021-06-24T05:19:32.071795",
     "exception": false,
     "start_time": "2021-06-24T05:19:32.010488",
     "status": "completed"
    },
    "tags": []
   },
   "source": [
    "# Data Cleaning"
   ]
  },
  {
   "cell_type": "code",
   "execution_count": 9,
   "id": "running-ambassador",
   "metadata": {
    "execution": {
     "iopub.execute_input": "2021-06-24T05:19:32.201347Z",
     "iopub.status.busy": "2021-06-24T05:19:32.200667Z",
     "iopub.status.idle": "2021-06-24T05:19:32.204915Z",
     "shell.execute_reply": "2021-06-24T05:19:32.204257Z",
     "shell.execute_reply.started": "2021-06-24T04:45:57.367033Z"
    },
    "papermill": {
     "duration": 0.07225,
     "end_time": "2021-06-24T05:19:32.205079",
     "exception": false,
     "start_time": "2021-06-24T05:19:32.132829",
     "status": "completed"
    },
    "tags": []
   },
   "outputs": [
    {
     "data": {
      "text/plain": [
       "age         0\n",
       "sex         0\n",
       "cp          0\n",
       "trtbps      0\n",
       "chol        0\n",
       "fbs         0\n",
       "restecg     0\n",
       "thalachh    0\n",
       "exng        0\n",
       "oldpeak     0\n",
       "slp         0\n",
       "caa         0\n",
       "thall       0\n",
       "output      0\n",
       "dtype: int64"
      ]
     },
     "execution_count": 9,
     "metadata": {},
     "output_type": "execute_result"
    }
   ],
   "source": [
    "# check for null values\n",
    "data.isnull().sum()"
   ]
  },
  {
   "attachments": {},
   "cell_type": "markdown",
   "id": "offensive-democracy",
   "metadata": {
    "papermill": {
     "duration": 0.059838,
     "end_time": "2021-06-24T05:19:32.325339",
     "exception": false,
     "start_time": "2021-06-24T05:19:32.265501",
     "status": "completed"
    },
    "tags": []
   },
   "source": [
    "As there are no null values in data, we will go ahead with finding duplicates."
   ]
  },
  {
   "cell_type": "code",
   "execution_count": 10,
   "id": "arbitrary-arbor",
   "metadata": {
    "execution": {
     "iopub.execute_input": "2021-06-24T05:19:32.465101Z",
     "iopub.status.busy": "2021-06-24T05:19:32.464045Z",
     "iopub.status.idle": "2021-06-24T05:19:32.468072Z",
     "shell.execute_reply": "2021-06-24T05:19:32.468550Z",
     "shell.execute_reply.started": "2021-06-24T04:45:57.843124Z"
    },
    "papermill": {
     "duration": 0.08346,
     "end_time": "2021-06-24T05:19:32.468715",
     "exception": false,
     "start_time": "2021-06-24T05:19:32.385255",
     "status": "completed"
    },
    "tags": []
   },
   "outputs": [
    {
     "data": {
      "text/html": [
       "<div>\n",
       "<style scoped>\n",
       "    .dataframe tbody tr th:only-of-type {\n",
       "        vertical-align: middle;\n",
       "    }\n",
       "\n",
       "    .dataframe tbody tr th {\n",
       "        vertical-align: top;\n",
       "    }\n",
       "\n",
       "    .dataframe thead th {\n",
       "        text-align: right;\n",
       "    }\n",
       "</style>\n",
       "<table border=\"1\" class=\"dataframe\">\n",
       "  <thead>\n",
       "    <tr style=\"text-align: right;\">\n",
       "      <th></th>\n",
       "      <th>age</th>\n",
       "      <th>sex</th>\n",
       "      <th>cp</th>\n",
       "      <th>trtbps</th>\n",
       "      <th>chol</th>\n",
       "      <th>fbs</th>\n",
       "      <th>restecg</th>\n",
       "      <th>thalachh</th>\n",
       "      <th>exng</th>\n",
       "      <th>oldpeak</th>\n",
       "      <th>slp</th>\n",
       "      <th>caa</th>\n",
       "      <th>thall</th>\n",
       "      <th>output</th>\n",
       "    </tr>\n",
       "  </thead>\n",
       "  <tbody>\n",
       "    <tr>\n",
       "      <th>163</th>\n",
       "      <td>38</td>\n",
       "      <td>1</td>\n",
       "      <td>2</td>\n",
       "      <td>138</td>\n",
       "      <td>175</td>\n",
       "      <td>0</td>\n",
       "      <td>1</td>\n",
       "      <td>173</td>\n",
       "      <td>0</td>\n",
       "      <td>0.0</td>\n",
       "      <td>2</td>\n",
       "      <td>4</td>\n",
       "      <td>2</td>\n",
       "      <td>1</td>\n",
       "    </tr>\n",
       "    <tr>\n",
       "      <th>164</th>\n",
       "      <td>38</td>\n",
       "      <td>1</td>\n",
       "      <td>2</td>\n",
       "      <td>138</td>\n",
       "      <td>175</td>\n",
       "      <td>0</td>\n",
       "      <td>1</td>\n",
       "      <td>173</td>\n",
       "      <td>0</td>\n",
       "      <td>0.0</td>\n",
       "      <td>2</td>\n",
       "      <td>4</td>\n",
       "      <td>2</td>\n",
       "      <td>1</td>\n",
       "    </tr>\n",
       "  </tbody>\n",
       "</table>\n",
       "</div>"
      ],
      "text/plain": [
       "     age  sex  cp  trtbps  chol  fbs  restecg  thalachh  exng  oldpeak  slp  \\\n",
       "163   38    1   2     138   175    0        1       173     0      0.0    2   \n",
       "164   38    1   2     138   175    0        1       173     0      0.0    2   \n",
       "\n",
       "     caa  thall  output  \n",
       "163    4      2       1  \n",
       "164    4      2       1  "
      ]
     },
     "execution_count": 10,
     "metadata": {},
     "output_type": "execute_result"
    }
   ],
   "source": [
    "# show duplicate rows in the dataset\n",
    "data[data.duplicated(keep = False)]"
   ]
  },
  {
   "cell_type": "code",
   "execution_count": 11,
   "id": "communist-image",
   "metadata": {
    "execution": {
     "iopub.execute_input": "2021-06-24T05:19:32.595437Z",
     "iopub.status.busy": "2021-06-24T05:19:32.594480Z",
     "iopub.status.idle": "2021-06-24T05:19:32.601352Z",
     "shell.execute_reply": "2021-06-24T05:19:32.601805Z",
     "shell.execute_reply.started": "2021-06-24T04:45:58.185021Z"
    },
    "papermill": {
     "duration": 0.07122,
     "end_time": "2021-06-24T05:19:32.601976",
     "exception": false,
     "start_time": "2021-06-24T05:19:32.530756",
     "status": "completed"
    },
    "tags": []
   },
   "outputs": [],
   "source": [
    "# drop the duplicated row\n",
    "data.drop_duplicates(keep = 'first', inplace = True)"
   ]
  },
  {
   "cell_type": "code",
   "execution_count": 12,
   "id": "fancy-pakistan",
   "metadata": {
    "execution": {
     "iopub.execute_input": "2021-06-24T05:19:32.750900Z",
     "iopub.status.busy": "2021-06-24T05:19:32.749985Z",
     "iopub.status.idle": "2021-06-24T05:19:32.754225Z",
     "shell.execute_reply": "2021-06-24T05:19:32.754668Z",
     "shell.execute_reply.started": "2021-06-24T04:45:58.569217Z"
    },
    "papermill": {
     "duration": 0.092426,
     "end_time": "2021-06-24T05:19:32.754843",
     "exception": false,
     "start_time": "2021-06-24T05:19:32.662417",
     "status": "completed"
    },
    "tags": []
   },
   "outputs": [
    {
     "data": {
      "text/html": [
       "<div>\n",
       "<style scoped>\n",
       "    .dataframe tbody tr th:only-of-type {\n",
       "        vertical-align: middle;\n",
       "    }\n",
       "\n",
       "    .dataframe tbody tr th {\n",
       "        vertical-align: top;\n",
       "    }\n",
       "\n",
       "    .dataframe thead th {\n",
       "        text-align: right;\n",
       "    }\n",
       "</style>\n",
       "<table border=\"1\" class=\"dataframe\">\n",
       "  <thead>\n",
       "    <tr style=\"text-align: right;\">\n",
       "      <th></th>\n",
       "      <th>age</th>\n",
       "      <th>sex</th>\n",
       "      <th>cp</th>\n",
       "      <th>trtbps</th>\n",
       "      <th>chol</th>\n",
       "      <th>fbs</th>\n",
       "      <th>restecg</th>\n",
       "      <th>thalachh</th>\n",
       "      <th>exng</th>\n",
       "      <th>oldpeak</th>\n",
       "      <th>slp</th>\n",
       "      <th>caa</th>\n",
       "      <th>thall</th>\n",
       "      <th>output</th>\n",
       "    </tr>\n",
       "  </thead>\n",
       "  <tbody>\n",
       "    <tr>\n",
       "      <th>age</th>\n",
       "      <td>1.000000</td>\n",
       "      <td>-0.094962</td>\n",
       "      <td>-0.063107</td>\n",
       "      <td>0.283121</td>\n",
       "      <td>0.207216</td>\n",
       "      <td>0.119492</td>\n",
       "      <td>-0.111590</td>\n",
       "      <td>-0.395235</td>\n",
       "      <td>0.093216</td>\n",
       "      <td>0.206040</td>\n",
       "      <td>-0.164124</td>\n",
       "      <td>0.302261</td>\n",
       "      <td>0.065317</td>\n",
       "      <td>-0.221476</td>\n",
       "    </tr>\n",
       "    <tr>\n",
       "      <th>sex</th>\n",
       "      <td>-0.094962</td>\n",
       "      <td>1.000000</td>\n",
       "      <td>-0.051740</td>\n",
       "      <td>-0.057647</td>\n",
       "      <td>-0.195571</td>\n",
       "      <td>0.046022</td>\n",
       "      <td>-0.060351</td>\n",
       "      <td>-0.046439</td>\n",
       "      <td>0.143460</td>\n",
       "      <td>0.098322</td>\n",
       "      <td>-0.032990</td>\n",
       "      <td>0.113060</td>\n",
       "      <td>0.211452</td>\n",
       "      <td>-0.283609</td>\n",
       "    </tr>\n",
       "    <tr>\n",
       "      <th>cp</th>\n",
       "      <td>-0.063107</td>\n",
       "      <td>-0.051740</td>\n",
       "      <td>1.000000</td>\n",
       "      <td>0.046486</td>\n",
       "      <td>-0.072682</td>\n",
       "      <td>0.096018</td>\n",
       "      <td>0.041561</td>\n",
       "      <td>0.293367</td>\n",
       "      <td>-0.392937</td>\n",
       "      <td>-0.146692</td>\n",
       "      <td>0.116854</td>\n",
       "      <td>-0.195356</td>\n",
       "      <td>-0.160370</td>\n",
       "      <td>0.432080</td>\n",
       "    </tr>\n",
       "    <tr>\n",
       "      <th>trtbps</th>\n",
       "      <td>0.283121</td>\n",
       "      <td>-0.057647</td>\n",
       "      <td>0.046486</td>\n",
       "      <td>1.000000</td>\n",
       "      <td>0.125256</td>\n",
       "      <td>0.178125</td>\n",
       "      <td>-0.115367</td>\n",
       "      <td>-0.048023</td>\n",
       "      <td>0.068526</td>\n",
       "      <td>0.194600</td>\n",
       "      <td>-0.122873</td>\n",
       "      <td>0.099248</td>\n",
       "      <td>0.062870</td>\n",
       "      <td>-0.146269</td>\n",
       "    </tr>\n",
       "    <tr>\n",
       "      <th>chol</th>\n",
       "      <td>0.207216</td>\n",
       "      <td>-0.195571</td>\n",
       "      <td>-0.072682</td>\n",
       "      <td>0.125256</td>\n",
       "      <td>1.000000</td>\n",
       "      <td>0.011428</td>\n",
       "      <td>-0.147602</td>\n",
       "      <td>-0.005308</td>\n",
       "      <td>0.064099</td>\n",
       "      <td>0.050086</td>\n",
       "      <td>0.000417</td>\n",
       "      <td>0.086878</td>\n",
       "      <td>0.096810</td>\n",
       "      <td>-0.081437</td>\n",
       "    </tr>\n",
       "    <tr>\n",
       "      <th>fbs</th>\n",
       "      <td>0.119492</td>\n",
       "      <td>0.046022</td>\n",
       "      <td>0.096018</td>\n",
       "      <td>0.178125</td>\n",
       "      <td>0.011428</td>\n",
       "      <td>1.000000</td>\n",
       "      <td>-0.083081</td>\n",
       "      <td>-0.007169</td>\n",
       "      <td>0.024729</td>\n",
       "      <td>0.004514</td>\n",
       "      <td>-0.058654</td>\n",
       "      <td>0.144935</td>\n",
       "      <td>-0.032752</td>\n",
       "      <td>-0.026826</td>\n",
       "    </tr>\n",
       "    <tr>\n",
       "      <th>restecg</th>\n",
       "      <td>-0.111590</td>\n",
       "      <td>-0.060351</td>\n",
       "      <td>0.041561</td>\n",
       "      <td>-0.115367</td>\n",
       "      <td>-0.147602</td>\n",
       "      <td>-0.083081</td>\n",
       "      <td>1.000000</td>\n",
       "      <td>0.041210</td>\n",
       "      <td>-0.068807</td>\n",
       "      <td>-0.056251</td>\n",
       "      <td>0.090402</td>\n",
       "      <td>-0.083112</td>\n",
       "      <td>-0.010473</td>\n",
       "      <td>0.134874</td>\n",
       "    </tr>\n",
       "    <tr>\n",
       "      <th>thalachh</th>\n",
       "      <td>-0.395235</td>\n",
       "      <td>-0.046439</td>\n",
       "      <td>0.293367</td>\n",
       "      <td>-0.048023</td>\n",
       "      <td>-0.005308</td>\n",
       "      <td>-0.007169</td>\n",
       "      <td>0.041210</td>\n",
       "      <td>1.000000</td>\n",
       "      <td>-0.377411</td>\n",
       "      <td>-0.342201</td>\n",
       "      <td>0.384754</td>\n",
       "      <td>-0.228311</td>\n",
       "      <td>-0.094910</td>\n",
       "      <td>0.419955</td>\n",
       "    </tr>\n",
       "    <tr>\n",
       "      <th>exng</th>\n",
       "      <td>0.093216</td>\n",
       "      <td>0.143460</td>\n",
       "      <td>-0.392937</td>\n",
       "      <td>0.068526</td>\n",
       "      <td>0.064099</td>\n",
       "      <td>0.024729</td>\n",
       "      <td>-0.068807</td>\n",
       "      <td>-0.377411</td>\n",
       "      <td>1.000000</td>\n",
       "      <td>0.286766</td>\n",
       "      <td>-0.256106</td>\n",
       "      <td>0.125377</td>\n",
       "      <td>0.205826</td>\n",
       "      <td>-0.435601</td>\n",
       "    </tr>\n",
       "    <tr>\n",
       "      <th>oldpeak</th>\n",
       "      <td>0.206040</td>\n",
       "      <td>0.098322</td>\n",
       "      <td>-0.146692</td>\n",
       "      <td>0.194600</td>\n",
       "      <td>0.050086</td>\n",
       "      <td>0.004514</td>\n",
       "      <td>-0.056251</td>\n",
       "      <td>-0.342201</td>\n",
       "      <td>0.286766</td>\n",
       "      <td>1.000000</td>\n",
       "      <td>-0.576314</td>\n",
       "      <td>0.236560</td>\n",
       "      <td>0.209090</td>\n",
       "      <td>-0.429146</td>\n",
       "    </tr>\n",
       "    <tr>\n",
       "      <th>slp</th>\n",
       "      <td>-0.164124</td>\n",
       "      <td>-0.032990</td>\n",
       "      <td>0.116854</td>\n",
       "      <td>-0.122873</td>\n",
       "      <td>0.000417</td>\n",
       "      <td>-0.058654</td>\n",
       "      <td>0.090402</td>\n",
       "      <td>0.384754</td>\n",
       "      <td>-0.256106</td>\n",
       "      <td>-0.576314</td>\n",
       "      <td>1.000000</td>\n",
       "      <td>-0.092236</td>\n",
       "      <td>-0.103314</td>\n",
       "      <td>0.343940</td>\n",
       "    </tr>\n",
       "    <tr>\n",
       "      <th>caa</th>\n",
       "      <td>0.302261</td>\n",
       "      <td>0.113060</td>\n",
       "      <td>-0.195356</td>\n",
       "      <td>0.099248</td>\n",
       "      <td>0.086878</td>\n",
       "      <td>0.144935</td>\n",
       "      <td>-0.083112</td>\n",
       "      <td>-0.228311</td>\n",
       "      <td>0.125377</td>\n",
       "      <td>0.236560</td>\n",
       "      <td>-0.092236</td>\n",
       "      <td>1.000000</td>\n",
       "      <td>0.160085</td>\n",
       "      <td>-0.408992</td>\n",
       "    </tr>\n",
       "    <tr>\n",
       "      <th>thall</th>\n",
       "      <td>0.065317</td>\n",
       "      <td>0.211452</td>\n",
       "      <td>-0.160370</td>\n",
       "      <td>0.062870</td>\n",
       "      <td>0.096810</td>\n",
       "      <td>-0.032752</td>\n",
       "      <td>-0.010473</td>\n",
       "      <td>-0.094910</td>\n",
       "      <td>0.205826</td>\n",
       "      <td>0.209090</td>\n",
       "      <td>-0.103314</td>\n",
       "      <td>0.160085</td>\n",
       "      <td>1.000000</td>\n",
       "      <td>-0.343101</td>\n",
       "    </tr>\n",
       "    <tr>\n",
       "      <th>output</th>\n",
       "      <td>-0.221476</td>\n",
       "      <td>-0.283609</td>\n",
       "      <td>0.432080</td>\n",
       "      <td>-0.146269</td>\n",
       "      <td>-0.081437</td>\n",
       "      <td>-0.026826</td>\n",
       "      <td>0.134874</td>\n",
       "      <td>0.419955</td>\n",
       "      <td>-0.435601</td>\n",
       "      <td>-0.429146</td>\n",
       "      <td>0.343940</td>\n",
       "      <td>-0.408992</td>\n",
       "      <td>-0.343101</td>\n",
       "      <td>1.000000</td>\n",
       "    </tr>\n",
       "  </tbody>\n",
       "</table>\n",
       "</div>"
      ],
      "text/plain": [
       "               age       sex        cp    trtbps      chol       fbs  \\\n",
       "age       1.000000 -0.094962 -0.063107  0.283121  0.207216  0.119492   \n",
       "sex      -0.094962  1.000000 -0.051740 -0.057647 -0.195571  0.046022   \n",
       "cp       -0.063107 -0.051740  1.000000  0.046486 -0.072682  0.096018   \n",
       "trtbps    0.283121 -0.057647  0.046486  1.000000  0.125256  0.178125   \n",
       "chol      0.207216 -0.195571 -0.072682  0.125256  1.000000  0.011428   \n",
       "fbs       0.119492  0.046022  0.096018  0.178125  0.011428  1.000000   \n",
       "restecg  -0.111590 -0.060351  0.041561 -0.115367 -0.147602 -0.083081   \n",
       "thalachh -0.395235 -0.046439  0.293367 -0.048023 -0.005308 -0.007169   \n",
       "exng      0.093216  0.143460 -0.392937  0.068526  0.064099  0.024729   \n",
       "oldpeak   0.206040  0.098322 -0.146692  0.194600  0.050086  0.004514   \n",
       "slp      -0.164124 -0.032990  0.116854 -0.122873  0.000417 -0.058654   \n",
       "caa       0.302261  0.113060 -0.195356  0.099248  0.086878  0.144935   \n",
       "thall     0.065317  0.211452 -0.160370  0.062870  0.096810 -0.032752   \n",
       "output   -0.221476 -0.283609  0.432080 -0.146269 -0.081437 -0.026826   \n",
       "\n",
       "           restecg  thalachh      exng   oldpeak       slp       caa  \\\n",
       "age      -0.111590 -0.395235  0.093216  0.206040 -0.164124  0.302261   \n",
       "sex      -0.060351 -0.046439  0.143460  0.098322 -0.032990  0.113060   \n",
       "cp        0.041561  0.293367 -0.392937 -0.146692  0.116854 -0.195356   \n",
       "trtbps   -0.115367 -0.048023  0.068526  0.194600 -0.122873  0.099248   \n",
       "chol     -0.147602 -0.005308  0.064099  0.050086  0.000417  0.086878   \n",
       "fbs      -0.083081 -0.007169  0.024729  0.004514 -0.058654  0.144935   \n",
       "restecg   1.000000  0.041210 -0.068807 -0.056251  0.090402 -0.083112   \n",
       "thalachh  0.041210  1.000000 -0.377411 -0.342201  0.384754 -0.228311   \n",
       "exng     -0.068807 -0.377411  1.000000  0.286766 -0.256106  0.125377   \n",
       "oldpeak  -0.056251 -0.342201  0.286766  1.000000 -0.576314  0.236560   \n",
       "slp       0.090402  0.384754 -0.256106 -0.576314  1.000000 -0.092236   \n",
       "caa      -0.083112 -0.228311  0.125377  0.236560 -0.092236  1.000000   \n",
       "thall    -0.010473 -0.094910  0.205826  0.209090 -0.103314  0.160085   \n",
       "output    0.134874  0.419955 -0.435601 -0.429146  0.343940 -0.408992   \n",
       "\n",
       "             thall    output  \n",
       "age       0.065317 -0.221476  \n",
       "sex       0.211452 -0.283609  \n",
       "cp       -0.160370  0.432080  \n",
       "trtbps    0.062870 -0.146269  \n",
       "chol      0.096810 -0.081437  \n",
       "fbs      -0.032752 -0.026826  \n",
       "restecg  -0.010473  0.134874  \n",
       "thalachh -0.094910  0.419955  \n",
       "exng      0.205826 -0.435601  \n",
       "oldpeak   0.209090 -0.429146  \n",
       "slp      -0.103314  0.343940  \n",
       "caa       0.160085 -0.408992  \n",
       "thall     1.000000 -0.343101  \n",
       "output   -0.343101  1.000000  "
      ]
     },
     "execution_count": 12,
     "metadata": {},
     "output_type": "execute_result"
    }
   ],
   "source": [
    "# check correlations between all variables\n",
    "data.corr()"
   ]
  },
  {
   "attachments": {},
   "cell_type": "markdown",
   "id": "gross-hypothetical",
   "metadata": {
    "papermill": {
     "duration": 0.062432,
     "end_time": "2021-06-24T05:19:32.879665",
     "exception": false,
     "start_time": "2021-06-24T05:19:32.817233",
     "status": "completed"
    },
    "tags": []
   },
   "source": [
    "Visualise the correlation matrix to see whether the features are positively or negatively correlated with the target (output)."
   ]
  },
  {
   "cell_type": "code",
   "execution_count": 13,
   "id": "fleet-dairy",
   "metadata": {
    "execution": {
     "iopub.execute_input": "2021-06-24T05:19:33.007670Z",
     "iopub.status.busy": "2021-06-24T05:19:33.006696Z",
     "iopub.status.idle": "2021-06-24T05:19:34.263078Z",
     "shell.execute_reply": "2021-06-24T05:19:34.263769Z",
     "shell.execute_reply.started": "2021-06-24T04:45:59.064325Z"
    },
    "papermill": {
     "duration": 1.322501,
     "end_time": "2021-06-24T05:19:34.263976",
     "exception": false,
     "start_time": "2021-06-24T05:19:32.941475",
     "status": "completed"
    },
    "tags": []
   },
   "outputs": [
    {
     "data": {
      "image/png": "[encoded data removed]",
      "text/plain": [
       "<Figure size 936x504 with 2 Axes>"
      ]
     },
     "metadata": {},
     "output_type": "display_data"
    }
   ],
   "source": [
    "# plot corr function\n",
    "plt.figure(figsize = (13, 7))\n",
    "ax = sns.heatmap(data.corr(), vmin = -1, vmax = 1, center = 0, cmap = sns.diverging_palette(20, 220, n = 200), annot = True)\n",
    "ax.set_xticklabels(ax.get_xticklabels(), rotation = 45, horizontalalignment = 'right')\n",
    "plt.show()"
   ]
  },
  {
   "attachments": {},
   "cell_type": "markdown",
   "id": "biblical-wrong",
   "metadata": {
    "papermill": {
     "duration": 0.067232,
     "end_time": "2021-06-24T05:19:34.399979",
     "exception": false,
     "start_time": "2021-06-24T05:19:34.332747",
     "status": "completed"
    },
    "tags": []
   },
   "source": [
    "So there is a positive correlation between chest pain (cp) and the target. On the other hand there is a negative correlation between exercise induced angina (exang) and the target."
   ]
  },
  {
   "attachments": {},
   "cell_type": "markdown",
   "id": "exciting-taylor",
   "metadata": {
    "papermill": {
     "duration": 0.068344,
     "end_time": "2021-06-24T05:19:34.534253",
     "exception": false,
     "start_time": "2021-06-24T05:19:34.465909",
     "status": "completed"
    },
    "tags": []
   },
   "source": [
    "# Data Visualisation"
   ]
  },
  {
   "cell_type": "code",
   "execution_count": 14,
   "id": "qualified-wound",
   "metadata": {
    "execution": {
     "iopub.execute_input": "2021-06-24T05:19:34.672351Z",
     "iopub.status.busy": "2021-06-24T05:19:34.671635Z",
     "iopub.status.idle": "2021-06-24T05:19:35.548903Z",
     "shell.execute_reply": "2021-06-24T05:19:35.548360Z",
     "shell.execute_reply.started": "2021-06-24T04:46:00.379940Z"
    },
    "papermill": {
     "duration": 0.946834,
     "end_time": "2021-06-24T05:19:35.549057",
     "exception": false,
     "start_time": "2021-06-24T05:19:34.602223",
     "status": "completed"
    },
    "tags": []
   },
   "outputs": [
    {
     "data": {
      "image/png": "[encoded data removed]",
      "text/plain": [
       "<Figure size 1080x576 with 1 Axes>"
      ]
     },
     "metadata": {},
     "output_type": "display_data"
    }
   ],
   "source": [
    "plt.figure(figsize = (15, 8))\n",
    "sns.countplot(x = 'age', hue = 'output', data = data).set_title('Heart Disease Frequency for Ages')\n",
    "plt.legend(title = 'Output', loc = 'upper right', labels = ['No Heart Disease', 'Hvae Heart Disease'])\n",
    "plt.show()"
   ]
  },
  {
   "cell_type": "code",
   "execution_count": 15,
   "id": "rocky-border",
   "metadata": {
    "execution": {
     "iopub.execute_input": "2021-06-24T05:19:35.695970Z",
     "iopub.status.busy": "2021-06-24T05:19:35.694947Z",
     "iopub.status.idle": "2021-06-24T05:19:35.864570Z",
     "shell.execute_reply": "2021-06-24T05:19:35.865035Z",
     "shell.execute_reply.started": "2021-06-24T04:46:01.036236Z"
    },
    "papermill": {
     "duration": 0.248082,
     "end_time": "2021-06-24T05:19:35.865216",
     "exception": false,
     "start_time": "2021-06-24T05:19:35.617134",
     "status": "completed"
    },
    "tags": []
   },
   "outputs": [
    {
     "data": {
      "image/png": "[encoded data removed]",
      "text/plain": [
       "<Figure size 1080x576 with 1 Axes>"
      ]
     },
     "metadata": {},
     "output_type": "display_data"
    }
   ],
   "source": [
    "plt.figure(figsize = (15, 8))\n",
    "ax = sns.countplot(x = 'sex', hue = 'output', data = data)\n",
    "ax.set_xticklabels(['Female', 'Male'])\n",
    "ax.set_title('Heart Disease Frequency for Gender')\n",
    "plt.legend(title = 'Output', loc = 'upper left', labels = ['No Heart Disease', 'Hvae Heart Disease'])\n",
    "plt.xlabel('Gender')\n",
    "plt.show()"
   ]
  },
  {
   "cell_type": "code",
   "execution_count": 16,
   "id": "german-basic",
   "metadata": {
    "execution": {
     "iopub.execute_input": "2021-06-24T05:19:36.005982Z",
     "iopub.status.busy": "2021-06-24T05:19:36.004927Z",
     "iopub.status.idle": "2021-06-24T05:19:36.186262Z",
     "shell.execute_reply": "2021-06-24T05:19:36.186745Z",
     "shell.execute_reply.started": "2021-06-24T04:46:01.216112Z"
    },
    "papermill": {
     "duration": 0.25371,
     "end_time": "2021-06-24T05:19:36.186922",
     "exception": false,
     "start_time": "2021-06-24T05:19:35.933212",
     "status": "completed"
    },
    "tags": []
   },
   "outputs": [
    {
     "data": {
      "image/png": "[encoded data removed]",
      "text/plain": [
       "<Figure size 1080x576 with 1 Axes>"
      ]
     },
     "metadata": {},
     "output_type": "display_data"
    }
   ],
   "source": [
    "plt.figure(figsize = (15, 8))\n",
    "ax = sns.countplot(x = 'sex', hue = 'output', data = data)\n",
    "ax.set_xticklabels(['Female', 'Male'])\n",
    "ax.set_title('Heart Disease Frequency for Gender')\n",
    "plt.legend(title = 'Output', loc = 'upper left', labels = ['No Heart Disease', 'Hvae Heart Disease'])\n",
    "plt.xlabel('Gender')\n",
    "plt.show()"
   ]
  },
  {
   "cell_type": "code",
   "execution_count": 17,
   "id": "identical-adolescent",
   "metadata": {
    "execution": {
     "iopub.execute_input": "2021-06-24T05:19:36.330754Z",
     "iopub.status.busy": "2021-06-24T05:19:36.329764Z",
     "iopub.status.idle": "2021-06-24T05:19:36.540409Z",
     "shell.execute_reply": "2021-06-24T05:19:36.540851Z",
     "shell.execute_reply.started": "2021-06-24T04:46:01.623015Z"
    },
    "papermill": {
     "duration": 0.283641,
     "end_time": "2021-06-24T05:19:36.541053",
     "exception": false,
     "start_time": "2021-06-24T05:19:36.257412",
     "status": "completed"
    },
    "tags": []
   },
   "outputs": [
    {
     "data": {
      "image/png": "[encoded data removed]",
      "text/plain": [
       "<Figure size 1080x576 with 1 Axes>"
      ]
     },
     "metadata": {},
     "output_type": "display_data"
    }
   ],
   "source": [
    "# plt.figure(figsize = (55, 10))\n",
    "plt.figure(figsize = (15, 8))\n",
    "ax = sns.countplot(x = 'cp', hue = 'output', data = data)\n",
    "ax.set_xticklabels(['Typical Angina', 'Atypical angina', 'Non-Anginal Pain', 'Asymptomatic'])\n",
    "ax.set_title('Heart Disease Frequency According to Chest Pain Type')\n",
    "plt.legend(title = 'Output', loc = 'upper right', labels = ['No Heart Disease', 'Have Heart Disease'])\n",
    "plt.xlabel('Chest Pain Type')\n",
    "plt.show()"
   ]
  },
  {
   "attachments": {},
   "cell_type": "markdown",
   "id": "hairy-profession",
   "metadata": {
    "papermill": {
     "duration": 0.070451,
     "end_time": "2021-06-24T05:19:36.681221",
     "exception": false,
     "start_time": "2021-06-24T05:19:36.610770",
     "status": "completed"
    },
    "tags": []
   },
   "source": [
    "Most of the Heart Disease patients are found to have asymptomatic chest pain. These group of people might show atypical symptoms like indigestion, flu or a strained chest muscle."
   ]
  },
  {
   "cell_type": "code",
   "execution_count": 18,
   "id": "practical-peripheral",
   "metadata": {
    "execution": {
     "iopub.execute_input": "2021-06-24T05:19:36.826166Z",
     "iopub.status.busy": "2021-06-24T05:19:36.825222Z",
     "iopub.status.idle": "2021-06-24T05:19:37.016571Z",
     "shell.execute_reply": "2021-06-24T05:19:37.017041Z",
     "shell.execute_reply.started": "2021-06-24T04:46:02.431928Z"
    },
    "papermill": {
     "duration": 0.265747,
     "end_time": "2021-06-24T05:19:37.017232",
     "exception": false,
     "start_time": "2021-06-24T05:19:36.751485",
     "status": "completed"
    },
    "tags": []
   },
   "outputs": [
    {
     "data": {
      "image/png": "[encoded data removed]",
      "text/plain": [
       "<Figure size 1080x576 with 1 Axes>"
      ]
     },
     "metadata": {},
     "output_type": "display_data"
    }
   ],
   "source": [
    "plt.figure(figsize = (15, 8))\n",
    "ax = sns.countplot(x = 'fbs', hue = 'output', data = data)\n",
    "ax.set_xticklabels(['False', 'True'])\n",
    "ax.set_title('Heart Disease Frequency According to Fasting Blood Sugar')\n",
    "plt.legend(title = 'Output', loc = 'upper right', labels = ['No Heart Disease', 'Hvae Heart Disease'])\n",
    "plt.xlabel('Fasting Blood Sugar > 120 mg/dl')\n",
    "plt.show()"
   ]
  },
  {
   "cell_type": "code",
   "execution_count": 19,
   "id": "great-lincoln",
   "metadata": {
    "execution": {
     "iopub.execute_input": "2021-06-24T05:19:37.164026Z",
     "iopub.status.busy": "2021-06-24T05:19:37.163077Z",
     "iopub.status.idle": "2021-06-24T05:19:37.351963Z",
     "shell.execute_reply": "2021-06-24T05:19:37.352464Z",
     "shell.execute_reply.started": "2021-06-24T04:46:02.985336Z"
    },
    "papermill": {
     "duration": 0.263942,
     "end_time": "2021-06-24T05:19:37.352633",
     "exception": false,
     "start_time": "2021-06-24T05:19:37.088691",
     "status": "completed"
    },
    "tags": []
   },
   "outputs": [
    {
     "data": {
      "image/png": "[encoded data removed]",
      "text/plain": [
       "<Figure size 1080x576 with 1 Axes>"
      ]
     },
     "metadata": {},
     "output_type": "display_data"
    }
   ],
   "source": [
    "plt.figure(figsize = (15, 8))\n",
    "ax = sns.countplot(x = 'slp', hue = 'output', data = data)\n",
    "ax.set_xticklabels(['Up', 'Flat', 'Down'])\n",
    "ax.set_title('Heart Disease Frequency According to Fasting Blood Sugar')\n",
    "plt.legend(title = 'Output', loc = 'upper left', labels = ['No Heart Disease', 'Hvae Heart Disease'])\n",
    "plt.xlabel('ST Segment')\n",
    "plt.show()"
   ]
  },
  {
   "cell_type": "code",
   "execution_count": 20,
   "id": "pediatric-impression",
   "metadata": {
    "execution": {
     "iopub.execute_input": "2021-06-24T05:19:37.507456Z",
     "iopub.status.busy": "2021-06-24T05:19:37.506664Z",
     "iopub.status.idle": "2021-06-24T05:19:37.703552Z",
     "shell.execute_reply": "2021-06-24T05:19:37.702929Z",
     "shell.execute_reply.started": "2021-06-24T04:46:03.235984Z"
    },
    "papermill": {
     "duration": 0.279381,
     "end_time": "2021-06-24T05:19:37.703685",
     "exception": false,
     "start_time": "2021-06-24T05:19:37.424304",
     "status": "completed"
    },
    "tags": []
   },
   "outputs": [
    {
     "data": {
      "image/png": "[encoded data removed]",
      "text/plain": [
       "<Figure size 1080x576 with 1 Axes>"
      ]
     },
     "metadata": {},
     "output_type": "display_data"
    }
   ],
   "source": [
    "plt.figure(figsize = (15, 8))\n",
    "ax = sns.countplot(x = 'thall', hue = 'sex', data = data)\n",
    "ax.set_xticklabels(['No Info', 'Fixed Defect', 'Normal', 'Reversible Defect'])\n",
    "ax.set_title('Heart Disease Frequency According to Blood Disorder')\n",
    "plt.legend(title = 'Gender', loc = 'upper left', labels = ['Female', 'Male'])\n",
    "plt.xlabel('ST Segment')\n",
    "plt.xlabel('Gender')\n",
    "plt.show()"
   ]
  },
  {
   "attachments": {},
   "cell_type": "markdown",
   "id": "silent-examination",
   "metadata": {
    "papermill": {
     "duration": 0.072954,
     "end_time": "2021-06-24T05:19:37.850782",
     "exception": false,
     "start_time": "2021-06-24T05:19:37.777828",
     "status": "completed"
    },
    "tags": []
   },
   "source": [
    "# Data Preprocessing"
   ]
  },
  {
   "attachments": {},
   "cell_type": "markdown",
   "id": "electrical-speed",
   "metadata": {
    "papermill": {
     "duration": 0.073796,
     "end_time": "2021-06-24T05:19:37.999158",
     "exception": false,
     "start_time": "2021-06-24T05:19:37.925362",
     "status": "completed"
    },
    "tags": []
   },
   "source": [
    "Before providing the dataset to any model, it is essential to check outliers and transform it so that its distribution will have a mean of 0 and a standard deviation of 1."
   ]
  },
  {
   "attachments": {},
   "cell_type": "markdown",
   "id": "enhanced-sunday",
   "metadata": {
    "papermill": {
     "duration": 0.073412,
     "end_time": "2021-06-24T05:19:38.146689",
     "exception": false,
     "start_time": "2021-06-24T05:19:38.073277",
     "status": "completed"
    },
    "tags": []
   },
   "source": [
    "### Outliers Detection"
   ]
  },
  {
   "cell_type": "code",
   "execution_count": 21,
   "id": "cardiovascular-syntax",
   "metadata": {
    "execution": {
     "iopub.execute_input": "2021-06-24T05:19:38.306178Z",
     "iopub.status.busy": "2021-06-24T05:19:38.305220Z",
     "iopub.status.idle": "2021-06-24T05:19:40.112024Z",
     "shell.execute_reply": "2021-06-24T05:19:40.111457Z",
     "shell.execute_reply.started": "2021-06-24T04:46:12.387900Z"
    },
    "papermill": {
     "duration": 1.891183,
     "end_time": "2021-06-24T05:19:40.112164",
     "exception": false,
     "start_time": "2021-06-24T05:19:38.220981",
     "status": "completed"
    },
    "tags": []
   },
   "outputs": [
    {
     "data": {
      "text/plain": [
       "<AxesSubplot:xlabel='thall'>"
      ]
     },
     "execution_count": 21,
     "metadata": {},
     "output_type": "execute_result"
    },
    {
     "data": {
      "image/png": "[encoded data removed]",
      "text/plain": [
       "<Figure size 1224x1080 with 12 Axes>"
      ]
     },
     "metadata": {},
     "output_type": "display_data"
    }
   ],
   "source": [
    "fig, axes = plt.subplots(4, 3, figsize = (17, 15))\n",
    "fig.suptitle('Outliers Detection')\n",
    "sns.boxplot(ax = axes[0,0], x = data['age'])\n",
    "sns.boxplot(ax = axes[0,1], x = data['cp'])\n",
    "sns.boxplot(ax = axes[0,2], x = data['trtbps'])\n",
    "sns.boxplot(ax = axes[1,0], x = data['chol'])\n",
    "sns.boxplot(ax = axes[1,1], x = data['fbs'])\n",
    "sns.boxplot(ax = axes[1,2], x = data['restecg'])\n",
    "sns.boxplot(ax = axes[2,0], x = data['thalachh'])\n",
    "sns.boxplot(ax = axes[2,1], x = data['oldpeak'])\n",
    "sns.boxplot(ax = axes[2,2], x = data['slp'])\n",
    "sns.boxplot(ax = axes[3,0], x = data['caa'])\n",
    "sns.boxplot(ax = axes[3,1], x = data['thall'])"
   ]
  },
  {
   "attachments": {},
   "cell_type": "markdown",
   "id": "positive-convergence",
   "metadata": {
    "papermill": {
     "duration": 0.074845,
     "end_time": "2021-06-24T05:19:40.263711",
     "exception": false,
     "start_time": "2021-06-24T05:19:40.188866",
     "status": "completed"
    },
    "tags": []
   },
   "source": [
    "From the above box plots, outliers are present in trtbps, chol, thalachh, oldpeak, caa, thall. Yet, I'm not going to remove them because of the sensitivity and risk of medical data as it's different than the other kind of data. The exclusion of outliers has a dramatic impact on the type I error."
   ]
  },
  {
   "attachments": {},
   "cell_type": "markdown",
   "id": "green-mouth",
   "metadata": {
    "papermill": {
     "duration": 0.075013,
     "end_time": "2021-06-24T05:19:40.415633",
     "exception": false,
     "start_time": "2021-06-24T05:19:40.340620",
     "status": "completed"
    },
    "tags": []
   },
   "source": [
    "### Normalisation"
   ]
  },
  {
   "attachments": {},
   "cell_type": "markdown",
   "id": "pointed-arctic",
   "metadata": {
    "papermill": {
     "duration": 0.074682,
     "end_time": "2021-06-24T05:19:40.565177",
     "exception": false,
     "start_time": "2021-06-24T05:19:40.490495",
     "status": "completed"
    },
    "tags": []
   },
   "source": [
    "Since most of the machine learning algorithms use Euclidean distance between two data points in their computations, this is a problem. To suppress this effect, we need to bring all features to the same level of magnitudes. This can be achieved by a method called feature scaling."
   ]
  },
  {
   "cell_type": "code",
   "execution_count": 22,
   "id": "prepared-combat",
   "metadata": {
    "execution": {
     "iopub.execute_input": "2021-06-24T05:19:40.720070Z",
     "iopub.status.busy": "2021-06-24T05:19:40.719421Z",
     "iopub.status.idle": "2021-06-24T05:19:40.722268Z",
     "shell.execute_reply": "2021-06-24T05:19:40.722712Z",
     "shell.execute_reply.started": "2021-06-24T04:46:17.382636Z"
    },
    "papermill": {
     "duration": 0.08264,
     "end_time": "2021-06-24T05:19:40.722896",
     "exception": false,
     "start_time": "2021-06-24T05:19:40.640256",
     "status": "completed"
    },
    "tags": []
   },
   "outputs": [],
   "source": [
    "# create a new dataframe for normalised dataset\n",
    "normalised_data = data.copy()"
   ]
  },
  {
   "cell_type": "code",
   "execution_count": 23,
   "id": "proof-replication",
   "metadata": {
    "execution": {
     "iopub.execute_input": "2021-06-24T05:19:40.879292Z",
     "iopub.status.busy": "2021-06-24T05:19:40.878615Z",
     "iopub.status.idle": "2021-06-24T05:19:40.882351Z",
     "shell.execute_reply": "2021-06-24T05:19:40.881790Z",
     "shell.execute_reply.started": "2021-06-24T04:46:17.882787Z"
    },
    "papermill": {
     "duration": 0.0832,
     "end_time": "2021-06-24T05:19:40.882496",
     "exception": false,
     "start_time": "2021-06-24T05:19:40.799296",
     "status": "completed"
    },
    "tags": []
   },
   "outputs": [],
   "source": [
    "columns_to_scale = ['age', 'trtbps', 'chol', 'thalachh', 'oldpeak']"
   ]
  },
  {
   "cell_type": "code",
   "execution_count": 24,
   "id": "departmental-choice",
   "metadata": {
    "execution": {
     "iopub.execute_input": "2021-06-24T05:19:41.048100Z",
     "iopub.status.busy": "2021-06-24T05:19:41.046943Z",
     "iopub.status.idle": "2021-06-24T05:19:41.050751Z",
     "shell.execute_reply": "2021-06-24T05:19:41.051237Z",
     "shell.execute_reply.started": "2021-06-24T04:46:18.210388Z"
    },
    "papermill": {
     "duration": 0.093044,
     "end_time": "2021-06-24T05:19:41.051421",
     "exception": false,
     "start_time": "2021-06-24T05:19:40.958377",
     "status": "completed"
    },
    "tags": []
   },
   "outputs": [],
   "source": [
    "ss = StandardScaler()\n",
    "normalised_data[columns_to_scale] = ss.fit_transform(normalised_data[columns_to_scale])"
   ]
  },
  {
   "attachments": {},
   "cell_type": "markdown",
   "id": "heavy-batman",
   "metadata": {
    "papermill": {
     "duration": 0.076818,
     "end_time": "2021-06-24T05:19:41.204613",
     "exception": false,
     "start_time": "2021-06-24T05:19:41.127795",
     "status": "completed"
    },
    "tags": []
   },
   "source": [
    "# Modelling"
   ]
  },
  {
   "attachments": {},
   "cell_type": "markdown",
   "id": "innocent-constraint",
   "metadata": {
    "papermill": {
     "duration": 0.096834,
     "end_time": "2021-06-24T05:19:41.377654",
     "exception": false,
     "start_time": "2021-06-24T05:19:41.280820",
     "status": "completed"
    },
    "tags": []
   },
   "source": [
    "In this notebook 5 different machine learning algorithms will be evaluated on the dataset for prediction analysis: \n",
    "\n",
    "1. Logistic Regression (Logistic)\n",
    "1. Naive Bayes (NaiveBayes)\n",
    "1. Classification and Regression Trees or CART (REPTree)\n",
    "1. k-Nearest Neighbors or KNN (IBk)\n",
    "1. Support Vector Machines or SVM (SMO)\n",
    "1. Random Forest and Desion Trees\n",
    "1. XGBoost\n",
    "\n",
    "Each algorithm will be evaluated using classification accuracy, to measure the performance of each model. First step in the data modelling is to label the dataset with X (matrix of independent variables) and y (vector of the dependent variable). Then create an instance of the model to train and fit the model, then calculate predictions of test set in order to get the classification report."
   ]
  },
  {
   "cell_type": "code",
   "execution_count": 25,
   "id": "governing-shareware",
   "metadata": {
    "execution": {
     "iopub.execute_input": "2021-06-24T05:19:41.545255Z",
     "iopub.status.busy": "2021-06-24T05:19:41.544518Z",
     "iopub.status.idle": "2021-06-24T05:19:41.547210Z",
     "shell.execute_reply": "2021-06-24T05:19:41.547656Z",
     "shell.execute_reply.started": "2021-06-24T04:46:22.145578Z"
    },
    "papermill": {
     "duration": 0.084642,
     "end_time": "2021-06-24T05:19:41.547838",
     "exception": false,
     "start_time": "2021-06-24T05:19:41.463196",
     "status": "completed"
    },
    "tags": []
   },
   "outputs": [],
   "source": [
    "# label data into feature data and target data\n",
    "X = normalised_data.iloc[:, :-1]\n",
    "y = normalised_data.iloc[:, -1]"
   ]
  },
  {
   "cell_type": "code",
   "execution_count": 26,
   "id": "announced-incentive",
   "metadata": {
    "execution": {
     "iopub.execute_input": "2021-06-24T05:19:41.704988Z",
     "iopub.status.busy": "2021-06-24T05:19:41.703618Z",
     "iopub.status.idle": "2021-06-24T05:19:41.708232Z",
     "shell.execute_reply": "2021-06-24T05:19:41.707572Z",
     "shell.execute_reply.started": "2021-06-24T04:46:22.726007Z"
    },
    "papermill": {
     "duration": 0.08544,
     "end_time": "2021-06-24T05:19:41.708382",
     "exception": false,
     "start_time": "2021-06-24T05:19:41.622942",
     "status": "completed"
    },
    "tags": []
   },
   "outputs": [],
   "source": [
    "# split dataset into training and test set\n",
    "X_train, X_test, y_train, y_test = train_test_split(X, y, test_size = 0.2, random_state = 42)"
   ]
  },
  {
   "attachments": {},
   "cell_type": "markdown",
   "id": "alert-trust",
   "metadata": {
    "papermill": {
     "duration": 0.075495,
     "end_time": "2021-06-24T05:19:41.860482",
     "exception": false,
     "start_time": "2021-06-24T05:19:41.784987",
     "status": "completed"
    },
    "tags": []
   },
   "source": [
    "## Logistic Regression"
   ]
  },
  {
   "cell_type": "code",
   "execution_count": 27,
   "id": "senior-accessory",
   "metadata": {
    "execution": {
     "iopub.execute_input": "2021-06-24T05:19:42.017210Z",
     "iopub.status.busy": "2021-06-24T05:19:42.016179Z",
     "iopub.status.idle": "2021-06-24T05:19:42.018778Z",
     "shell.execute_reply": "2021-06-24T05:19:42.019246Z",
     "shell.execute_reply.started": "2021-06-24T04:46:24.206942Z"
    },
    "papermill": {
     "duration": 0.08375,
     "end_time": "2021-06-24T05:19:42.019425",
     "exception": false,
     "start_time": "2021-06-24T05:19:41.935675",
     "status": "completed"
    },
    "tags": []
   },
   "outputs": [],
   "source": [
    "# create instance of model\n",
    "lr = LogisticRegression(random_state = 42) "
   ]
  },
  {
   "cell_type": "code",
   "execution_count": 28,
   "id": "facial-syracuse",
   "metadata": {
    "execution": {
     "iopub.execute_input": "2021-06-24T05:19:42.191659Z",
     "iopub.status.busy": "2021-06-24T05:19:42.176540Z",
     "iopub.status.idle": "2021-06-24T05:19:42.199354Z",
     "shell.execute_reply": "2021-06-24T05:19:42.198807Z",
     "shell.execute_reply.started": "2021-06-24T04:46:24.886481Z"
    },
    "papermill": {
     "duration": 0.104455,
     "end_time": "2021-06-24T05:19:42.199498",
     "exception": false,
     "start_time": "2021-06-24T05:19:42.095043",
     "status": "completed"
    },
    "tags": []
   },
   "outputs": [
    {
     "data": {
      "text/plain": [
       "LogisticRegression(random_state=42)"
      ]
     },
     "execution_count": 28,
     "metadata": {},
     "output_type": "execute_result"
    }
   ],
   "source": [
    "# train the model \n",
    "lr.fit(X_train, y_train)"
   ]
  },
  {
   "cell_type": "code",
   "execution_count": 29,
   "id": "pleasant-nutrition",
   "metadata": {
    "execution": {
     "iopub.execute_input": "2021-06-24T05:19:42.358405Z",
     "iopub.status.busy": "2021-06-24T05:19:42.357493Z",
     "iopub.status.idle": "2021-06-24T05:19:42.360713Z",
     "shell.execute_reply": "2021-06-24T05:19:42.360134Z",
     "shell.execute_reply.started": "2021-06-24T04:46:26.227716Z"
    },
    "papermill": {
     "duration": 0.085558,
     "end_time": "2021-06-24T05:19:42.360848",
     "exception": false,
     "start_time": "2021-06-24T05:19:42.275290",
     "status": "completed"
    },
    "tags": []
   },
   "outputs": [],
   "source": [
    "# get y predictions\n",
    "y_pred = lr.predict(X_test)"
   ]
  },
  {
   "cell_type": "code",
   "execution_count": 30,
   "id": "increased-powder",
   "metadata": {
    "execution": {
     "iopub.execute_input": "2021-06-24T05:19:42.518110Z",
     "iopub.status.busy": "2021-06-24T05:19:42.517415Z",
     "iopub.status.idle": "2021-06-24T05:19:42.526845Z",
     "shell.execute_reply": "2021-06-24T05:19:42.526298Z",
     "shell.execute_reply.started": "2021-06-24T04:46:28.294530Z"
    },
    "papermill": {
     "duration": 0.090672,
     "end_time": "2021-06-24T05:19:42.526981",
     "exception": false,
     "start_time": "2021-06-24T05:19:42.436309",
     "status": "completed"
    },
    "tags": []
   },
   "outputs": [
    {
     "name": "stdout",
     "output_type": "stream",
     "text": [
      "              precision    recall  f1-score   support\n",
      "\n",
      "           0       0.81      0.86      0.83        29\n",
      "           1       0.87      0.81      0.84        32\n",
      "\n",
      "    accuracy                           0.84        61\n",
      "   macro avg       0.84      0.84      0.84        61\n",
      "weighted avg       0.84      0.84      0.84        61\n",
      "\n"
     ]
    }
   ],
   "source": [
    "# show performance metrics\n",
    "print(classification_report(y_test, y_pred))"
   ]
  },
  {
   "cell_type": "code",
   "execution_count": 31,
   "id": "august-rogers",
   "metadata": {
    "execution": {
     "iopub.execute_input": "2021-06-24T05:19:42.688375Z",
     "iopub.status.busy": "2021-06-24T05:19:42.687428Z",
     "iopub.status.idle": "2021-06-24T05:19:42.691063Z",
     "shell.execute_reply": "2021-06-24T05:19:42.691739Z"
    },
    "papermill": {
     "duration": 0.088793,
     "end_time": "2021-06-24T05:19:42.691956",
     "exception": false,
     "start_time": "2021-06-24T05:19:42.603163",
     "status": "completed"
    },
    "tags": []
   },
   "outputs": [
    {
     "name": "stdout",
     "output_type": "stream",
     "text": [
      "[[25  4]\n",
      " [ 6 26]]\n"
     ]
    }
   ],
   "source": [
    "# print the confusion matrix\n",
    "print (confusion_matrix(y_test, y_pred))"
   ]
  },
  {
   "attachments": {},
   "cell_type": "markdown",
   "id": "fourth-feedback",
   "metadata": {
    "papermill": {
     "duration": 0.078187,
     "end_time": "2021-06-24T05:19:42.849167",
     "exception": false,
     "start_time": "2021-06-24T05:19:42.770980",
     "status": "completed"
    },
    "tags": []
   },
   "source": [
    "## Naives Bayes"
   ]
  },
  {
   "cell_type": "code",
   "execution_count": 32,
   "id": "ordinary-weapon",
   "metadata": {
    "execution": {
     "iopub.execute_input": "2021-06-24T05:19:43.007643Z",
     "iopub.status.busy": "2021-06-24T05:19:43.006929Z",
     "iopub.status.idle": "2021-06-24T05:19:43.009798Z",
     "shell.execute_reply": "2021-06-24T05:19:43.009192Z",
     "shell.execute_reply.started": "2021-06-24T04:33:46.393288Z"
    },
    "papermill": {
     "duration": 0.084152,
     "end_time": "2021-06-24T05:19:43.009944",
     "exception": false,
     "start_time": "2021-06-24T05:19:42.925792",
     "status": "completed"
    },
    "tags": []
   },
   "outputs": [],
   "source": [
    "# create instance of model\n",
    "nb = GaussianNB()"
   ]
  },
  {
   "cell_type": "code",
   "execution_count": 33,
   "id": "italian-shield",
   "metadata": {
    "execution": {
     "iopub.execute_input": "2021-06-24T05:19:43.171176Z",
     "iopub.status.busy": "2021-06-24T05:19:43.170515Z",
     "iopub.status.idle": "2021-06-24T05:19:43.176784Z",
     "shell.execute_reply": "2021-06-24T05:19:43.176205Z",
     "shell.execute_reply.started": "2021-06-24T04:33:54.477613Z"
    },
    "papermill": {
     "duration": 0.089775,
     "end_time": "2021-06-24T05:19:43.176920",
     "exception": false,
     "start_time": "2021-06-24T05:19:43.087145",
     "status": "completed"
    },
    "tags": []
   },
   "outputs": [
    {
     "data": {
      "text/plain": [
       "GaussianNB()"
      ]
     },
     "execution_count": 33,
     "metadata": {},
     "output_type": "execute_result"
    }
   ],
   "source": [
    "# train the model\n",
    "nb.fit(X_train, y_train)"
   ]
  },
  {
   "cell_type": "code",
   "execution_count": 34,
   "id": "prime-attribute",
   "metadata": {
    "execution": {
     "iopub.execute_input": "2021-06-24T05:19:43.334530Z",
     "iopub.status.busy": "2021-06-24T05:19:43.333592Z",
     "iopub.status.idle": "2021-06-24T05:19:43.339787Z",
     "shell.execute_reply": "2021-06-24T05:19:43.340261Z",
     "shell.execute_reply.started": "2021-06-24T04:33:59.123448Z"
    },
    "papermill": {
     "duration": 0.08645,
     "end_time": "2021-06-24T05:19:43.340436",
     "exception": false,
     "start_time": "2021-06-24T05:19:43.253986",
     "status": "completed"
    },
    "tags": []
   },
   "outputs": [],
   "source": [
    "# get y predictions\n",
    "y_pred = nb.predict(X_test)"
   ]
  },
  {
   "cell_type": "code",
   "execution_count": 35,
   "id": "aware-lloyd",
   "metadata": {
    "execution": {
     "iopub.execute_input": "2021-06-24T05:19:43.499053Z",
     "iopub.status.busy": "2021-06-24T05:19:43.498392Z",
     "iopub.status.idle": "2021-06-24T05:19:43.507102Z",
     "shell.execute_reply": "2021-06-24T05:19:43.506484Z",
     "shell.execute_reply.started": "2021-06-24T04:34:03.701925Z"
    },
    "papermill": {
     "duration": 0.090717,
     "end_time": "2021-06-24T05:19:43.507251",
     "exception": false,
     "start_time": "2021-06-24T05:19:43.416534",
     "status": "completed"
    },
    "tags": []
   },
   "outputs": [
    {
     "name": "stdout",
     "output_type": "stream",
     "text": [
      "              precision    recall  f1-score   support\n",
      "\n",
      "           0       0.84      0.93      0.89        29\n",
      "           1       0.93      0.84      0.89        32\n",
      "\n",
      "    accuracy                           0.89        61\n",
      "   macro avg       0.89      0.89      0.89        61\n",
      "weighted avg       0.89      0.89      0.89        61\n",
      "\n"
     ]
    }
   ],
   "source": [
    "# print performance report\n",
    "print(classification_report(y_test, y_pred))"
   ]
  },
  {
   "cell_type": "code",
   "execution_count": 36,
   "id": "unauthorized-uniform",
   "metadata": {
    "execution": {
     "iopub.execute_input": "2021-06-24T05:19:43.665044Z",
     "iopub.status.busy": "2021-06-24T05:19:43.664361Z",
     "iopub.status.idle": "2021-06-24T05:19:43.670666Z",
     "shell.execute_reply": "2021-06-24T05:19:43.671139Z"
    },
    "papermill": {
     "duration": 0.086945,
     "end_time": "2021-06-24T05:19:43.671318",
     "exception": false,
     "start_time": "2021-06-24T05:19:43.584373",
     "status": "completed"
    },
    "tags": []
   },
   "outputs": [
    {
     "name": "stdout",
     "output_type": "stream",
     "text": [
      "[[27  2]\n",
      " [ 5 27]]\n"
     ]
    }
   ],
   "source": [
    "# print the confusion matrix\n",
    "print (confusion_matrix(y_test, y_pred))"
   ]
  },
  {
   "attachments": {},
   "cell_type": "markdown",
   "id": "acoustic-andorra",
   "metadata": {
    "papermill": {
     "duration": 0.078713,
     "end_time": "2021-06-24T05:19:43.827370",
     "exception": false,
     "start_time": "2021-06-24T05:19:43.748657",
     "status": "completed"
    },
    "tags": []
   },
   "source": [
    "## XGBoost"
   ]
  },
  {
   "cell_type": "code",
   "execution_count": 37,
   "id": "answering-invalid",
   "metadata": {
    "execution": {
     "iopub.execute_input": "2021-06-24T05:19:43.990899Z",
     "iopub.status.busy": "2021-06-24T05:19:43.989855Z",
     "iopub.status.idle": "2021-06-24T05:19:43.993337Z",
     "shell.execute_reply": "2021-06-24T05:19:43.992661Z",
     "shell.execute_reply.started": "2021-06-24T04:34:16.272231Z"
    },
    "papermill": {
     "duration": 0.086744,
     "end_time": "2021-06-24T05:19:43.993483",
     "exception": false,
     "start_time": "2021-06-24T05:19:43.906739",
     "status": "completed"
    },
    "tags": []
   },
   "outputs": [],
   "source": [
    "# create an instance\n",
    "xgb = XGBClassifier(random_state = 42)"
   ]
  },
  {
   "cell_type": "code",
   "execution_count": 38,
   "id": "southeast-transformation",
   "metadata": {
    "execution": {
     "iopub.execute_input": "2021-06-24T05:19:44.156070Z",
     "iopub.status.busy": "2021-06-24T05:19:44.155385Z",
     "iopub.status.idle": "2021-06-24T05:19:44.233552Z",
     "shell.execute_reply": "2021-06-24T05:19:44.232968Z",
     "shell.execute_reply.started": "2021-06-24T04:34:21.018820Z"
    },
    "papermill": {
     "duration": 0.161447,
     "end_time": "2021-06-24T05:19:44.233704",
     "exception": false,
     "start_time": "2021-06-24T05:19:44.072257",
     "status": "completed"
    },
    "tags": []
   },
   "outputs": [
    {
     "name": "stdout",
     "output_type": "stream",
     "text": [
      "[05:19:44] WARNING: ../src/learner.cc:1061: Starting in XGBoost 1.3.0, the default evaluation metric used with the objective 'binary:logistic' was changed from 'error' to 'logloss'. Explicitly set eval_metric if you'd like to restore the old behavior.\n"
     ]
    },
    {
     "data": {
      "text/plain": [
       "XGBClassifier(base_score=0.5, booster='gbtree', colsample_bylevel=1,\n",
       "              colsample_bynode=1, colsample_bytree=1, gamma=0, gpu_id=-1,\n",
       "              importance_type='gain', interaction_constraints='',\n",
       "              learning_rate=0.300000012, max_delta_step=0, max_depth=6,\n",
       "              min_child_weight=1, missing=nan, monotone_constraints='()',\n",
       "              n_estimators=100, n_jobs=4, num_parallel_tree=1, random_state=42,\n",
       "              reg_alpha=0, reg_lambda=1, scale_pos_weight=1, subsample=1,\n",
       "              tree_method='exact', validate_parameters=1, verbosity=None)"
      ]
     },
     "execution_count": 38,
     "metadata": {},
     "output_type": "execute_result"
    }
   ],
   "source": [
    "# train the model\n",
    "xgb.fit(X_train, y_train)"
   ]
  },
  {
   "cell_type": "code",
   "execution_count": 39,
   "id": "divided-folks",
   "metadata": {
    "execution": {
     "iopub.execute_input": "2021-06-24T05:19:44.398314Z",
     "iopub.status.busy": "2021-06-24T05:19:44.397598Z",
     "iopub.status.idle": "2021-06-24T05:19:44.404754Z",
     "shell.execute_reply": "2021-06-24T05:19:44.405279Z",
     "shell.execute_reply.started": "2021-06-24T04:34:26.107150Z"
    },
    "papermill": {
     "duration": 0.09137,
     "end_time": "2021-06-24T05:19:44.405494",
     "exception": false,
     "start_time": "2021-06-24T05:19:44.314124",
     "status": "completed"
    },
    "tags": []
   },
   "outputs": [],
   "source": [
    "# get y predictions\n",
    "y_pred = xgb.predict(X_test)"
   ]
  },
  {
   "cell_type": "code",
   "execution_count": 40,
   "id": "monetary-family",
   "metadata": {
    "execution": {
     "iopub.execute_input": "2021-06-24T05:19:44.570355Z",
     "iopub.status.busy": "2021-06-24T05:19:44.569647Z",
     "iopub.status.idle": "2021-06-24T05:19:44.578173Z",
     "shell.execute_reply": "2021-06-24T05:19:44.577432Z",
     "shell.execute_reply.started": "2021-06-24T04:34:31.399722Z"
    },
    "papermill": {
     "duration": 0.092975,
     "end_time": "2021-06-24T05:19:44.578571",
     "exception": false,
     "start_time": "2021-06-24T05:19:44.485596",
     "status": "completed"
    },
    "tags": []
   },
   "outputs": [
    {
     "name": "stdout",
     "output_type": "stream",
     "text": [
      "              precision    recall  f1-score   support\n",
      "\n",
      "           0       0.81      0.90      0.85        29\n",
      "           1       0.90      0.81      0.85        32\n",
      "\n",
      "    accuracy                           0.85        61\n",
      "   macro avg       0.85      0.85      0.85        61\n",
      "weighted avg       0.86      0.85      0.85        61\n",
      "\n"
     ]
    }
   ],
   "source": [
    "# print out the accuracy\n",
    "print(classification_report(y_test, y_pred))"
   ]
  },
  {
   "cell_type": "code",
   "execution_count": 41,
   "id": "nonprofit-uncertainty",
   "metadata": {
    "execution": {
     "iopub.execute_input": "2021-06-24T05:19:44.742091Z",
     "iopub.status.busy": "2021-06-24T05:19:44.741424Z",
     "iopub.status.idle": "2021-06-24T05:19:44.746714Z",
     "shell.execute_reply": "2021-06-24T05:19:44.746083Z"
    },
    "papermill": {
     "duration": 0.088196,
     "end_time": "2021-06-24T05:19:44.746852",
     "exception": false,
     "start_time": "2021-06-24T05:19:44.658656",
     "status": "completed"
    },
    "tags": []
   },
   "outputs": [
    {
     "name": "stdout",
     "output_type": "stream",
     "text": [
      "[[26  3]\n",
      " [ 6 26]]\n"
     ]
    }
   ],
   "source": [
    "# print the confusion matrix\n",
    "print (confusion_matrix(y_test, y_pred))"
   ]
  },
  {
   "attachments": {},
   "cell_type": "markdown",
   "id": "funded-november",
   "metadata": {
    "papermill": {
     "duration": 0.079213,
     "end_time": "2021-06-24T05:19:44.907761",
     "exception": false,
     "start_time": "2021-06-24T05:19:44.828548",
     "status": "completed"
    },
    "tags": []
   },
   "source": [
    "## Random Forest"
   ]
  },
  {
   "cell_type": "code",
   "execution_count": 42,
   "id": "opposite-ability",
   "metadata": {
    "execution": {
     "iopub.execute_input": "2021-06-24T05:19:45.076363Z",
     "iopub.status.busy": "2021-06-24T05:19:45.075637Z",
     "iopub.status.idle": "2021-06-24T05:19:45.079122Z",
     "shell.execute_reply": "2021-06-24T05:19:45.078458Z",
     "shell.execute_reply.started": "2021-06-24T04:34:44.890505Z"
    },
    "papermill": {
     "duration": 0.089268,
     "end_time": "2021-06-24T05:19:45.079289",
     "exception": false,
     "start_time": "2021-06-24T05:19:44.990021",
     "status": "completed"
    },
    "tags": []
   },
   "outputs": [],
   "source": [
    "# create an instance of model\n",
    "rf = RandomForestClassifier(random_state=42, n_estimators=500)"
   ]
  },
  {
   "cell_type": "code",
   "execution_count": 43,
   "id": "portable-luther",
   "metadata": {
    "execution": {
     "iopub.execute_input": "2021-06-24T05:19:45.248517Z",
     "iopub.status.busy": "2021-06-24T05:19:45.247265Z",
     "iopub.status.idle": "2021-06-24T05:19:46.178318Z",
     "shell.execute_reply": "2021-06-24T05:19:46.177627Z",
     "shell.execute_reply.started": "2021-06-24T04:34:48.621034Z"
    },
    "papermill": {
     "duration": 1.019073,
     "end_time": "2021-06-24T05:19:46.178469",
     "exception": false,
     "start_time": "2021-06-24T05:19:45.159396",
     "status": "completed"
    },
    "tags": []
   },
   "outputs": [
    {
     "data": {
      "text/plain": [
       "RandomForestClassifier(n_estimators=500, random_state=42)"
      ]
     },
     "execution_count": 43,
     "metadata": {},
     "output_type": "execute_result"
    }
   ],
   "source": [
    "# fit the model\n",
    "rf.fit(X_train, y_train)"
   ]
  },
  {
   "cell_type": "code",
   "execution_count": 44,
   "id": "little-belle",
   "metadata": {
    "execution": {
     "iopub.execute_input": "2021-06-24T05:19:46.347788Z",
     "iopub.status.busy": "2021-06-24T05:19:46.346728Z",
     "iopub.status.idle": "2021-06-24T05:19:46.400941Z",
     "shell.execute_reply": "2021-06-24T05:19:46.400251Z",
     "shell.execute_reply.started": "2021-06-24T04:34:53.535756Z"
    },
    "papermill": {
     "duration": 0.142916,
     "end_time": "2021-06-24T05:19:46.401099",
     "exception": false,
     "start_time": "2021-06-24T05:19:46.258183",
     "status": "completed"
    },
    "tags": []
   },
   "outputs": [],
   "source": [
    "# get y predictions\n",
    "y_pred = rf.predict(X_test)"
   ]
  },
  {
   "cell_type": "code",
   "execution_count": 45,
   "id": "elder-allocation",
   "metadata": {
    "execution": {
     "iopub.execute_input": "2021-06-24T05:19:46.566254Z",
     "iopub.status.busy": "2021-06-24T05:19:46.564367Z",
     "iopub.status.idle": "2021-06-24T05:19:46.574991Z",
     "shell.execute_reply": "2021-06-24T05:19:46.574345Z",
     "shell.execute_reply.started": "2021-06-24T04:34:59.743886Z"
    },
    "papermill": {
     "duration": 0.094612,
     "end_time": "2021-06-24T05:19:46.575146",
     "exception": false,
     "start_time": "2021-06-24T05:19:46.480534",
     "status": "completed"
    },
    "tags": []
   },
   "outputs": [
    {
     "name": "stdout",
     "output_type": "stream",
     "text": [
      "              precision    recall  f1-score   support\n",
      "\n",
      "           0       0.87      0.90      0.88        29\n",
      "           1       0.90      0.88      0.89        32\n",
      "\n",
      "    accuracy                           0.89        61\n",
      "   macro avg       0.88      0.89      0.89        61\n",
      "weighted avg       0.89      0.89      0.89        61\n",
      "\n"
     ]
    }
   ],
   "source": [
    "# show accuracy report\n",
    "print(classification_report(y_test, y_pred))"
   ]
  },
  {
   "cell_type": "code",
   "execution_count": 46,
   "id": "saved-paragraph",
   "metadata": {
    "execution": {
     "iopub.execute_input": "2021-06-24T05:19:46.742121Z",
     "iopub.status.busy": "2021-06-24T05:19:46.741146Z",
     "iopub.status.idle": "2021-06-24T05:19:46.744848Z",
     "shell.execute_reply": "2021-06-24T05:19:46.744311Z"
    },
    "papermill": {
     "duration": 0.089437,
     "end_time": "2021-06-24T05:19:46.744983",
     "exception": false,
     "start_time": "2021-06-24T05:19:46.655546",
     "status": "completed"
    },
    "tags": []
   },
   "outputs": [
    {
     "name": "stdout",
     "output_type": "stream",
     "text": [
      "[[26  3]\n",
      " [ 4 28]]\n"
     ]
    }
   ],
   "source": [
    "# print the confusion matrix\n",
    "print (confusion_matrix(y_test, y_pred))"
   ]
  },
  {
   "attachments": {},
   "cell_type": "markdown",
   "id": "going-alaska",
   "metadata": {
    "papermill": {
     "duration": 0.079517,
     "end_time": "2021-06-24T05:19:46.904962",
     "exception": false,
     "start_time": "2021-06-24T05:19:46.825445",
     "status": "completed"
    },
    "tags": []
   },
   "source": [
    "## Decision Trees"
   ]
  },
  {
   "cell_type": "code",
   "execution_count": 47,
   "id": "human-austin",
   "metadata": {
    "execution": {
     "iopub.execute_input": "2021-06-24T05:19:47.071390Z",
     "iopub.status.busy": "2021-06-24T05:19:47.070362Z",
     "iopub.status.idle": "2021-06-24T05:19:47.073634Z",
     "shell.execute_reply": "2021-06-24T05:19:47.073011Z",
     "shell.execute_reply.started": "2021-06-24T04:35:17.735413Z"
    },
    "papermill": {
     "duration": 0.087859,
     "end_time": "2021-06-24T05:19:47.073787",
     "exception": false,
     "start_time": "2021-06-24T05:19:46.985928",
     "status": "completed"
    },
    "tags": []
   },
   "outputs": [],
   "source": [
    "# create an instance\n",
    "dt = DecisionTreeClassifier(random_state = 42)"
   ]
  },
  {
   "cell_type": "code",
   "execution_count": 48,
   "id": "disciplinary-industry",
   "metadata": {
    "execution": {
     "iopub.execute_input": "2021-06-24T05:19:47.239240Z",
     "iopub.status.busy": "2021-06-24T05:19:47.238257Z",
     "iopub.status.idle": "2021-06-24T05:19:47.247970Z",
     "shell.execute_reply": "2021-06-24T05:19:47.248496Z",
     "shell.execute_reply.started": "2021-06-24T04:35:22.501722Z"
    },
    "papermill": {
     "duration": 0.093735,
     "end_time": "2021-06-24T05:19:47.248661",
     "exception": false,
     "start_time": "2021-06-24T05:19:47.154926",
     "status": "completed"
    },
    "tags": []
   },
   "outputs": [
    {
     "data": {
      "text/plain": [
       "DecisionTreeClassifier(random_state=42)"
      ]
     },
     "execution_count": 48,
     "metadata": {},
     "output_type": "execute_result"
    }
   ],
   "source": [
    "# train model \n",
    "dt.fit(X_train, y_train)"
   ]
  },
  {
   "cell_type": "code",
   "execution_count": 49,
   "id": "posted-provision",
   "metadata": {
    "execution": {
     "iopub.execute_input": "2021-06-24T05:19:47.416170Z",
     "iopub.status.busy": "2021-06-24T05:19:47.415525Z",
     "iopub.status.idle": "2021-06-24T05:19:47.420944Z",
     "shell.execute_reply": "2021-06-24T05:19:47.421447Z",
     "shell.execute_reply.started": "2021-06-24T04:35:34.979114Z"
    },
    "papermill": {
     "duration": 0.091053,
     "end_time": "2021-06-24T05:19:47.421616",
     "exception": false,
     "start_time": "2021-06-24T05:19:47.330563",
     "status": "completed"
    },
    "tags": []
   },
   "outputs": [],
   "source": [
    "# get y predictions\n",
    "y_pred = dt.predict(X_test)"
   ]
  },
  {
   "cell_type": "code",
   "execution_count": 50,
   "id": "classical-maryland",
   "metadata": {
    "execution": {
     "iopub.execute_input": "2021-06-24T05:19:47.585860Z",
     "iopub.status.busy": "2021-06-24T05:19:47.585227Z",
     "iopub.status.idle": "2021-06-24T05:19:47.595065Z",
     "shell.execute_reply": "2021-06-24T05:19:47.594391Z",
     "shell.execute_reply.started": "2021-06-24T04:35:40.368177Z"
    },
    "papermill": {
     "duration": 0.093134,
     "end_time": "2021-06-24T05:19:47.595205",
     "exception": false,
     "start_time": "2021-06-24T05:19:47.502071",
     "status": "completed"
    },
    "tags": []
   },
   "outputs": [
    {
     "name": "stdout",
     "output_type": "stream",
     "text": [
      "              precision    recall  f1-score   support\n",
      "\n",
      "           0       0.71      0.86      0.78        29\n",
      "           1       0.85      0.69      0.76        32\n",
      "\n",
      "    accuracy                           0.77        61\n",
      "   macro avg       0.78      0.77      0.77        61\n",
      "weighted avg       0.78      0.77      0.77        61\n",
      "\n"
     ]
    }
   ],
   "source": [
    "# print performance report\n",
    "print(classification_report(y_test, y_pred))"
   ]
  },
  {
   "cell_type": "code",
   "execution_count": 51,
   "id": "social-superior",
   "metadata": {
    "execution": {
     "iopub.execute_input": "2021-06-24T05:19:47.761627Z",
     "iopub.status.busy": "2021-06-24T05:19:47.760992Z",
     "iopub.status.idle": "2021-06-24T05:19:47.765205Z",
     "shell.execute_reply": "2021-06-24T05:19:47.764633Z",
     "shell.execute_reply.started": "2021-06-24T04:59:59.041031Z"
    },
    "papermill": {
     "duration": 0.08981,
     "end_time": "2021-06-24T05:19:47.765343",
     "exception": false,
     "start_time": "2021-06-24T05:19:47.675533",
     "status": "completed"
    },
    "tags": []
   },
   "outputs": [
    {
     "name": "stdout",
     "output_type": "stream",
     "text": [
      "[[25  4]\n",
      " [10 22]]\n"
     ]
    }
   ],
   "source": [
    "# print the confusion matrix\n",
    "print (confusion_matrix(y_test, y_pred))"
   ]
  },
  {
   "attachments": {},
   "cell_type": "markdown",
   "id": "hybrid-baking",
   "metadata": {
    "papermill": {
     "duration": 0.080584,
     "end_time": "2021-06-24T05:19:47.928849",
     "exception": false,
     "start_time": "2021-06-24T05:19:47.848265",
     "status": "completed"
    },
    "tags": []
   },
   "source": [
    "## KNN"
   ]
  },
  {
   "cell_type": "code",
   "execution_count": 52,
   "id": "sharing-production",
   "metadata": {
    "execution": {
     "iopub.execute_input": "2021-06-24T05:19:48.096395Z",
     "iopub.status.busy": "2021-06-24T05:19:48.095723Z",
     "iopub.status.idle": "2021-06-24T05:19:48.099854Z",
     "shell.execute_reply": "2021-06-24T05:19:48.100457Z",
     "shell.execute_reply.started": "2021-06-24T04:35:53.421174Z"
    },
    "papermill": {
     "duration": 0.088928,
     "end_time": "2021-06-24T05:19:48.100653",
     "exception": false,
     "start_time": "2021-06-24T05:19:48.011725",
     "status": "completed"
    },
    "tags": []
   },
   "outputs": [],
   "source": [
    "# create instance of model\n",
    "knn = KNeighborsClassifier()"
   ]
  },
  {
   "cell_type": "code",
   "execution_count": 53,
   "id": "automatic-aaron",
   "metadata": {
    "execution": {
     "iopub.execute_input": "2021-06-24T05:19:48.271917Z",
     "iopub.status.busy": "2021-06-24T05:19:48.271245Z",
     "iopub.status.idle": "2021-06-24T05:19:48.276269Z",
     "shell.execute_reply": "2021-06-24T05:19:48.276776Z",
     "shell.execute_reply.started": "2021-06-24T04:35:57.049672Z"
    },
    "papermill": {
     "duration": 0.094216,
     "end_time": "2021-06-24T05:19:48.276960",
     "exception": false,
     "start_time": "2021-06-24T05:19:48.182744",
     "status": "completed"
    },
    "tags": []
   },
   "outputs": [
    {
     "data": {
      "text/plain": [
       "KNeighborsClassifier()"
      ]
     },
     "execution_count": 53,
     "metadata": {},
     "output_type": "execute_result"
    }
   ],
   "source": [
    "# train model \n",
    "knn.fit(X_train, y_train)"
   ]
  },
  {
   "cell_type": "code",
   "execution_count": 54,
   "id": "norman-company",
   "metadata": {
    "execution": {
     "iopub.execute_input": "2021-06-24T05:19:48.448566Z",
     "iopub.status.busy": "2021-06-24T05:19:48.447927Z",
     "iopub.status.idle": "2021-06-24T05:19:48.457414Z",
     "shell.execute_reply": "2021-06-24T05:19:48.457921Z",
     "shell.execute_reply.started": "2021-06-24T04:36:02.432996Z"
    },
    "papermill": {
     "duration": 0.094287,
     "end_time": "2021-06-24T05:19:48.458112",
     "exception": false,
     "start_time": "2021-06-24T05:19:48.363825",
     "status": "completed"
    },
    "tags": []
   },
   "outputs": [],
   "source": [
    "# get y predictions\n",
    "y_pred = knn.predict(X_test)"
   ]
  },
  {
   "cell_type": "code",
   "execution_count": 55,
   "id": "major-apple",
   "metadata": {
    "execution": {
     "iopub.execute_input": "2021-06-24T05:19:48.623526Z",
     "iopub.status.busy": "2021-06-24T05:19:48.622829Z",
     "iopub.status.idle": "2021-06-24T05:19:48.633780Z",
     "shell.execute_reply": "2021-06-24T05:19:48.632894Z",
     "shell.execute_reply.started": "2021-06-24T04:36:06.790997Z"
    },
    "papermill": {
     "duration": 0.094744,
     "end_time": "2021-06-24T05:19:48.633967",
     "exception": false,
     "start_time": "2021-06-24T05:19:48.539223",
     "status": "completed"
    },
    "tags": []
   },
   "outputs": [
    {
     "name": "stdout",
     "output_type": "stream",
     "text": [
      "              precision    recall  f1-score   support\n",
      "\n",
      "           0       0.86      0.86      0.86        29\n",
      "           1       0.88      0.88      0.88        32\n",
      "\n",
      "    accuracy                           0.87        61\n",
      "   macro avg       0.87      0.87      0.87        61\n",
      "weighted avg       0.87      0.87      0.87        61\n",
      "\n"
     ]
    }
   ],
   "source": [
    "# print the accuracy\n",
    "print(classification_report(y_test, y_pred))"
   ]
  },
  {
   "cell_type": "code",
   "execution_count": 56,
   "id": "contained-judges",
   "metadata": {
    "execution": {
     "iopub.execute_input": "2021-06-24T05:19:48.805887Z",
     "iopub.status.busy": "2021-06-24T05:19:48.805215Z",
     "iopub.status.idle": "2021-06-24T05:19:48.808235Z",
     "shell.execute_reply": "2021-06-24T05:19:48.808730Z",
     "shell.execute_reply.started": "2021-06-24T05:00:05.084807Z"
    },
    "papermill": {
     "duration": 0.092066,
     "end_time": "2021-06-24T05:19:48.808908",
     "exception": false,
     "start_time": "2021-06-24T05:19:48.716842",
     "status": "completed"
    },
    "tags": []
   },
   "outputs": [
    {
     "name": "stdout",
     "output_type": "stream",
     "text": [
      "[[25  4]\n",
      " [ 4 28]]\n"
     ]
    }
   ],
   "source": [
    "# print the confusion matrix\n",
    "print (confusion_matrix(y_test, y_pred))"
   ]
  },
  {
   "attachments": {},
   "cell_type": "markdown",
   "id": "adjusted-infection",
   "metadata": {
    "papermill": {
     "duration": 0.082237,
     "end_time": "2021-06-24T05:19:48.974805",
     "exception": false,
     "start_time": "2021-06-24T05:19:48.892568",
     "status": "completed"
    },
    "tags": []
   },
   "source": [
    "## SVM"
   ]
  },
  {
   "cell_type": "code",
   "execution_count": 57,
   "id": "measured-equity",
   "metadata": {
    "execution": {
     "iopub.execute_input": "2021-06-24T05:19:49.144203Z",
     "iopub.status.busy": "2021-06-24T05:19:49.143527Z",
     "iopub.status.idle": "2021-06-24T05:19:49.147158Z",
     "shell.execute_reply": "2021-06-24T05:19:49.147608Z",
     "shell.execute_reply.started": "2021-06-24T04:36:18.056738Z"
    },
    "papermill": {
     "duration": 0.089983,
     "end_time": "2021-06-24T05:19:49.147788",
     "exception": false,
     "start_time": "2021-06-24T05:19:49.057805",
     "status": "completed"
    },
    "tags": []
   },
   "outputs": [],
   "source": [
    "# get instance of the model\n",
    "svm = SVC(random_state = 42)"
   ]
  },
  {
   "cell_type": "code",
   "execution_count": 58,
   "id": "synthetic-stuart",
   "metadata": {
    "execution": {
     "iopub.execute_input": "2021-06-24T05:19:49.316927Z",
     "iopub.status.busy": "2021-06-24T05:19:49.316312Z",
     "iopub.status.idle": "2021-06-24T05:19:49.328082Z",
     "shell.execute_reply": "2021-06-24T05:19:49.327534Z",
     "shell.execute_reply.started": "2021-06-24T04:36:22.128071Z"
    },
    "papermill": {
     "duration": 0.097179,
     "end_time": "2021-06-24T05:19:49.328230",
     "exception": false,
     "start_time": "2021-06-24T05:19:49.231051",
     "status": "completed"
    },
    "tags": []
   },
   "outputs": [
    {
     "data": {
      "text/plain": [
       "SVC(random_state=42)"
      ]
     },
     "execution_count": 58,
     "metadata": {},
     "output_type": "execute_result"
    }
   ],
   "source": [
    "# train the model \n",
    "svm.fit(X_train, y_train)"
   ]
  },
  {
   "cell_type": "code",
   "execution_count": 59,
   "id": "prerequisite-scale",
   "metadata": {
    "execution": {
     "iopub.execute_input": "2021-06-24T05:19:49.500369Z",
     "iopub.status.busy": "2021-06-24T05:19:49.499368Z",
     "iopub.status.idle": "2021-06-24T05:19:49.504276Z",
     "shell.execute_reply": "2021-06-24T05:19:49.503573Z",
     "shell.execute_reply.started": "2021-06-24T04:36:26.915937Z"
    },
    "papermill": {
     "duration": 0.093732,
     "end_time": "2021-06-24T05:19:49.504436",
     "exception": false,
     "start_time": "2021-06-24T05:19:49.410704",
     "status": "completed"
    },
    "tags": []
   },
   "outputs": [],
   "source": [
    "# get y predictions\n",
    "y_pred = svm.predict(X_test)"
   ]
  },
  {
   "cell_type": "code",
   "execution_count": 60,
   "id": "fleet-blank",
   "metadata": {
    "execution": {
     "iopub.execute_input": "2021-06-24T05:19:49.677914Z",
     "iopub.status.busy": "2021-06-24T05:19:49.675863Z",
     "iopub.status.idle": "2021-06-24T05:19:49.685541Z",
     "shell.execute_reply": "2021-06-24T05:19:49.684981Z",
     "shell.execute_reply.started": "2021-06-24T04:38:51.668745Z"
    },
    "papermill": {
     "duration": 0.099071,
     "end_time": "2021-06-24T05:19:49.685687",
     "exception": false,
     "start_time": "2021-06-24T05:19:49.586616",
     "status": "completed"
    },
    "tags": []
   },
   "outputs": [
    {
     "name": "stdout",
     "output_type": "stream",
     "text": [
      "              precision    recall  f1-score   support\n",
      "\n",
      "           0       0.89      0.86      0.88        29\n",
      "           1       0.88      0.91      0.89        32\n",
      "\n",
      "    accuracy                           0.89        61\n",
      "   macro avg       0.89      0.88      0.88        61\n",
      "weighted avg       0.89      0.89      0.89        61\n",
      "\n"
     ]
    }
   ],
   "source": [
    "# show performance report\n",
    "print(classification_report(y_test, y_pred))"
   ]
  },
  {
   "cell_type": "code",
   "execution_count": 61,
   "id": "animated-russell",
   "metadata": {
    "execution": {
     "iopub.execute_input": "2021-06-24T05:19:49.859680Z",
     "iopub.status.busy": "2021-06-24T05:19:49.858820Z",
     "iopub.status.idle": "2021-06-24T05:19:49.862252Z",
     "shell.execute_reply": "2021-06-24T05:19:49.861619Z",
     "shell.execute_reply.started": "2021-06-24T05:00:10.750945Z"
    },
    "papermill": {
     "duration": 0.093352,
     "end_time": "2021-06-24T05:19:49.862396",
     "exception": false,
     "start_time": "2021-06-24T05:19:49.769044",
     "status": "completed"
    },
    "tags": []
   },
   "outputs": [
    {
     "name": "stdout",
     "output_type": "stream",
     "text": [
      "[[25  4]\n",
      " [ 3 29]]\n"
     ]
    }
   ],
   "source": [
    "# print the confusion matrix\n",
    "print (confusion_matrix(y_test, y_pred))"
   ]
  },
  {
   "attachments": {},
   "cell_type": "markdown",
   "id": "waiting-protection",
   "metadata": {
    "papermill": {
     "duration": 0.083111,
     "end_time": "2021-06-24T05:19:50.028828",
     "exception": false,
     "start_time": "2021-06-24T05:19:49.945717",
     "status": "completed"
    },
    "tags": []
   },
   "source": [
    "___"
   ]
  }
 ],
 "metadata": {
  "kernelspec": {
   "display_name": "Python 3",
   "language": "python",
   "name": "python3"
  },
  "language_info": {
   "codemirror_mode": {
    "name": "ipython",
    "version": 3
   },
   "file_extension": ".py",
   "mimetype": "text/x-python",
   "name": "python",
   "nbconvert_exporter": "python",
   "pygments_lexer": "ipython3",
   "version": "3.7.9"
  },
  "papermill": {
   "default_parameters": {},
   "duration": 29.036946,
   "end_time": "2021-06-24T05:19:50.823173",
   "environment_variables": {},
   "exception": null,
   "input_path": "__notebook__.ipynb",
   "output_path": "__notebook__.ipynb",
   "parameters": {},
   "start_time": "2021-06-24T05:19:21.786227",
   "version": "2.3.2"
  }
 },
 "nbformat": 4,
 "nbformat_minor": 5
}
