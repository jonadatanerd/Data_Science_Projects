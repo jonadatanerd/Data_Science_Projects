{
 "cells": [
  {
   "attachments": {},
   "cell_type": "markdown",
   "id": "806d62e9",
   "metadata": {},
   "source": [
    "# Amazon Bestselling - EDA & Rating Predictions(97%)"
   ]
  },
  {
   "attachments": {},
   "cell_type": "markdown",
   "id": "3e6c0d4e",
   "metadata": {
    "_cell_guid": "b1076dfc-b9ad-4769-8c92-a6c4dae69d19",
    "_uuid": "8f2839f25d086af736a60e9eeb907d3b93b6e0e5",
    "papermill": {
     "duration": 0.056649,
     "end_time": "2021-07-08T16:03:29.706899",
     "exception": false,
     "start_time": "2021-07-08T16:03:29.650250",
     "status": "completed"
    },
    "tags": []
   },
   "source": [
    "This notebook is about the Amazon Top 50 Bestselling Books 2009 – 2019. The Dataset contains 550 books. Data has been categorized into fiction and non-fiction using Goodreads. The analysis of this Dataset will allow us have a deep understanding of the book market trends over the past decade.\n",
    "\n",
    "\n",
    "The dataset includes seven categories, such as Name of the Book, Author of the Book, User Rating, Number of Reviews, the Price of the Book. The Year(s) it ranked on the bestseller and whether Fiction or Non-Fiction."
   ]
  },
  {
   "attachments": {},
   "cell_type": "markdown",
   "id": "1332ffa3",
   "metadata": {
    "papermill": {
     "duration": 0.048755,
     "end_time": "2021-07-08T16:03:29.804608",
     "exception": false,
     "start_time": "2021-07-08T16:03:29.755853",
     "status": "completed"
    },
    "tags": []
   },
   "source": [
    "__Content:__\n",
    "1. Data Exploration\n",
    "1. Data Visulaistion\n",
    "1. Data Preprocessing\n",
    "1. Building Random Forest Model\n",
    "\n",
    "__Features:__ <br>\n",
    "1. __Name:__ Name of the Book <br>\n",
    "1. __Author:__ The Author of the Book <br>\n",
    "1. __User Rating:__ Amazon User Rating <br>\n",
    "1. __Reviews:__ Number of Reviews on Amazon <br>\n",
    "1. __Price:__ The Price of the Book <br>\n",
    "1. __Year:__ The Year(s) It Ranked on the Bestseller <br>\n",
    "1. __Genre:__ Whether Fiction or Non-fiction <br>"
   ]
  },
  {
   "attachments": {},
   "cell_type": "markdown",
   "id": "ab300361",
   "metadata": {
    "papermill": {
     "duration": 0.04561,
     "end_time": "2021-07-08T16:03:29.898363",
     "exception": false,
     "start_time": "2021-07-08T16:03:29.852753",
     "status": "completed"
    },
    "tags": []
   },
   "source": [
    "# Questions to Be Answered with the Dataset\n",
    "\n",
    "1. What Is the Rating Distribution for the Books?\n",
    "1. Which Category Has a Wider Range and Distribution?\n",
    "1. What Is Price Distribution? \n",
    "1. What Is Reviews Distribution?\n",
    "1. Who Has Written the Most Books?\n",
    "1. What Is the Number of Books Per Rating?\n",
    "1. Which Year Has the Highest User Rating?\n",
    "1. Which Year Has the Highest Reviews?\n",
    "1. What is the Price Variation Through Time?\n",
    "1. What Are the Highest Reviewed Books?\n",
    "1. What Are the Lowest Reviewed Books?\n",
    "1. What Are the Worst Rated Books?\n",
    "1. What Are the Most Expensive Books?\n",
    "1. What Are the Cheapest Books?\n",
    "1. What Are the Best 10 Free Books?\n",
    "1. Who Are the Most Popular Authors?"
   ]
  },
  {
   "cell_type": "code",
   "execution_count": 1,
   "id": "b7bc489c",
   "metadata": {
    "execution": {
     "iopub.execute_input": "2021-07-08T16:03:29.996863Z",
     "iopub.status.busy": "2021-07-08T16:03:29.995557Z",
     "iopub.status.idle": "2021-07-08T16:03:32.422086Z",
     "shell.execute_reply": "2021-07-08T16:03:32.422616Z",
     "shell.execute_reply.started": "2021-07-08T15:51:24.182886Z"
    },
    "papermill": {
     "duration": 2.477221,
     "end_time": "2021-07-08T16:03:32.422916",
     "exception": false,
     "start_time": "2021-07-08T16:03:29.945695",
     "status": "completed"
    },
    "tags": []
   },
   "outputs": [
    {
     "name": "stderr",
     "output_type": "stream",
     "text": [
      "/opt/conda/lib/python3.7/site-packages/nltk/twitter/__init__.py:20: UserWarning: The twython library has not been installed. Some functionality from the twitter package will not be available.\n",
      "  warnings.warn(\"The twython library has not been installed. \"\n"
     ]
    }
   ],
   "source": [
    "# import necessary libraries\n",
    "import nltk\n",
    "import numpy as np\n",
    "import pandas as pd\n",
    "import seaborn as sns\n",
    "import matplotlib.pyplot as plt\n",
    "\n",
    "from sklearn import metrics\n",
    "from sklearn import preprocessing\n",
    "from sklearn.preprocessing import LabelEncoder\n",
    "from sklearn.preprocessing import StandardScaler\n",
    "from sklearn.ensemble import RandomForestRegressor\n",
    "from sklearn.model_selection import train_test_split\n",
    "from nltk.sentiment.vader import SentimentIntensityAnalyzer"
   ]
  },
  {
   "cell_type": "code",
   "execution_count": 2,
   "id": "6649df5b",
   "metadata": {
    "execution": {
     "iopub.execute_input": "2021-07-08T16:03:32.519896Z",
     "iopub.status.busy": "2021-07-08T16:03:32.519221Z",
     "iopub.status.idle": "2021-07-08T16:03:32.525558Z",
     "shell.execute_reply": "2021-07-08T16:03:32.526071Z",
     "shell.execute_reply.started": "2021-07-08T15:51:27.684484Z"
    },
    "papermill": {
     "duration": 0.056389,
     "end_time": "2021-07-08T16:03:32.526276",
     "exception": false,
     "start_time": "2021-07-08T16:03:32.469887",
     "status": "completed"
    },
    "tags": []
   },
   "outputs": [],
   "source": [
    "# set the color palette\n",
    "sns.set_palette(sns.color_palette('deep'))\n",
    "sns.set(rc = {'figure.figsize': (9, 5)})\n",
    "sns.set_style('whitegrid')"
   ]
  },
  {
   "cell_type": "code",
   "execution_count": 3,
   "id": "91b45800",
   "metadata": {
    "execution": {
     "iopub.execute_input": "2021-07-08T16:03:32.622105Z",
     "iopub.status.busy": "2021-07-08T16:03:32.621458Z",
     "iopub.status.idle": "2021-07-08T16:03:32.625074Z",
     "shell.execute_reply": "2021-07-08T16:03:32.625523Z",
     "shell.execute_reply.started": "2021-07-08T15:51:31.890932Z"
    },
    "papermill": {
     "duration": 0.05321,
     "end_time": "2021-07-08T16:03:32.625695",
     "exception": false,
     "start_time": "2021-07-08T16:03:32.572485",
     "status": "completed"
    },
    "tags": []
   },
   "outputs": [],
   "source": [
    "import warnings\n",
    "warnings.filterwarnings('ignore')"
   ]
  },
  {
   "cell_type": "code",
   "execution_count": 4,
   "id": "92851c82",
   "metadata": {
    "execution": {
     "iopub.execute_input": "2021-07-08T16:03:32.726190Z",
     "iopub.status.busy": "2021-07-08T16:03:32.725398Z",
     "iopub.status.idle": "2021-07-08T16:03:32.758742Z",
     "shell.execute_reply": "2021-07-08T16:03:32.759574Z",
     "shell.execute_reply.started": "2021-07-08T15:51:48.478816Z"
    },
    "papermill": {
     "duration": 0.088255,
     "end_time": "2021-07-08T16:03:32.759788",
     "exception": false,
     "start_time": "2021-07-08T16:03:32.671533",
     "status": "completed"
    },
    "tags": []
   },
   "outputs": [],
   "source": [
    "# read the csv file\n",
    "df = pd.read_csv('../input/amazon-top-50-bestselling-books-2009-2019/bestsellers with categories.csv')"
   ]
  },
  {
   "attachments": {},
   "cell_type": "markdown",
   "id": "41ca8854",
   "metadata": {
    "papermill": {
     "duration": 0.048952,
     "end_time": "2021-07-08T16:03:32.864494",
     "exception": false,
     "start_time": "2021-07-08T16:03:32.815542",
     "status": "completed"
    },
    "tags": []
   },
   "source": [
    "# Data Exploration"
   ]
  },
  {
   "cell_type": "code",
   "execution_count": 5,
   "id": "9ab1c0c5",
   "metadata": {
    "execution": {
     "iopub.execute_input": "2021-07-08T16:03:32.992894Z",
     "iopub.status.busy": "2021-07-08T16:03:32.992212Z",
     "iopub.status.idle": "2021-07-08T16:03:33.022829Z",
     "shell.execute_reply": "2021-07-08T16:03:33.024317Z",
     "shell.execute_reply.started": "2021-07-08T15:52:12.353997Z"
    },
    "papermill": {
     "duration": 0.096071,
     "end_time": "2021-07-08T16:03:33.024598",
     "exception": false,
     "start_time": "2021-07-08T16:03:32.928527",
     "status": "completed"
    },
    "tags": []
   },
   "outputs": [
    {
     "data": {
      "text/html": [
       "<div>\n",
       "<style scoped>\n",
       "    .dataframe tbody tr th:only-of-type {\n",
       "        vertical-align: middle;\n",
       "    }\n",
       "\n",
       "    .dataframe tbody tr th {\n",
       "        vertical-align: top;\n",
       "    }\n",
       "\n",
       "    .dataframe thead th {\n",
       "        text-align: right;\n",
       "    }\n",
       "</style>\n",
       "<table border=\"1\" class=\"dataframe\">\n",
       "  <thead>\n",
       "    <tr style=\"text-align: right;\">\n",
       "      <th></th>\n",
       "      <th>Name</th>\n",
       "      <th>Author</th>\n",
       "      <th>User Rating</th>\n",
       "      <th>Reviews</th>\n",
       "      <th>Price</th>\n",
       "      <th>Year</th>\n",
       "      <th>Genre</th>\n",
       "    </tr>\n",
       "  </thead>\n",
       "  <tbody>\n",
       "    <tr>\n",
       "      <th>0</th>\n",
       "      <td>10-Day Green Smoothie Cleanse</td>\n",
       "      <td>JJ Smith</td>\n",
       "      <td>4.7</td>\n",
       "      <td>17350</td>\n",
       "      <td>8</td>\n",
       "      <td>2016</td>\n",
       "      <td>Non Fiction</td>\n",
       "    </tr>\n",
       "    <tr>\n",
       "      <th>1</th>\n",
       "      <td>11/22/63: A Novel</td>\n",
       "      <td>Stephen King</td>\n",
       "      <td>4.6</td>\n",
       "      <td>2052</td>\n",
       "      <td>22</td>\n",
       "      <td>2011</td>\n",
       "      <td>Fiction</td>\n",
       "    </tr>\n",
       "    <tr>\n",
       "      <th>2</th>\n",
       "      <td>12 Rules for Life: An Antidote to Chaos</td>\n",
       "      <td>Jordan B. Peterson</td>\n",
       "      <td>4.7</td>\n",
       "      <td>18979</td>\n",
       "      <td>15</td>\n",
       "      <td>2018</td>\n",
       "      <td>Non Fiction</td>\n",
       "    </tr>\n",
       "    <tr>\n",
       "      <th>3</th>\n",
       "      <td>1984 (Signet Classics)</td>\n",
       "      <td>George Orwell</td>\n",
       "      <td>4.7</td>\n",
       "      <td>21424</td>\n",
       "      <td>6</td>\n",
       "      <td>2017</td>\n",
       "      <td>Fiction</td>\n",
       "    </tr>\n",
       "    <tr>\n",
       "      <th>4</th>\n",
       "      <td>5,000 Awesome Facts (About Everything!) (Natio...</td>\n",
       "      <td>National Geographic Kids</td>\n",
       "      <td>4.8</td>\n",
       "      <td>7665</td>\n",
       "      <td>12</td>\n",
       "      <td>2019</td>\n",
       "      <td>Non Fiction</td>\n",
       "    </tr>\n",
       "  </tbody>\n",
       "</table>\n",
       "</div>"
      ],
      "text/plain": [
       "                                                Name  \\\n",
       "0                      10-Day Green Smoothie Cleanse   \n",
       "1                                  11/22/63: A Novel   \n",
       "2            12 Rules for Life: An Antidote to Chaos   \n",
       "3                             1984 (Signet Classics)   \n",
       "4  5,000 Awesome Facts (About Everything!) (Natio...   \n",
       "\n",
       "                     Author  User Rating  Reviews  Price  Year        Genre  \n",
       "0                  JJ Smith          4.7    17350      8  2016  Non Fiction  \n",
       "1              Stephen King          4.6     2052     22  2011      Fiction  \n",
       "2        Jordan B. Peterson          4.7    18979     15  2018  Non Fiction  \n",
       "3             George Orwell          4.7    21424      6  2017      Fiction  \n",
       "4  National Geographic Kids          4.8     7665     12  2019  Non Fiction  "
      ]
     },
     "execution_count": 5,
     "metadata": {},
     "output_type": "execute_result"
    }
   ],
   "source": [
    "# show first few records\n",
    "df.head()"
   ]
  },
  {
   "cell_type": "code",
   "execution_count": 6,
   "id": "27e68e71",
   "metadata": {
    "execution": {
     "iopub.execute_input": "2021-07-08T16:03:33.149856Z",
     "iopub.status.busy": "2021-07-08T16:03:33.148999Z",
     "iopub.status.idle": "2021-07-08T16:03:33.152622Z",
     "shell.execute_reply": "2021-07-08T16:03:33.153153Z",
     "shell.execute_reply.started": "2021-07-08T15:52:17.104857Z"
    },
    "papermill": {
     "duration": 0.060097,
     "end_time": "2021-07-08T16:03:33.153345",
     "exception": false,
     "start_time": "2021-07-08T16:03:33.093248",
     "status": "completed"
    },
    "tags": []
   },
   "outputs": [
    {
     "data": {
      "text/plain": [
       "(550, 7)"
      ]
     },
     "execution_count": 6,
     "metadata": {},
     "output_type": "execute_result"
    }
   ],
   "source": [
    "# get the number of records and columns\n",
    "df.shape"
   ]
  },
  {
   "cell_type": "code",
   "execution_count": 7,
   "id": "870cb454",
   "metadata": {
    "execution": {
     "iopub.execute_input": "2021-07-08T16:03:33.256538Z",
     "iopub.status.busy": "2021-07-08T16:03:33.255756Z",
     "iopub.status.idle": "2021-07-08T16:03:33.284709Z",
     "shell.execute_reply": "2021-07-08T16:03:33.283783Z",
     "shell.execute_reply.started": "2021-07-08T15:52:22.590611Z"
    },
    "papermill": {
     "duration": 0.081985,
     "end_time": "2021-07-08T16:03:33.284906",
     "exception": false,
     "start_time": "2021-07-08T16:03:33.202921",
     "status": "completed"
    },
    "tags": []
   },
   "outputs": [
    {
     "name": "stdout",
     "output_type": "stream",
     "text": [
      "<class 'pandas.core.frame.DataFrame'>\n",
      "RangeIndex: 550 entries, 0 to 549\n",
      "Data columns (total 7 columns):\n",
      " #   Column       Non-Null Count  Dtype  \n",
      "---  ------       --------------  -----  \n",
      " 0   Name         550 non-null    object \n",
      " 1   Author       550 non-null    object \n",
      " 2   User Rating  550 non-null    float64\n",
      " 3   Reviews      550 non-null    int64  \n",
      " 4   Price        550 non-null    int64  \n",
      " 5   Year         550 non-null    int64  \n",
      " 6   Genre        550 non-null    object \n",
      "dtypes: float64(1), int64(3), object(3)\n",
      "memory usage: 30.2+ KB\n"
     ]
    }
   ],
   "source": [
    "# get concise summary of the dataframe\n",
    "df.info()"
   ]
  },
  {
   "cell_type": "code",
   "execution_count": 8,
   "id": "e51ac302",
   "metadata": {
    "execution": {
     "iopub.execute_input": "2021-07-08T16:03:33.388187Z",
     "iopub.status.busy": "2021-07-08T16:03:33.387134Z",
     "iopub.status.idle": "2021-07-08T16:03:33.397567Z",
     "shell.execute_reply": "2021-07-08T16:03:33.398091Z",
     "shell.execute_reply.started": "2021-07-08T15:52:28.731311Z"
    },
    "papermill": {
     "duration": 0.063141,
     "end_time": "2021-07-08T16:03:33.398274",
     "exception": false,
     "start_time": "2021-07-08T16:03:33.335133",
     "status": "completed"
    },
    "tags": []
   },
   "outputs": [
    {
     "data": {
      "text/plain": [
       "Name           0\n",
       "Author         0\n",
       "User Rating    0\n",
       "Reviews        0\n",
       "Price          0\n",
       "Year           0\n",
       "Genre          0\n",
       "dtype: int64"
      ]
     },
     "execution_count": 8,
     "metadata": {},
     "output_type": "execute_result"
    }
   ],
   "source": [
    "# check missing values\n",
    "df.isnull().sum()"
   ]
  },
  {
   "cell_type": "code",
   "execution_count": 9,
   "id": "79e153de",
   "metadata": {
    "execution": {
     "iopub.execute_input": "2021-07-08T16:03:33.505815Z",
     "iopub.status.busy": "2021-07-08T16:03:33.503231Z",
     "iopub.status.idle": "2021-07-08T16:03:33.513765Z",
     "shell.execute_reply": "2021-07-08T16:03:33.514691Z",
     "shell.execute_reply.started": "2021-07-08T15:52:36.477215Z"
    },
    "papermill": {
     "duration": 0.067422,
     "end_time": "2021-07-08T16:03:33.514934",
     "exception": false,
     "start_time": "2021-07-08T16:03:33.447512",
     "status": "completed"
    },
    "tags": []
   },
   "outputs": [
    {
     "data": {
      "text/plain": [
       "0"
      ]
     },
     "execution_count": 9,
     "metadata": {},
     "output_type": "execute_result"
    }
   ],
   "source": [
    "# check duplicate values\n",
    "df.duplicated().sum()"
   ]
  },
  {
   "cell_type": "code",
   "execution_count": 10,
   "id": "f51a13eb",
   "metadata": {
    "execution": {
     "iopub.execute_input": "2021-07-08T16:03:33.630091Z",
     "iopub.status.busy": "2021-07-08T16:03:33.627691Z",
     "iopub.status.idle": "2021-07-08T16:03:33.660531Z",
     "shell.execute_reply": "2021-07-08T16:03:33.659866Z",
     "shell.execute_reply.started": "2021-07-08T15:52:41.019229Z"
    },
    "papermill": {
     "duration": 0.086598,
     "end_time": "2021-07-08T16:03:33.660685",
     "exception": false,
     "start_time": "2021-07-08T16:03:33.574087",
     "status": "completed"
    },
    "tags": []
   },
   "outputs": [
    {
     "data": {
      "text/html": [
       "<div>\n",
       "<style scoped>\n",
       "    .dataframe tbody tr th:only-of-type {\n",
       "        vertical-align: middle;\n",
       "    }\n",
       "\n",
       "    .dataframe tbody tr th {\n",
       "        vertical-align: top;\n",
       "    }\n",
       "\n",
       "    .dataframe thead th {\n",
       "        text-align: right;\n",
       "    }\n",
       "</style>\n",
       "<table border=\"1\" class=\"dataframe\">\n",
       "  <thead>\n",
       "    <tr style=\"text-align: right;\">\n",
       "      <th></th>\n",
       "      <th>User Rating</th>\n",
       "      <th>Reviews</th>\n",
       "      <th>Price</th>\n",
       "      <th>Year</th>\n",
       "    </tr>\n",
       "  </thead>\n",
       "  <tbody>\n",
       "    <tr>\n",
       "      <th>count</th>\n",
       "      <td>550.000000</td>\n",
       "      <td>550.000000</td>\n",
       "      <td>550.000000</td>\n",
       "      <td>550.000000</td>\n",
       "    </tr>\n",
       "    <tr>\n",
       "      <th>mean</th>\n",
       "      <td>4.618364</td>\n",
       "      <td>11953.281818</td>\n",
       "      <td>13.100000</td>\n",
       "      <td>2014.000000</td>\n",
       "    </tr>\n",
       "    <tr>\n",
       "      <th>std</th>\n",
       "      <td>0.226980</td>\n",
       "      <td>11731.132017</td>\n",
       "      <td>10.842262</td>\n",
       "      <td>3.165156</td>\n",
       "    </tr>\n",
       "    <tr>\n",
       "      <th>min</th>\n",
       "      <td>3.300000</td>\n",
       "      <td>37.000000</td>\n",
       "      <td>0.000000</td>\n",
       "      <td>2009.000000</td>\n",
       "    </tr>\n",
       "    <tr>\n",
       "      <th>25%</th>\n",
       "      <td>4.500000</td>\n",
       "      <td>4058.000000</td>\n",
       "      <td>7.000000</td>\n",
       "      <td>2011.000000</td>\n",
       "    </tr>\n",
       "    <tr>\n",
       "      <th>50%</th>\n",
       "      <td>4.700000</td>\n",
       "      <td>8580.000000</td>\n",
       "      <td>11.000000</td>\n",
       "      <td>2014.000000</td>\n",
       "    </tr>\n",
       "    <tr>\n",
       "      <th>75%</th>\n",
       "      <td>4.800000</td>\n",
       "      <td>17253.250000</td>\n",
       "      <td>16.000000</td>\n",
       "      <td>2017.000000</td>\n",
       "    </tr>\n",
       "    <tr>\n",
       "      <th>max</th>\n",
       "      <td>4.900000</td>\n",
       "      <td>87841.000000</td>\n",
       "      <td>105.000000</td>\n",
       "      <td>2019.000000</td>\n",
       "    </tr>\n",
       "  </tbody>\n",
       "</table>\n",
       "</div>"
      ],
      "text/plain": [
       "       User Rating       Reviews       Price         Year\n",
       "count   550.000000    550.000000  550.000000   550.000000\n",
       "mean      4.618364  11953.281818   13.100000  2014.000000\n",
       "std       0.226980  11731.132017   10.842262     3.165156\n",
       "min       3.300000     37.000000    0.000000  2009.000000\n",
       "25%       4.500000   4058.000000    7.000000  2011.000000\n",
       "50%       4.700000   8580.000000   11.000000  2014.000000\n",
       "75%       4.800000  17253.250000   16.000000  2017.000000\n",
       "max       4.900000  87841.000000  105.000000  2019.000000"
      ]
     },
     "execution_count": 10,
     "metadata": {},
     "output_type": "execute_result"
    }
   ],
   "source": [
    "df.describe()"
   ]
  },
  {
   "cell_type": "code",
   "execution_count": 11,
   "id": "ef5913f8",
   "metadata": {
    "execution": {
     "iopub.execute_input": "2021-07-08T16:03:33.770444Z",
     "iopub.status.busy": "2021-07-08T16:03:33.769750Z",
     "iopub.status.idle": "2021-07-08T16:03:33.774091Z",
     "shell.execute_reply": "2021-07-08T16:03:33.774557Z",
     "shell.execute_reply.started": "2021-07-08T15:52:56.339131Z"
    },
    "papermill": {
     "duration": 0.061599,
     "end_time": "2021-07-08T16:03:33.774748",
     "exception": false,
     "start_time": "2021-07-08T16:03:33.713149",
     "status": "completed"
    },
    "tags": []
   },
   "outputs": [
    {
     "data": {
      "text/plain": [
       "array([  0,   1,   2,   3,   4,   5,   6,   7,   8,   9,  10,  11,  12,\n",
       "        13,  14,  15,  16,  17,  18,  19,  20,  21,  22,  23,  24,  25,\n",
       "        27,  28,  30,  32,  36,  39,  40,  42,  46,  52,  53,  54,  82,\n",
       "       105])"
      ]
     },
     "execution_count": 11,
     "metadata": {},
     "output_type": "execute_result"
    }
   ],
   "source": [
    "# range of prices\n",
    "np.sort(df['Price'].unique())"
   ]
  },
  {
   "attachments": {},
   "cell_type": "markdown",
   "id": "4a44a525",
   "metadata": {
    "papermill": {
     "duration": 0.050996,
     "end_time": "2021-07-08T16:03:33.876806",
     "exception": false,
     "start_time": "2021-07-08T16:03:33.825810",
     "status": "completed"
    },
    "tags": []
   },
   "source": [
    "Well, zero price would mean that amazon distributed those books for free, lets show these books labeled with zero price."
   ]
  },
  {
   "cell_type": "code",
   "execution_count": 12,
   "id": "fcd0011e",
   "metadata": {
    "execution": {
     "iopub.execute_input": "2021-07-08T16:03:33.984141Z",
     "iopub.status.busy": "2021-07-08T16:03:33.983386Z",
     "iopub.status.idle": "2021-07-08T16:03:34.018493Z",
     "shell.execute_reply": "2021-07-08T16:03:34.019016Z",
     "shell.execute_reply.started": "2021-07-08T15:53:08.247603Z"
    },
    "papermill": {
     "duration": 0.092069,
     "end_time": "2021-07-08T16:03:34.019214",
     "exception": false,
     "start_time": "2021-07-08T16:03:33.927145",
     "status": "completed"
    },
    "tags": []
   },
   "outputs": [
    {
     "data": {
      "text/html": [
       "<div>\n",
       "<style scoped>\n",
       "    .dataframe tbody tr th:only-of-type {\n",
       "        vertical-align: middle;\n",
       "    }\n",
       "\n",
       "    .dataframe tbody tr th {\n",
       "        vertical-align: top;\n",
       "    }\n",
       "\n",
       "    .dataframe thead th {\n",
       "        text-align: right;\n",
       "    }\n",
       "</style>\n",
       "<table border=\"1\" class=\"dataframe\">\n",
       "  <thead>\n",
       "    <tr style=\"text-align: right;\">\n",
       "      <th></th>\n",
       "      <th>Name</th>\n",
       "      <th>Author</th>\n",
       "      <th>User Rating</th>\n",
       "      <th>Reviews</th>\n",
       "      <th>Price</th>\n",
       "      <th>Year</th>\n",
       "      <th>Genre</th>\n",
       "    </tr>\n",
       "  </thead>\n",
       "  <tbody>\n",
       "    <tr>\n",
       "      <th>42</th>\n",
       "      <td>Cabin Fever (Diary of a Wimpy Kid, Book 6)</td>\n",
       "      <td>Jeff Kinney</td>\n",
       "      <td>4.8</td>\n",
       "      <td>4505</td>\n",
       "      <td>0</td>\n",
       "      <td>2011</td>\n",
       "      <td>Fiction</td>\n",
       "    </tr>\n",
       "    <tr>\n",
       "      <th>71</th>\n",
       "      <td>Diary of a Wimpy Kid: Hard Luck, Book 8</td>\n",
       "      <td>Jeff Kinney</td>\n",
       "      <td>4.8</td>\n",
       "      <td>6812</td>\n",
       "      <td>0</td>\n",
       "      <td>2013</td>\n",
       "      <td>Fiction</td>\n",
       "    </tr>\n",
       "    <tr>\n",
       "      <th>116</th>\n",
       "      <td>Frozen (Little Golden Book)</td>\n",
       "      <td>RH Disney</td>\n",
       "      <td>4.7</td>\n",
       "      <td>3642</td>\n",
       "      <td>0</td>\n",
       "      <td>2014</td>\n",
       "      <td>Fiction</td>\n",
       "    </tr>\n",
       "    <tr>\n",
       "      <th>193</th>\n",
       "      <td>JOURNEY TO THE ICE P</td>\n",
       "      <td>RH Disney</td>\n",
       "      <td>4.6</td>\n",
       "      <td>978</td>\n",
       "      <td>0</td>\n",
       "      <td>2014</td>\n",
       "      <td>Fiction</td>\n",
       "    </tr>\n",
       "    <tr>\n",
       "      <th>219</th>\n",
       "      <td>Little Blue Truck</td>\n",
       "      <td>Alice Schertle</td>\n",
       "      <td>4.9</td>\n",
       "      <td>1884</td>\n",
       "      <td>0</td>\n",
       "      <td>2014</td>\n",
       "      <td>Fiction</td>\n",
       "    </tr>\n",
       "    <tr>\n",
       "      <th>358</th>\n",
       "      <td>The Constitution of the United States</td>\n",
       "      <td>Delegates of the Constitutional</td>\n",
       "      <td>4.8</td>\n",
       "      <td>2774</td>\n",
       "      <td>0</td>\n",
       "      <td>2016</td>\n",
       "      <td>Non Fiction</td>\n",
       "    </tr>\n",
       "    <tr>\n",
       "      <th>381</th>\n",
       "      <td>The Getaway</td>\n",
       "      <td>Jeff Kinney</td>\n",
       "      <td>4.8</td>\n",
       "      <td>5836</td>\n",
       "      <td>0</td>\n",
       "      <td>2017</td>\n",
       "      <td>Fiction</td>\n",
       "    </tr>\n",
       "    <tr>\n",
       "      <th>461</th>\n",
       "      <td>The Short Second Life of Bree Tanner: An Eclip...</td>\n",
       "      <td>Stephenie Meyer</td>\n",
       "      <td>4.6</td>\n",
       "      <td>2122</td>\n",
       "      <td>0</td>\n",
       "      <td>2010</td>\n",
       "      <td>Fiction</td>\n",
       "    </tr>\n",
       "    <tr>\n",
       "      <th>505</th>\n",
       "      <td>To Kill a Mockingbird</td>\n",
       "      <td>Harper Lee</td>\n",
       "      <td>4.8</td>\n",
       "      <td>26234</td>\n",
       "      <td>0</td>\n",
       "      <td>2013</td>\n",
       "      <td>Fiction</td>\n",
       "    </tr>\n",
       "    <tr>\n",
       "      <th>506</th>\n",
       "      <td>To Kill a Mockingbird</td>\n",
       "      <td>Harper Lee</td>\n",
       "      <td>4.8</td>\n",
       "      <td>26234</td>\n",
       "      <td>0</td>\n",
       "      <td>2014</td>\n",
       "      <td>Fiction</td>\n",
       "    </tr>\n",
       "    <tr>\n",
       "      <th>507</th>\n",
       "      <td>To Kill a Mockingbird</td>\n",
       "      <td>Harper Lee</td>\n",
       "      <td>4.8</td>\n",
       "      <td>26234</td>\n",
       "      <td>0</td>\n",
       "      <td>2015</td>\n",
       "      <td>Fiction</td>\n",
       "    </tr>\n",
       "    <tr>\n",
       "      <th>508</th>\n",
       "      <td>To Kill a Mockingbird</td>\n",
       "      <td>Harper Lee</td>\n",
       "      <td>4.8</td>\n",
       "      <td>26234</td>\n",
       "      <td>0</td>\n",
       "      <td>2016</td>\n",
       "      <td>Fiction</td>\n",
       "    </tr>\n",
       "  </tbody>\n",
       "</table>\n",
       "</div>"
      ],
      "text/plain": [
       "                                                  Name  \\\n",
       "42          Cabin Fever (Diary of a Wimpy Kid, Book 6)   \n",
       "71             Diary of a Wimpy Kid: Hard Luck, Book 8   \n",
       "116                        Frozen (Little Golden Book)   \n",
       "193                               JOURNEY TO THE ICE P   \n",
       "219                                  Little Blue Truck   \n",
       "358              The Constitution of the United States   \n",
       "381                                        The Getaway   \n",
       "461  The Short Second Life of Bree Tanner: An Eclip...   \n",
       "505                              To Kill a Mockingbird   \n",
       "506                              To Kill a Mockingbird   \n",
       "507                              To Kill a Mockingbird   \n",
       "508                              To Kill a Mockingbird   \n",
       "\n",
       "                               Author  User Rating  Reviews  Price  Year  \\\n",
       "42                        Jeff Kinney          4.8     4505      0  2011   \n",
       "71                        Jeff Kinney          4.8     6812      0  2013   \n",
       "116                         RH Disney          4.7     3642      0  2014   \n",
       "193                         RH Disney          4.6      978      0  2014   \n",
       "219                    Alice Schertle          4.9     1884      0  2014   \n",
       "358  Delegates of the Constitutional\n",
       "          4.8     2774      0  2016   \n",
       "381                       Jeff Kinney          4.8     5836      0  2017   \n",
       "461                   Stephenie Meyer          4.6     2122      0  2010   \n",
       "505                        Harper Lee          4.8    26234      0  2013   \n",
       "506                        Harper Lee          4.8    26234      0  2014   \n",
       "507                        Harper Lee          4.8    26234      0  2015   \n",
       "508                        Harper Lee          4.8    26234      0  2016   \n",
       "\n",
       "           Genre  \n",
       "42       Fiction  \n",
       "71       Fiction  \n",
       "116      Fiction  \n",
       "193      Fiction  \n",
       "219      Fiction  \n",
       "358  Non Fiction  \n",
       "381      Fiction  \n",
       "461      Fiction  \n",
       "505      Fiction  \n",
       "506      Fiction  \n",
       "507      Fiction  \n",
       "508      Fiction  "
      ]
     },
     "execution_count": 12,
     "metadata": {},
     "output_type": "execute_result"
    }
   ],
   "source": [
    "df[df['Price'] == 0]"
   ]
  },
  {
   "attachments": {},
   "cell_type": "markdown",
   "id": "8acb311b",
   "metadata": {
    "papermill": {
     "duration": 0.051912,
     "end_time": "2021-07-08T16:03:34.127111",
     "exception": false,
     "start_time": "2021-07-08T16:03:34.075199",
     "status": "completed"
    },
    "tags": []
   },
   "source": [
    "# Data Visulaistion"
   ]
  },
  {
   "attachments": {},
   "cell_type": "markdown",
   "id": "e2a08ca9",
   "metadata": {
    "papermill": {
     "duration": 0.055113,
     "end_time": "2021-07-08T16:03:34.233054",
     "exception": false,
     "start_time": "2021-07-08T16:03:34.177941",
     "status": "completed"
    },
    "tags": []
   },
   "source": [
    "## What Is the Rating Distribution for the Books?"
   ]
  },
  {
   "cell_type": "code",
   "execution_count": 13,
   "id": "89525cb5",
   "metadata": {
    "execution": {
     "iopub.execute_input": "2021-07-08T16:03:34.361608Z",
     "iopub.status.busy": "2021-07-08T16:03:34.360842Z",
     "iopub.status.idle": "2021-07-08T16:03:34.861124Z",
     "shell.execute_reply": "2021-07-08T16:03:34.860527Z",
     "shell.execute_reply.started": "2021-07-08T15:53:39.040844Z"
    },
    "papermill": {
     "duration": 0.577356,
     "end_time": "2021-07-08T16:03:34.861266",
     "exception": false,
     "start_time": "2021-07-08T16:03:34.283910",
     "status": "completed"
    },
    "tags": []
   },
   "outputs": [
    {
     "data": {
      "image/png": "[encoded data removed]",
      "text/plain": [
       "<Figure size 648x360 with 1 Axes>"
      ]
     },
     "metadata": {},
     "output_type": "display_data"
    }
   ],
   "source": [
    "# ratings distribution\n",
    "sns.kdeplot(df['User Rating'], shade = True)\n",
    "plt.title('Rating Distribution')\n",
    "plt.xlabel('Rating')\n",
    "plt.ylabel('Frequency');"
   ]
  },
  {
   "attachments": {},
   "cell_type": "markdown",
   "id": "b77faa28",
   "metadata": {
    "papermill": {
     "duration": 0.052084,
     "end_time": "2021-07-08T16:03:34.966018",
     "exception": false,
     "start_time": "2021-07-08T16:03:34.913934",
     "status": "completed"
    },
    "tags": []
   },
   "source": [
    "## Which Category Has a Wider Range and Distribution?"
   ]
  },
  {
   "cell_type": "code",
   "execution_count": 14,
   "id": "9ab6e9f8",
   "metadata": {
    "execution": {
     "iopub.execute_input": "2021-07-08T16:03:35.104642Z",
     "iopub.status.busy": "2021-07-08T16:03:35.093847Z",
     "iopub.status.idle": "2021-07-08T16:03:35.201277Z",
     "shell.execute_reply": "2021-07-08T16:03:35.201815Z",
     "shell.execute_reply.started": "2021-07-08T15:53:56.488137Z"
    },
    "papermill": {
     "duration": 0.182478,
     "end_time": "2021-07-08T16:03:35.202021",
     "exception": false,
     "start_time": "2021-07-08T16:03:35.019543",
     "status": "completed"
    },
    "tags": []
   },
   "outputs": [
    {
     "data": {
      "image/png": "[encoded data removed]",
      "text/plain": [
       "<Figure size 648x360 with 1 Axes>"
      ]
     },
     "metadata": {},
     "output_type": "display_data"
    }
   ],
   "source": [
    "# genre distribution\n",
    "plt.pie(df['Genre'].value_counts(), autopct = '%1.2f%%', labels = df['Genre'].value_counts().index)\n",
    "plt.title('Genre Distribution');"
   ]
  },
  {
   "attachments": {},
   "cell_type": "markdown",
   "id": "83f12682",
   "metadata": {
    "papermill": {
     "duration": 0.053158,
     "end_time": "2021-07-08T16:03:35.308555",
     "exception": false,
     "start_time": "2021-07-08T16:03:35.255397",
     "status": "completed"
    },
    "tags": []
   },
   "source": [
    "## What Is Price Distribution? "
   ]
  },
  {
   "cell_type": "code",
   "execution_count": 15,
   "id": "ad747974",
   "metadata": {
    "execution": {
     "iopub.execute_input": "2021-07-08T16:03:35.440564Z",
     "iopub.status.busy": "2021-07-08T16:03:35.438308Z",
     "iopub.status.idle": "2021-07-08T16:03:36.073054Z",
     "shell.execute_reply": "2021-07-08T16:03:36.072424Z",
     "shell.execute_reply.started": "2021-07-08T15:54:07.556501Z"
    },
    "papermill": {
     "duration": 0.711119,
     "end_time": "2021-07-08T16:03:36.073194",
     "exception": false,
     "start_time": "2021-07-08T16:03:35.362075",
     "status": "completed"
    },
    "tags": []
   },
   "outputs": [
    {
     "data": {
      "image/png": "[encoded data removed]",
      "text/plain": [
       "<Figure size 648x360 with 1 Axes>"
      ]
     },
     "metadata": {},
     "output_type": "display_data"
    }
   ],
   "source": [
    "# price distribution\n",
    "plt.title('Price Distribution')\n",
    "sns.histplot(x = 'Price', hue = 'Genre', data = df);"
   ]
  },
  {
   "attachments": {},
   "cell_type": "markdown",
   "id": "2a1af5d1",
   "metadata": {
    "papermill": {
     "duration": 0.056229,
     "end_time": "2021-07-08T16:03:36.185535",
     "exception": false,
     "start_time": "2021-07-08T16:03:36.129306",
     "status": "completed"
    },
    "tags": []
   },
   "source": [
    "## What Is Reviews Distribution?"
   ]
  },
  {
   "cell_type": "code",
   "execution_count": 16,
   "id": "11efc2fe",
   "metadata": {
    "execution": {
     "iopub.execute_input": "2021-07-08T16:03:36.302473Z",
     "iopub.status.busy": "2021-07-08T16:03:36.301291Z",
     "iopub.status.idle": "2021-07-08T16:03:36.804278Z",
     "shell.execute_reply": "2021-07-08T16:03:36.803728Z",
     "shell.execute_reply.started": "2021-07-08T15:54:20.491966Z"
    },
    "papermill": {
     "duration": 0.563721,
     "end_time": "2021-07-08T16:03:36.804427",
     "exception": false,
     "start_time": "2021-07-08T16:03:36.240706",
     "status": "completed"
    },
    "tags": []
   },
   "outputs": [
    {
     "data": {
      "image/png": "[encoded data removed]",
      "text/plain": [
       "<Figure size 648x360 with 1 Axes>"
      ]
     },
     "metadata": {},
     "output_type": "display_data"
    }
   ],
   "source": [
    "# reviews distribution\n",
    "plt.title('Reviews Distribution')\n",
    "sns.histplot(x = 'Reviews', hue = 'Genre', data = df);"
   ]
  },
  {
   "attachments": {},
   "cell_type": "markdown",
   "id": "cd707638",
   "metadata": {
    "papermill": {
     "duration": 0.054752,
     "end_time": "2021-07-08T16:03:36.913935",
     "exception": false,
     "start_time": "2021-07-08T16:03:36.859183",
     "status": "completed"
    },
    "tags": []
   },
   "source": [
    "## Who Has Written the Most Books?"
   ]
  },
  {
   "cell_type": "code",
   "execution_count": 17,
   "id": "10d017a5",
   "metadata": {
    "execution": {
     "iopub.execute_input": "2021-07-08T16:03:37.038821Z",
     "iopub.status.busy": "2021-07-08T16:03:37.037909Z",
     "iopub.status.idle": "2021-07-08T16:03:37.041641Z",
     "shell.execute_reply": "2021-07-08T16:03:37.042119Z",
     "shell.execute_reply.started": "2021-07-08T15:54:33.697508Z"
    },
    "papermill": {
     "duration": 0.068501,
     "end_time": "2021-07-08T16:03:37.042299",
     "exception": false,
     "start_time": "2021-07-08T16:03:36.973798",
     "status": "completed"
    },
    "tags": []
   },
   "outputs": [
    {
     "data": {
      "text/plain": [
       "Jeff Kinney                           12\n",
       "Gary Chapman                          11\n",
       "Rick Riordan                          11\n",
       "Suzanne Collins                       11\n",
       "American Psychological Association    10\n",
       "Dr. Seuss                              9\n",
       "Gallup                                 9\n",
       "Rob Elliott                            8\n",
       "Bill O'Reilly                          7\n",
       "Stephen R. Covey                       7\n",
       "Name: Author, dtype: int64"
      ]
     },
     "execution_count": 17,
     "metadata": {},
     "output_type": "execute_result"
    }
   ],
   "source": [
    "# authors with most books\n",
    "most_books = df['Author'].value_counts().head(10)\n",
    "most_books"
   ]
  },
  {
   "cell_type": "code",
   "execution_count": 18,
   "id": "2188c992",
   "metadata": {
    "execution": {
     "iopub.execute_input": "2021-07-08T16:03:37.155547Z",
     "iopub.status.busy": "2021-07-08T16:03:37.154546Z",
     "iopub.status.idle": "2021-07-08T16:03:37.395923Z",
     "shell.execute_reply": "2021-07-08T16:03:37.394689Z",
     "shell.execute_reply.started": "2021-07-08T15:54:38.345223Z"
    },
    "papermill": {
     "duration": 0.300362,
     "end_time": "2021-07-08T16:03:37.396117",
     "exception": false,
     "start_time": "2021-07-08T16:03:37.095755",
     "status": "completed"
    },
    "tags": []
   },
   "outputs": [
    {
     "data": {
      "image/png": "[encoded data removed]",
      "text/plain": [
       "<Figure size 504x504 with 1 Axes>"
      ]
     },
     "metadata": {},
     "output_type": "display_data"
    }
   ],
   "source": [
    "# visualise authors with most books\n",
    "most_books.plot(kind = 'pie', autopct = '%1.1f%%', figsize = (7, 7));"
   ]
  },
  {
   "attachments": {},
   "cell_type": "markdown",
   "id": "f22bbd76",
   "metadata": {
    "papermill": {
     "duration": 0.057277,
     "end_time": "2021-07-08T16:03:37.509443",
     "exception": false,
     "start_time": "2021-07-08T16:03:37.452166",
     "status": "completed"
    },
    "tags": []
   },
   "source": [
    "## What Is the Number of Books Per Rating?"
   ]
  },
  {
   "cell_type": "code",
   "execution_count": 19,
   "id": "27c28b22",
   "metadata": {
    "execution": {
     "iopub.execute_input": "2021-07-08T16:03:37.635210Z",
     "iopub.status.busy": "2021-07-08T16:03:37.634138Z",
     "iopub.status.idle": "2021-07-08T16:03:37.997582Z",
     "shell.execute_reply": "2021-07-08T16:03:37.996940Z",
     "shell.execute_reply.started": "2021-07-08T15:54:50.395625Z"
    },
    "papermill": {
     "duration": 0.431032,
     "end_time": "2021-07-08T16:03:37.997718",
     "exception": false,
     "start_time": "2021-07-08T16:03:37.566686",
     "status": "completed"
    },
    "tags": []
   },
   "outputs": [
    {
     "data": {
      "image/png": "[encoded data removed]",
      "text/plain": [
       "<Figure size 648x360 with 1 Axes>"
      ]
     },
     "metadata": {},
     "output_type": "display_data"
    }
   ],
   "source": [
    "# number of books per rating?\n",
    "sns.barplot(df['User Rating'].value_counts().index, df['User Rating'].value_counts())\n",
    "plt.title('Number of Books Each Rating Received')\n",
    "plt.xlabel('Ratings')\n",
    "plt.ylabel('Counts')\n",
    "plt.xticks(rotation = 45);"
   ]
  },
  {
   "attachments": {},
   "cell_type": "markdown",
   "id": "e76fabf5",
   "metadata": {
    "papermill": {
     "duration": 0.057017,
     "end_time": "2021-07-08T16:03:38.112444",
     "exception": false,
     "start_time": "2021-07-08T16:03:38.055427",
     "status": "completed"
    },
    "tags": []
   },
   "source": [
    "## Which Year Has the Highest User Rating?"
   ]
  },
  {
   "cell_type": "code",
   "execution_count": 20,
   "id": "bc9cebfa",
   "metadata": {
    "execution": {
     "iopub.execute_input": "2021-07-08T16:03:38.252522Z",
     "iopub.status.busy": "2021-07-08T16:03:38.251778Z",
     "iopub.status.idle": "2021-07-08T16:03:38.480069Z",
     "shell.execute_reply": "2021-07-08T16:03:38.479515Z",
     "shell.execute_reply.started": "2021-07-08T15:55:02.223717Z"
    },
    "papermill": {
     "duration": 0.311296,
     "end_time": "2021-07-08T16:03:38.480217",
     "exception": false,
     "start_time": "2021-07-08T16:03:38.168921",
     "status": "completed"
    },
    "tags": []
   },
   "outputs": [
    {
     "data": {
      "image/png": "[encoded data removed]",
      "text/plain": [
       "<Figure size 648x360 with 1 Axes>"
      ]
     },
     "metadata": {},
     "output_type": "display_data"
    }
   ],
   "source": [
    "# year with highest rating\n",
    "df.groupby('Year')['User Rating'].sum().plot(marker = 'o', c = 'g')\n",
    "plt.title('Year vs Average Rating')\n",
    "plt.xlabel('Year')\n",
    "plt.ylabel('No. of Ratings');"
   ]
  },
  {
   "attachments": {},
   "cell_type": "markdown",
   "id": "cab8a0c3",
   "metadata": {
    "papermill": {
     "duration": 0.057643,
     "end_time": "2021-07-08T16:03:38.596755",
     "exception": false,
     "start_time": "2021-07-08T16:03:38.539112",
     "status": "completed"
    },
    "tags": []
   },
   "source": [
    "## Which Year Has the Highest Reviews?"
   ]
  },
  {
   "cell_type": "code",
   "execution_count": 21,
   "id": "1a7a0ae2",
   "metadata": {
    "execution": {
     "iopub.execute_input": "2021-07-08T16:03:38.742598Z",
     "iopub.status.busy": "2021-07-08T16:03:38.723773Z",
     "iopub.status.idle": "2021-07-08T16:03:38.982321Z",
     "shell.execute_reply": "2021-07-08T16:03:38.981681Z",
     "shell.execute_reply.started": "2021-07-08T15:55:13.092957Z"
    },
    "papermill": {
     "duration": 0.328228,
     "end_time": "2021-07-08T16:03:38.982473",
     "exception": false,
     "start_time": "2021-07-08T16:03:38.654245",
     "status": "completed"
    },
    "tags": []
   },
   "outputs": [
    {
     "data": {
      "image/png": "[encoded data removed]",
      "text/plain": [
       "<Figure size 648x360 with 1 Axes>"
      ]
     },
     "metadata": {},
     "output_type": "display_data"
    }
   ],
   "source": [
    "# year with highest reviews\n",
    "df.groupby('Year')['Reviews'].sum().plot(marker = 'o', c = 'g')\n",
    "plt.title('Year Vs Average Reviews')\n",
    "plt.xlabel('Year')\n",
    "plt.ylabel('No. of Reviews');"
   ]
  },
  {
   "attachments": {},
   "cell_type": "markdown",
   "id": "373df831",
   "metadata": {
    "papermill": {
     "duration": 0.059707,
     "end_time": "2021-07-08T16:03:39.102911",
     "exception": false,
     "start_time": "2021-07-08T16:03:39.043204",
     "status": "completed"
    },
    "tags": []
   },
   "source": [
    "## What is the Price Variation Through Time?"
   ]
  },
  {
   "cell_type": "code",
   "execution_count": 22,
   "id": "d8ae4021",
   "metadata": {
    "execution": {
     "iopub.execute_input": "2021-07-08T16:03:39.261330Z",
     "iopub.status.busy": "2021-07-08T16:03:39.260565Z",
     "iopub.status.idle": "2021-07-08T16:03:39.483896Z",
     "shell.execute_reply": "2021-07-08T16:03:39.482795Z",
     "shell.execute_reply.started": "2021-07-08T15:55:23.999208Z"
    },
    "papermill": {
     "duration": 0.321737,
     "end_time": "2021-07-08T16:03:39.484070",
     "exception": false,
     "start_time": "2021-07-08T16:03:39.162333",
     "status": "completed"
    },
    "tags": []
   },
   "outputs": [
    {
     "data": {
      "image/png": "[encoded data removed]",
      "text/plain": [
       "<Figure size 648x360 with 1 Axes>"
      ]
     },
     "metadata": {},
     "output_type": "display_data"
    }
   ],
   "source": [
    "# price variation over the time\n",
    "df.groupby('Year')['Price'].sum().plot(marker = 'o', c = 'g')\n",
    "plt.title('Variation of Price Over the Years')\n",
    "plt.xlabel('Year')\n",
    "plt.ylabel('Price');"
   ]
  },
  {
   "attachments": {},
   "cell_type": "markdown",
   "id": "0adf6b19",
   "metadata": {
    "papermill": {
     "duration": 0.063711,
     "end_time": "2021-07-08T16:03:39.610437",
     "exception": false,
     "start_time": "2021-07-08T16:03:39.546726",
     "status": "completed"
    },
    "tags": []
   },
   "source": [
    "## What Are the Highest Reviewed Books?"
   ]
  },
  {
   "cell_type": "code",
   "execution_count": 23,
   "id": "e946cd6e",
   "metadata": {
    "execution": {
     "iopub.execute_input": "2021-07-08T16:03:39.741610Z",
     "iopub.status.busy": "2021-07-08T16:03:39.740934Z",
     "iopub.status.idle": "2021-07-08T16:03:40.313023Z",
     "shell.execute_reply": "2021-07-08T16:03:40.313507Z",
     "shell.execute_reply.started": "2021-07-08T15:55:41.067851Z"
    },
    "papermill": {
     "duration": 0.642313,
     "end_time": "2021-07-08T16:03:40.313702",
     "exception": false,
     "start_time": "2021-07-08T16:03:39.671389",
     "status": "completed"
    },
    "tags": []
   },
   "outputs": [
    {
     "data": {
      "image/png": "[encoded data removed]",
      "text/plain": [
       "<Figure size 648x360 with 1 Axes>"
      ]
     },
     "metadata": {},
     "output_type": "display_data"
    }
   ],
   "source": [
    "# top reviewed books\n",
    "top_reviews = df.nlargest(20, ['Reviews'])\n",
    "sns.barplot(top_reviews['Reviews'], top_reviews['Name']);"
   ]
  },
  {
   "attachments": {},
   "cell_type": "markdown",
   "id": "cc184f89",
   "metadata": {
    "papermill": {
     "duration": 0.062415,
     "end_time": "2021-07-08T16:03:40.439005",
     "exception": false,
     "start_time": "2021-07-08T16:03:40.376590",
     "status": "completed"
    },
    "tags": []
   },
   "source": [
    "## What Are the Lowest Reviewed Books?"
   ]
  },
  {
   "cell_type": "code",
   "execution_count": 24,
   "id": "e556cac7",
   "metadata": {
    "execution": {
     "iopub.execute_input": "2021-07-08T16:03:40.574289Z",
     "iopub.status.busy": "2021-07-08T16:03:40.573317Z",
     "iopub.status.idle": "2021-07-08T16:03:41.025577Z",
     "shell.execute_reply": "2021-07-08T16:03:41.026107Z",
     "shell.execute_reply.started": "2021-07-08T15:55:54.415388Z"
    },
    "papermill": {
     "duration": 0.524683,
     "end_time": "2021-07-08T16:03:41.026291",
     "exception": false,
     "start_time": "2021-07-08T16:03:40.501608",
     "status": "completed"
    },
    "tags": []
   },
   "outputs": [
    {
     "data": {
      "image/png": "[encoded data removed]",
      "text/plain": [
       "<Figure size 648x360 with 1 Axes>"
      ]
     },
     "metadata": {},
     "output_type": "display_data"
    }
   ],
   "source": [
    "# lowest reviewed books\n",
    "lowest_reviews = df.nsmallest(10, ['Reviews'])\n",
    "sns.barplot(lowest_reviews['Reviews'], lowest_reviews['Name']);"
   ]
  },
  {
   "attachments": {},
   "cell_type": "markdown",
   "id": "65797a13",
   "metadata": {
    "papermill": {
     "duration": 0.064872,
     "end_time": "2021-07-08T16:03:41.156394",
     "exception": false,
     "start_time": "2021-07-08T16:03:41.091522",
     "status": "completed"
    },
    "tags": []
   },
   "source": [
    "## What Are the Worst Rated Books?"
   ]
  },
  {
   "cell_type": "code",
   "execution_count": 25,
   "id": "6d8b248a",
   "metadata": {
    "execution": {
     "iopub.execute_input": "2021-07-08T16:03:41.291878Z",
     "iopub.status.busy": "2021-07-08T16:03:41.290861Z",
     "iopub.status.idle": "2021-07-08T16:03:41.308094Z",
     "shell.execute_reply": "2021-07-08T16:03:41.307547Z",
     "shell.execute_reply.started": "2021-07-08T15:56:05.462626Z"
    },
    "papermill": {
     "duration": 0.087041,
     "end_time": "2021-07-08T16:03:41.308254",
     "exception": false,
     "start_time": "2021-07-08T16:03:41.221213",
     "status": "completed"
    },
    "tags": []
   },
   "outputs": [
    {
     "data": {
      "text/html": [
       "<div>\n",
       "<style scoped>\n",
       "    .dataframe tbody tr th:only-of-type {\n",
       "        vertical-align: middle;\n",
       "    }\n",
       "\n",
       "    .dataframe tbody tr th {\n",
       "        vertical-align: top;\n",
       "    }\n",
       "\n",
       "    .dataframe thead th {\n",
       "        text-align: right;\n",
       "    }\n",
       "</style>\n",
       "<table border=\"1\" class=\"dataframe\">\n",
       "  <thead>\n",
       "    <tr style=\"text-align: right;\">\n",
       "      <th></th>\n",
       "      <th>Name</th>\n",
       "      <th>Author</th>\n",
       "      <th>User Rating</th>\n",
       "      <th>Reviews</th>\n",
       "      <th>Price</th>\n",
       "      <th>Year</th>\n",
       "      <th>Genre</th>\n",
       "    </tr>\n",
       "  </thead>\n",
       "  <tbody>\n",
       "    <tr>\n",
       "      <th>353</th>\n",
       "      <td>The Casual Vacancy</td>\n",
       "      <td>J.K. Rowling</td>\n",
       "      <td>3.3</td>\n",
       "      <td>9372</td>\n",
       "      <td>12</td>\n",
       "      <td>2012</td>\n",
       "      <td>Fiction</td>\n",
       "    </tr>\n",
       "    <tr>\n",
       "      <th>132</th>\n",
       "      <td>Go Set a Watchman: A Novel</td>\n",
       "      <td>Harper Lee</td>\n",
       "      <td>3.6</td>\n",
       "      <td>14982</td>\n",
       "      <td>19</td>\n",
       "      <td>2015</td>\n",
       "      <td>Fiction</td>\n",
       "    </tr>\n",
       "    <tr>\n",
       "      <th>106</th>\n",
       "      <td>Fifty Shades of Grey: Book One of the Fifty Sh...</td>\n",
       "      <td>E L James</td>\n",
       "      <td>3.8</td>\n",
       "      <td>47265</td>\n",
       "      <td>14</td>\n",
       "      <td>2012</td>\n",
       "      <td>Fiction</td>\n",
       "    </tr>\n",
       "    <tr>\n",
       "      <th>107</th>\n",
       "      <td>Fifty Shades of Grey: Book One of the Fifty Sh...</td>\n",
       "      <td>E L James</td>\n",
       "      <td>3.8</td>\n",
       "      <td>47265</td>\n",
       "      <td>14</td>\n",
       "      <td>2013</td>\n",
       "      <td>Fiction</td>\n",
       "    </tr>\n",
       "    <tr>\n",
       "      <th>393</th>\n",
       "      <td>The Goldfinch: A Novel (Pulitzer Prize for Fic...</td>\n",
       "      <td>Donna Tartt</td>\n",
       "      <td>3.9</td>\n",
       "      <td>33844</td>\n",
       "      <td>20</td>\n",
       "      <td>2014</td>\n",
       "      <td>Fiction</td>\n",
       "    </tr>\n",
       "    <tr>\n",
       "      <th>22</th>\n",
       "      <td>Allegiant</td>\n",
       "      <td>Veronica Roth</td>\n",
       "      <td>3.9</td>\n",
       "      <td>6310</td>\n",
       "      <td>13</td>\n",
       "      <td>2013</td>\n",
       "      <td>Fiction</td>\n",
       "    </tr>\n",
       "    <tr>\n",
       "      <th>392</th>\n",
       "      <td>The Goldfinch: A Novel (Pulitzer Prize for Fic...</td>\n",
       "      <td>Donna Tartt</td>\n",
       "      <td>3.9</td>\n",
       "      <td>33844</td>\n",
       "      <td>20</td>\n",
       "      <td>2013</td>\n",
       "      <td>Fiction</td>\n",
       "    </tr>\n",
       "    <tr>\n",
       "      <th>364</th>\n",
       "      <td>The Elegance of the Hedgehog</td>\n",
       "      <td>Muriel Barbery</td>\n",
       "      <td>4.0</td>\n",
       "      <td>1859</td>\n",
       "      <td>11</td>\n",
       "      <td>2009</td>\n",
       "      <td>Fiction</td>\n",
       "    </tr>\n",
       "    <tr>\n",
       "      <th>137</th>\n",
       "      <td>Gone Girl</td>\n",
       "      <td>Gillian Flynn</td>\n",
       "      <td>4.0</td>\n",
       "      <td>57271</td>\n",
       "      <td>9</td>\n",
       "      <td>2014</td>\n",
       "      <td>Fiction</td>\n",
       "    </tr>\n",
       "    <tr>\n",
       "      <th>136</th>\n",
       "      <td>Gone Girl</td>\n",
       "      <td>Gillian Flynn</td>\n",
       "      <td>4.0</td>\n",
       "      <td>57271</td>\n",
       "      <td>10</td>\n",
       "      <td>2013</td>\n",
       "      <td>Fiction</td>\n",
       "    </tr>\n",
       "  </tbody>\n",
       "</table>\n",
       "</div>"
      ],
      "text/plain": [
       "                                                  Name          Author  \\\n",
       "353                                 The Casual Vacancy    J.K. Rowling   \n",
       "132                         Go Set a Watchman: A Novel      Harper Lee   \n",
       "106  Fifty Shades of Grey: Book One of the Fifty Sh...       E L James   \n",
       "107  Fifty Shades of Grey: Book One of the Fifty Sh...       E L James   \n",
       "393  The Goldfinch: A Novel (Pulitzer Prize for Fic...     Donna Tartt   \n",
       "22                                           Allegiant   Veronica Roth   \n",
       "392  The Goldfinch: A Novel (Pulitzer Prize for Fic...     Donna Tartt   \n",
       "364                       The Elegance of the Hedgehog  Muriel Barbery   \n",
       "137                                          Gone Girl   Gillian Flynn   \n",
       "136                                          Gone Girl   Gillian Flynn   \n",
       "\n",
       "     User Rating  Reviews  Price  Year    Genre  \n",
       "353          3.3     9372     12  2012  Fiction  \n",
       "132          3.6    14982     19  2015  Fiction  \n",
       "106          3.8    47265     14  2012  Fiction  \n",
       "107          3.8    47265     14  2013  Fiction  \n",
       "393          3.9    33844     20  2014  Fiction  \n",
       "22           3.9     6310     13  2013  Fiction  \n",
       "392          3.9    33844     20  2013  Fiction  \n",
       "364          4.0     1859     11  2009  Fiction  \n",
       "137          4.0    57271      9  2014  Fiction  \n",
       "136          4.0    57271     10  2013  Fiction  "
      ]
     },
     "execution_count": 25,
     "metadata": {},
     "output_type": "execute_result"
    }
   ],
   "source": [
    "# worst rated books\n",
    "worst = df.sort_values('User Rating').head(10)\n",
    "worst"
   ]
  },
  {
   "cell_type": "code",
   "execution_count": 26,
   "id": "1421de85",
   "metadata": {
    "execution": {
     "iopub.execute_input": "2021-07-08T16:03:41.443647Z",
     "iopub.status.busy": "2021-07-08T16:03:41.442618Z",
     "iopub.status.idle": "2021-07-08T16:03:41.881566Z",
     "shell.execute_reply": "2021-07-08T16:03:41.882107Z",
     "shell.execute_reply.started": "2021-07-08T15:56:14.909980Z"
    },
    "papermill": {
     "duration": 0.507969,
     "end_time": "2021-07-08T16:03:41.882282",
     "exception": false,
     "start_time": "2021-07-08T16:03:41.374313",
     "status": "completed"
    },
    "tags": []
   },
   "outputs": [
    {
     "data": {
      "image/png": "[encoded data removed]",
      "text/plain": [
       "<Figure size 648x360 with 1 Axes>"
      ]
     },
     "metadata": {},
     "output_type": "display_data"
    }
   ],
   "source": [
    "# visualise worst rated books\n",
    "plt.title('Worst Rated Books')\n",
    "sns.barplot(y = worst['Name'], x = worst['User Rating']);"
   ]
  },
  {
   "attachments": {},
   "cell_type": "markdown",
   "id": "85463ef8",
   "metadata": {
    "papermill": {
     "duration": 0.07002,
     "end_time": "2021-07-08T16:03:42.019192",
     "exception": false,
     "start_time": "2021-07-08T16:03:41.949172",
     "status": "completed"
    },
    "tags": []
   },
   "source": [
    "## What Are the Most Expensive Books?"
   ]
  },
  {
   "cell_type": "code",
   "execution_count": 27,
   "id": "d528b3a6",
   "metadata": {
    "execution": {
     "iopub.execute_input": "2021-07-08T16:03:42.164559Z",
     "iopub.status.busy": "2021-07-08T16:03:42.163558Z",
     "iopub.status.idle": "2021-07-08T16:03:42.545302Z",
     "shell.execute_reply": "2021-07-08T16:03:42.545944Z",
     "shell.execute_reply.started": "2021-07-08T15:56:30.623346Z"
    },
    "papermill": {
     "duration": 0.457612,
     "end_time": "2021-07-08T16:03:42.546149",
     "exception": false,
     "start_time": "2021-07-08T16:03:42.088537",
     "status": "completed"
    },
    "tags": []
   },
   "outputs": [
    {
     "data": {
      "image/png": "[encoded data removed]",
      "text/plain": [
       "<Figure size 648x360 with 1 Axes>"
      ]
     },
     "metadata": {},
     "output_type": "display_data"
    }
   ],
   "source": [
    "# top expensive books\n",
    "plt.title('Expensive books in Amazon bestseller list')\n",
    "top_expensive = df.drop(df[df['Price'] < 1].index).sort_values('Price', ascending = False).head(10)\n",
    "sns.barplot(y = top_expensive['Name'], x = top_expensive['Price']);"
   ]
  },
  {
   "attachments": {},
   "cell_type": "markdown",
   "id": "bb0cfdca",
   "metadata": {
    "papermill": {
     "duration": 0.073107,
     "end_time": "2021-07-08T16:03:42.691027",
     "exception": false,
     "start_time": "2021-07-08T16:03:42.617920",
     "status": "completed"
    },
    "tags": []
   },
   "source": [
    "## What Are the Cheapest Books?"
   ]
  },
  {
   "cell_type": "code",
   "execution_count": 28,
   "id": "f0c0789b",
   "metadata": {
    "execution": {
     "iopub.execute_input": "2021-07-08T16:03:42.832239Z",
     "iopub.status.busy": "2021-07-08T16:03:42.831558Z",
     "iopub.status.idle": "2021-07-08T16:03:43.444069Z",
     "shell.execute_reply": "2021-07-08T16:03:43.443379Z",
     "shell.execute_reply.started": "2021-07-08T15:56:46.232257Z"
    },
    "papermill": {
     "duration": 0.684163,
     "end_time": "2021-07-08T16:03:43.444225",
     "exception": false,
     "start_time": "2021-07-08T16:03:42.760062",
     "status": "completed"
    },
    "tags": []
   },
   "outputs": [
    {
     "data": {
      "image/png": "[encoded data removed]",
      "text/plain": [
       "<Figure size 648x360 with 1 Axes>"
      ]
     },
     "metadata": {},
     "output_type": "display_data"
    }
   ],
   "source": [
    "# cheapest books\n",
    "plt.title('Cheapest books in Amazon bestseller list')\n",
    "cheapest = df[-df['Price'].isin([0])].sort_values('Price').head(10)\n",
    "sns.barplot(y = cheapest['Name'], x = cheapest['Price']);"
   ]
  },
  {
   "attachments": {},
   "cell_type": "markdown",
   "id": "e3e762c1",
   "metadata": {
    "papermill": {
     "duration": 0.073235,
     "end_time": "2021-07-08T16:03:43.588917",
     "exception": false,
     "start_time": "2021-07-08T16:03:43.515682",
     "status": "completed"
    },
    "tags": []
   },
   "source": [
    "## What Are the Best 10 Free Books?"
   ]
  },
  {
   "cell_type": "code",
   "execution_count": 29,
   "id": "e13f5223",
   "metadata": {
    "execution": {
     "iopub.execute_input": "2021-07-08T16:03:43.740761Z",
     "iopub.status.busy": "2021-07-08T16:03:43.739639Z",
     "iopub.status.idle": "2021-07-08T16:03:43.757788Z",
     "shell.execute_reply": "2021-07-08T16:03:43.758310Z",
     "shell.execute_reply.started": "2021-07-08T15:57:19.522993Z"
    },
    "papermill": {
     "duration": 0.097388,
     "end_time": "2021-07-08T16:03:43.758493",
     "exception": false,
     "start_time": "2021-07-08T16:03:43.661105",
     "status": "completed"
    },
    "tags": []
   },
   "outputs": [
    {
     "data": {
      "text/html": [
       "<div>\n",
       "<style scoped>\n",
       "    .dataframe tbody tr th:only-of-type {\n",
       "        vertical-align: middle;\n",
       "    }\n",
       "\n",
       "    .dataframe tbody tr th {\n",
       "        vertical-align: top;\n",
       "    }\n",
       "\n",
       "    .dataframe thead th {\n",
       "        text-align: right;\n",
       "    }\n",
       "</style>\n",
       "<table border=\"1\" class=\"dataframe\">\n",
       "  <thead>\n",
       "    <tr style=\"text-align: right;\">\n",
       "      <th></th>\n",
       "      <th>Name</th>\n",
       "      <th>Author</th>\n",
       "      <th>User Rating</th>\n",
       "      <th>Reviews</th>\n",
       "      <th>Price</th>\n",
       "      <th>Year</th>\n",
       "      <th>Genre</th>\n",
       "    </tr>\n",
       "  </thead>\n",
       "  <tbody>\n",
       "    <tr>\n",
       "      <th>219</th>\n",
       "      <td>Little Blue Truck</td>\n",
       "      <td>Alice Schertle</td>\n",
       "      <td>4.9</td>\n",
       "      <td>1884</td>\n",
       "      <td>0</td>\n",
       "      <td>2014</td>\n",
       "      <td>Fiction</td>\n",
       "    </tr>\n",
       "    <tr>\n",
       "      <th>42</th>\n",
       "      <td>Cabin Fever (Diary of a Wimpy Kid, Book 6)</td>\n",
       "      <td>Jeff Kinney</td>\n",
       "      <td>4.8</td>\n",
       "      <td>4505</td>\n",
       "      <td>0</td>\n",
       "      <td>2011</td>\n",
       "      <td>Fiction</td>\n",
       "    </tr>\n",
       "    <tr>\n",
       "      <th>71</th>\n",
       "      <td>Diary of a Wimpy Kid: Hard Luck, Book 8</td>\n",
       "      <td>Jeff Kinney</td>\n",
       "      <td>4.8</td>\n",
       "      <td>6812</td>\n",
       "      <td>0</td>\n",
       "      <td>2013</td>\n",
       "      <td>Fiction</td>\n",
       "    </tr>\n",
       "    <tr>\n",
       "      <th>358</th>\n",
       "      <td>The Constitution of the United States</td>\n",
       "      <td>Delegates of the Constitutional</td>\n",
       "      <td>4.8</td>\n",
       "      <td>2774</td>\n",
       "      <td>0</td>\n",
       "      <td>2016</td>\n",
       "      <td>Non Fiction</td>\n",
       "    </tr>\n",
       "    <tr>\n",
       "      <th>381</th>\n",
       "      <td>The Getaway</td>\n",
       "      <td>Jeff Kinney</td>\n",
       "      <td>4.8</td>\n",
       "      <td>5836</td>\n",
       "      <td>0</td>\n",
       "      <td>2017</td>\n",
       "      <td>Fiction</td>\n",
       "    </tr>\n",
       "    <tr>\n",
       "      <th>505</th>\n",
       "      <td>To Kill a Mockingbird</td>\n",
       "      <td>Harper Lee</td>\n",
       "      <td>4.8</td>\n",
       "      <td>26234</td>\n",
       "      <td>0</td>\n",
       "      <td>2013</td>\n",
       "      <td>Fiction</td>\n",
       "    </tr>\n",
       "    <tr>\n",
       "      <th>506</th>\n",
       "      <td>To Kill a Mockingbird</td>\n",
       "      <td>Harper Lee</td>\n",
       "      <td>4.8</td>\n",
       "      <td>26234</td>\n",
       "      <td>0</td>\n",
       "      <td>2014</td>\n",
       "      <td>Fiction</td>\n",
       "    </tr>\n",
       "    <tr>\n",
       "      <th>507</th>\n",
       "      <td>To Kill a Mockingbird</td>\n",
       "      <td>Harper Lee</td>\n",
       "      <td>4.8</td>\n",
       "      <td>26234</td>\n",
       "      <td>0</td>\n",
       "      <td>2015</td>\n",
       "      <td>Fiction</td>\n",
       "    </tr>\n",
       "    <tr>\n",
       "      <th>508</th>\n",
       "      <td>To Kill a Mockingbird</td>\n",
       "      <td>Harper Lee</td>\n",
       "      <td>4.8</td>\n",
       "      <td>26234</td>\n",
       "      <td>0</td>\n",
       "      <td>2016</td>\n",
       "      <td>Fiction</td>\n",
       "    </tr>\n",
       "    <tr>\n",
       "      <th>116</th>\n",
       "      <td>Frozen (Little Golden Book)</td>\n",
       "      <td>RH Disney</td>\n",
       "      <td>4.7</td>\n",
       "      <td>3642</td>\n",
       "      <td>0</td>\n",
       "      <td>2014</td>\n",
       "      <td>Fiction</td>\n",
       "    </tr>\n",
       "  </tbody>\n",
       "</table>\n",
       "</div>"
      ],
      "text/plain": [
       "                                           Name  \\\n",
       "219                           Little Blue Truck   \n",
       "42   Cabin Fever (Diary of a Wimpy Kid, Book 6)   \n",
       "71      Diary of a Wimpy Kid: Hard Luck, Book 8   \n",
       "358       The Constitution of the United States   \n",
       "381                                 The Getaway   \n",
       "505                       To Kill a Mockingbird   \n",
       "506                       To Kill a Mockingbird   \n",
       "507                       To Kill a Mockingbird   \n",
       "508                       To Kill a Mockingbird   \n",
       "116                 Frozen (Little Golden Book)   \n",
       "\n",
       "                               Author  User Rating  Reviews  Price  Year  \\\n",
       "219                    Alice Schertle          4.9     1884      0  2014   \n",
       "42                        Jeff Kinney          4.8     4505      0  2011   \n",
       "71                        Jeff Kinney          4.8     6812      0  2013   \n",
       "358  Delegates of the Constitutional\n",
       "          4.8     2774      0  2016   \n",
       "381                       Jeff Kinney          4.8     5836      0  2017   \n",
       "505                        Harper Lee          4.8    26234      0  2013   \n",
       "506                        Harper Lee          4.8    26234      0  2014   \n",
       "507                        Harper Lee          4.8    26234      0  2015   \n",
       "508                        Harper Lee          4.8    26234      0  2016   \n",
       "116                         RH Disney          4.7     3642      0  2014   \n",
       "\n",
       "           Genre  \n",
       "219      Fiction  \n",
       "42       Fiction  \n",
       "71       Fiction  \n",
       "358  Non Fiction  \n",
       "381      Fiction  \n",
       "505      Fiction  \n",
       "506      Fiction  \n",
       "507      Fiction  \n",
       "508      Fiction  \n",
       "116      Fiction  "
      ]
     },
     "execution_count": 29,
     "metadata": {},
     "output_type": "execute_result"
    }
   ],
   "source": [
    "# top free books\n",
    "df.drop(df[df['Price'] > 0].index).sort_values('User Rating', ascending = False).head(10)"
   ]
  },
  {
   "attachments": {},
   "cell_type": "markdown",
   "id": "36565bff",
   "metadata": {
    "papermill": {
     "duration": 0.070861,
     "end_time": "2021-07-08T16:03:43.901167",
     "exception": false,
     "start_time": "2021-07-08T16:03:43.830306",
     "status": "completed"
    },
    "tags": []
   },
   "source": [
    "## Who Are the Most Popular Authors?"
   ]
  },
  {
   "cell_type": "code",
   "execution_count": 30,
   "id": "78339f3f",
   "metadata": {
    "execution": {
     "iopub.execute_input": "2021-07-08T16:03:44.052007Z",
     "iopub.status.busy": "2021-07-08T16:03:44.051002Z",
     "iopub.status.idle": "2021-07-08T16:03:44.077596Z",
     "shell.execute_reply": "2021-07-08T16:03:44.076986Z",
     "shell.execute_reply.started": "2021-07-08T15:57:30.789666Z"
    },
    "papermill": {
     "duration": 0.10486,
     "end_time": "2021-07-08T16:03:44.077733",
     "exception": false,
     "start_time": "2021-07-08T16:03:43.972873",
     "status": "completed"
    },
    "tags": []
   },
   "outputs": [
    {
     "data": {
      "text/html": [
       "<div>\n",
       "<style scoped>\n",
       "    .dataframe tbody tr th:only-of-type {\n",
       "        vertical-align: middle;\n",
       "    }\n",
       "\n",
       "    .dataframe tbody tr th {\n",
       "        vertical-align: top;\n",
       "    }\n",
       "\n",
       "    .dataframe thead th {\n",
       "        text-align: right;\n",
       "    }\n",
       "</style>\n",
       "<table border=\"1\" class=\"dataframe\">\n",
       "  <thead>\n",
       "    <tr style=\"text-align: right;\">\n",
       "      <th></th>\n",
       "      <th>User Rating</th>\n",
       "      <th>Reviews</th>\n",
       "      <th>Total Books</th>\n",
       "    </tr>\n",
       "    <tr>\n",
       "      <th>Author</th>\n",
       "      <th></th>\n",
       "      <th></th>\n",
       "      <th></th>\n",
       "    </tr>\n",
       "  </thead>\n",
       "  <tbody>\n",
       "    <tr>\n",
       "      <th>Emily Winfield Martin</th>\n",
       "      <td>4.9</td>\n",
       "      <td>35368</td>\n",
       "      <td>4</td>\n",
       "    </tr>\n",
       "    <tr>\n",
       "      <th>Bill Martin Jr.</th>\n",
       "      <td>4.9</td>\n",
       "      <td>28688</td>\n",
       "      <td>2</td>\n",
       "    </tr>\n",
       "    <tr>\n",
       "      <th>Sherri Duskey Rinker</th>\n",
       "      <td>4.9</td>\n",
       "      <td>14076</td>\n",
       "      <td>2</td>\n",
       "    </tr>\n",
       "    <tr>\n",
       "      <th>Jill Twiss</th>\n",
       "      <td>4.9</td>\n",
       "      <td>11881</td>\n",
       "      <td>1</td>\n",
       "    </tr>\n",
       "    <tr>\n",
       "      <th>Rush Limbaugh</th>\n",
       "      <td>4.9</td>\n",
       "      <td>10986</td>\n",
       "      <td>2</td>\n",
       "    </tr>\n",
       "    <tr>\n",
       "      <th>Nathan W. Pyle</th>\n",
       "      <td>4.9</td>\n",
       "      <td>9382</td>\n",
       "      <td>1</td>\n",
       "    </tr>\n",
       "    <tr>\n",
       "      <th>Chip Gaines</th>\n",
       "      <td>4.9</td>\n",
       "      <td>7861</td>\n",
       "      <td>1</td>\n",
       "    </tr>\n",
       "    <tr>\n",
       "      <th>Lin-Manuel Miranda</th>\n",
       "      <td>4.9</td>\n",
       "      <td>5867</td>\n",
       "      <td>1</td>\n",
       "    </tr>\n",
       "    <tr>\n",
       "      <th>Patrick Thorpe</th>\n",
       "      <td>4.9</td>\n",
       "      <td>5396</td>\n",
       "      <td>1</td>\n",
       "    </tr>\n",
       "    <tr>\n",
       "      <th>Pete Souza</th>\n",
       "      <td>4.9</td>\n",
       "      <td>3192</td>\n",
       "      <td>1</td>\n",
       "    </tr>\n",
       "  </tbody>\n",
       "</table>\n",
       "</div>"
      ],
      "text/plain": [
       "                       User Rating  Reviews  Total Books\n",
       "Author                                                  \n",
       "Emily Winfield Martin          4.9    35368            4\n",
       "Bill Martin Jr.                4.9    28688            2\n",
       "Sherri Duskey Rinker           4.9    14076            2\n",
       "Jill Twiss                     4.9    11881            1\n",
       "Rush Limbaugh                  4.9    10986            2\n",
       "Nathan W. Pyle                 4.9     9382            1\n",
       "Chip Gaines                    4.9     7861            1\n",
       "Lin-Manuel Miranda             4.9     5867            1\n",
       "Patrick Thorpe                 4.9     5396            1\n",
       "Pete Souza                     4.9     3192            1"
      ]
     },
     "execution_count": 30,
     "metadata": {},
     "output_type": "execute_result"
    }
   ],
   "source": [
    "# most popular authors\n",
    "authors = df.groupby('Author').agg({'User Rating':'mean', 'Reviews':'sum', 'Name': 'count'}).rename({'Name': 'Total Books'}, axis = 1)\n",
    "authors.sort_values(['User Rating', 'Reviews'], ascending = (False, False)).head(10)"
   ]
  },
  {
   "attachments": {},
   "cell_type": "markdown",
   "id": "b672e447",
   "metadata": {
    "papermill": {
     "duration": 0.071781,
     "end_time": "2021-07-08T16:03:44.222793",
     "exception": false,
     "start_time": "2021-07-08T16:03:44.151012",
     "status": "completed"
    },
    "tags": []
   },
   "source": [
    "# Data Preprocessing"
   ]
  },
  {
   "cell_type": "code",
   "execution_count": 31,
   "id": "8b818650",
   "metadata": {
    "execution": {
     "iopub.execute_input": "2021-07-08T16:03:44.376873Z",
     "iopub.status.busy": "2021-07-08T16:03:44.376107Z",
     "iopub.status.idle": "2021-07-08T16:03:44.378659Z",
     "shell.execute_reply": "2021-07-08T16:03:44.378044Z",
     "shell.execute_reply.started": "2021-07-08T15:58:30.821054Z"
    },
    "papermill": {
     "duration": 0.083029,
     "end_time": "2021-07-08T16:03:44.378800",
     "exception": false,
     "start_time": "2021-07-08T16:03:44.295771",
     "status": "completed"
    },
    "tags": []
   },
   "outputs": [],
   "source": [
    "# encode genre and author columns\n",
    "le = preprocessing.LabelEncoder()\n",
    "df['Genre'] = le.fit_transform(df['Genre'])\n",
    "df['Author'] = le.fit_transform(df['Author'])"
   ]
  },
  {
   "cell_type": "code",
   "execution_count": 32,
   "id": "abc81a29",
   "metadata": {
    "execution": {
     "iopub.execute_input": "2021-07-08T16:03:44.536128Z",
     "iopub.status.busy": "2021-07-08T16:03:44.535077Z",
     "iopub.status.idle": "2021-07-08T16:03:44.538301Z",
     "shell.execute_reply": "2021-07-08T16:03:44.537674Z",
     "shell.execute_reply.started": "2021-07-08T15:59:47.068795Z"
    },
    "papermill": {
     "duration": 0.086501,
     "end_time": "2021-07-08T16:03:44.538441",
     "exception": false,
     "start_time": "2021-07-08T16:03:44.451940",
     "status": "completed"
    },
    "tags": []
   },
   "outputs": [],
   "source": [
    "# sentiment analyse for name column\n",
    "df['Name'] = df['Name'].apply(lambda x: x.lower())\n",
    "df['Name'] = df['Name'].str.replace('[^\\w\\s]','')"
   ]
  },
  {
   "cell_type": "code",
   "execution_count": 33,
   "id": "a2998560",
   "metadata": {
    "execution": {
     "iopub.execute_input": "2021-07-08T16:03:44.690119Z",
     "iopub.status.busy": "2021-07-08T16:03:44.689376Z",
     "iopub.status.idle": "2021-07-08T16:03:44.790009Z",
     "shell.execute_reply": "2021-07-08T16:03:44.790605Z",
     "shell.execute_reply.started": "2021-07-08T15:59:51.457360Z"
    },
    "papermill": {
     "duration": 0.180345,
     "end_time": "2021-07-08T16:03:44.790785",
     "exception": false,
     "start_time": "2021-07-08T16:03:44.610440",
     "status": "completed"
    },
    "tags": []
   },
   "outputs": [],
   "source": [
    "# calculate negative, positive, neutral and compound values\n",
    "score = SentimentIntensityAnalyzer()\n",
    "df['Sentiment'] = df['Name'].apply(lambda x : score.polarity_scores(x))\n",
    "df['Neutral'] = df['Sentiment'].apply(lambda x : x['neu'])\n",
    "df['Positive'] = df['Sentiment'].apply(lambda x : x['pos'])\n",
    "df['Negative'] = df['Sentiment'].apply(lambda x : x['neg'])\n",
    "df['Compound'] = df['Sentiment'].apply(lambda x : x['compound'])\n",
    "# df = df.drop(columns = ['Sentiment'])\n",
    "df = df.drop(columns = ['Sentiment', 'Name'])"
   ]
  },
  {
   "attachments": {},
   "cell_type": "markdown",
   "id": "e8389f30",
   "metadata": {
    "papermill": {
     "duration": 0.073044,
     "end_time": "2021-07-08T16:03:44.937729",
     "exception": false,
     "start_time": "2021-07-08T16:03:44.864685",
     "status": "completed"
    },
    "tags": []
   },
   "source": [
    "We know the dataset is not yet a scaled value, we gonna do it after splitting to prevent data leakage as the mean and standard deviation used to normalise the data will be based on the full dataset and not the training subset — therefore leaking information about the testset into the training set."
   ]
  },
  {
   "attachments": {},
   "cell_type": "markdown",
   "id": "7dbff34e",
   "metadata": {
    "papermill": {
     "duration": 0.071811,
     "end_time": "2021-07-08T16:03:45.083225",
     "exception": false,
     "start_time": "2021-07-08T16:03:45.011414",
     "status": "completed"
    },
    "tags": []
   },
   "source": [
    "# Modelling"
   ]
  },
  {
   "cell_type": "code",
   "execution_count": 34,
   "id": "356590d1",
   "metadata": {
    "execution": {
     "iopub.execute_input": "2021-07-08T16:03:45.233561Z",
     "iopub.status.busy": "2021-07-08T16:03:45.232864Z",
     "iopub.status.idle": "2021-07-08T16:03:45.238362Z",
     "shell.execute_reply": "2021-07-08T16:03:45.238901Z",
     "shell.execute_reply.started": "2021-07-08T16:00:08.689007Z"
    },
    "papermill": {
     "duration": 0.082107,
     "end_time": "2021-07-08T16:03:45.239105",
     "exception": false,
     "start_time": "2021-07-08T16:03:45.156998",
     "status": "completed"
    },
    "tags": []
   },
   "outputs": [],
   "source": [
    "# split the dataset into features and target\n",
    "X = df.drop('User Rating', 1)\n",
    "y = df['User Rating']"
   ]
  },
  {
   "cell_type": "code",
   "execution_count": 35,
   "id": "bc2f798e",
   "metadata": {
    "execution": {
     "iopub.execute_input": "2021-07-08T16:03:45.388580Z",
     "iopub.status.busy": "2021-07-08T16:03:45.387878Z",
     "iopub.status.idle": "2021-07-08T16:03:45.394987Z",
     "shell.execute_reply": "2021-07-08T16:03:45.395561Z",
     "shell.execute_reply.started": "2021-07-08T16:00:11.983307Z"
    },
    "papermill": {
     "duration": 0.083524,
     "end_time": "2021-07-08T16:03:45.395739",
     "exception": false,
     "start_time": "2021-07-08T16:03:45.312215",
     "status": "completed"
    },
    "tags": []
   },
   "outputs": [],
   "source": [
    "# split features and target into train and test sets\n",
    "X_train, X_test, y_train, y_test = train_test_split(X, y, test_size = 0.33, random_state = 42)"
   ]
  },
  {
   "cell_type": "code",
   "execution_count": 36,
   "id": "8395e59b",
   "metadata": {
    "execution": {
     "iopub.execute_input": "2021-07-08T16:03:45.547890Z",
     "iopub.status.busy": "2021-07-08T16:03:45.547221Z",
     "iopub.status.idle": "2021-07-08T16:03:45.558623Z",
     "shell.execute_reply": "2021-07-08T16:03:45.559173Z",
     "shell.execute_reply.started": "2021-07-08T16:00:15.861529Z"
    },
    "papermill": {
     "duration": 0.088636,
     "end_time": "2021-07-08T16:03:45.559351",
     "exception": false,
     "start_time": "2021-07-08T16:03:45.470715",
     "status": "completed"
    },
    "tags": []
   },
   "outputs": [],
   "source": [
    "# standardise data values into a standard format\n",
    "scale = StandardScaler()\n",
    "X_train = scale.fit_transform(X_train)\n",
    "X_test = scale.transform(X_test)"
   ]
  },
  {
   "attachments": {},
   "cell_type": "markdown",
   "id": "0eb2583f",
   "metadata": {
    "papermill": {
     "duration": 0.071695,
     "end_time": "2021-07-08T16:03:45.704396",
     "exception": false,
     "start_time": "2021-07-08T16:03:45.632701",
     "status": "completed"
    },
    "tags": []
   },
   "source": [
    "# Into the Woods 😄"
   ]
  },
  {
   "cell_type": "code",
   "execution_count": 37,
   "id": "2047b26b",
   "metadata": {
    "execution": {
     "iopub.execute_input": "2021-07-08T16:03:45.851291Z",
     "iopub.status.busy": "2021-07-08T16:03:45.850609Z",
     "iopub.status.idle": "2021-07-08T16:03:45.854334Z",
     "shell.execute_reply": "2021-07-08T16:03:45.854912Z",
     "shell.execute_reply.started": "2021-07-08T16:01:11.567017Z"
    },
    "papermill": {
     "duration": 0.07875,
     "end_time": "2021-07-08T16:03:45.855125",
     "exception": false,
     "start_time": "2021-07-08T16:03:45.776375",
     "status": "completed"
    },
    "tags": []
   },
   "outputs": [],
   "source": [
    "# instantiate model with 1000 decision trees\n",
    "model = RandomForestRegressor(n_estimators = 1000, random_state = 42)"
   ]
  },
  {
   "cell_type": "code",
   "execution_count": 38,
   "id": "2fe46593",
   "metadata": {
    "execution": {
     "iopub.execute_input": "2021-07-08T16:03:46.004894Z",
     "iopub.status.busy": "2021-07-08T16:03:46.003944Z",
     "iopub.status.idle": "2021-07-08T16:03:48.741306Z",
     "shell.execute_reply": "2021-07-08T16:03:48.741861Z",
     "shell.execute_reply.started": "2021-07-08T16:01:16.123915Z"
    },
    "papermill": {
     "duration": 2.814793,
     "end_time": "2021-07-08T16:03:48.742061",
     "exception": false,
     "start_time": "2021-07-08T16:03:45.927268",
     "status": "completed"
    },
    "tags": []
   },
   "outputs": [
    {
     "data": {
      "text/plain": [
       "RandomForestRegressor(n_estimators=1000, random_state=42)"
      ]
     },
     "execution_count": 38,
     "metadata": {},
     "output_type": "execute_result"
    }
   ],
   "source": [
    "# train the model on training data\n",
    "model.fit(X_train, y_train)"
   ]
  },
  {
   "cell_type": "code",
   "execution_count": 39,
   "id": "07e66871",
   "metadata": {
    "execution": {
     "iopub.execute_input": "2021-07-08T16:03:48.896570Z",
     "iopub.status.busy": "2021-07-08T16:03:48.895854Z",
     "iopub.status.idle": "2021-07-08T16:03:48.995585Z",
     "shell.execute_reply": "2021-07-08T16:03:48.996286Z",
     "shell.execute_reply.started": "2021-07-08T16:01:20.512573Z"
    },
    "papermill": {
     "duration": 0.179019,
     "end_time": "2021-07-08T16:03:48.996473",
     "exception": false,
     "start_time": "2021-07-08T16:03:48.817454",
     "status": "completed"
    },
    "tags": []
   },
   "outputs": [],
   "source": [
    "# use the forest's predict method on the testset\n",
    "y_pred = model.predict(X_test)"
   ]
  },
  {
   "cell_type": "code",
   "execution_count": 40,
   "id": "ed5ddfb1",
   "metadata": {
    "execution": {
     "iopub.execute_input": "2021-07-08T16:03:49.150585Z",
     "iopub.status.busy": "2021-07-08T16:03:49.149934Z",
     "iopub.status.idle": "2021-07-08T16:03:49.163390Z",
     "shell.execute_reply": "2021-07-08T16:03:49.162745Z",
     "shell.execute_reply.started": "2021-07-08T16:01:24.819426Z"
    },
    "papermill": {
     "duration": 0.091216,
     "end_time": "2021-07-08T16:03:49.163542",
     "exception": false,
     "start_time": "2021-07-08T16:03:49.072326",
     "status": "completed"
    },
    "tags": []
   },
   "outputs": [
    {
     "data": {
      "text/html": [
       "<div>\n",
       "<style scoped>\n",
       "    .dataframe tbody tr th:only-of-type {\n",
       "        vertical-align: middle;\n",
       "    }\n",
       "\n",
       "    .dataframe tbody tr th {\n",
       "        vertical-align: top;\n",
       "    }\n",
       "\n",
       "    .dataframe thead th {\n",
       "        text-align: right;\n",
       "    }\n",
       "</style>\n",
       "<table border=\"1\" class=\"dataframe\">\n",
       "  <thead>\n",
       "    <tr style=\"text-align: right;\">\n",
       "      <th></th>\n",
       "      <th>Actual</th>\n",
       "      <th>Predicted</th>\n",
       "    </tr>\n",
       "  </thead>\n",
       "  <tbody>\n",
       "    <tr>\n",
       "      <th>195</th>\n",
       "      <td>4.6</td>\n",
       "      <td>4.5867</td>\n",
       "    </tr>\n",
       "    <tr>\n",
       "      <th>79</th>\n",
       "      <td>4.7</td>\n",
       "      <td>4.5838</td>\n",
       "    </tr>\n",
       "    <tr>\n",
       "      <th>480</th>\n",
       "      <td>4.9</td>\n",
       "      <td>4.8760</td>\n",
       "    </tr>\n",
       "    <tr>\n",
       "      <th>109</th>\n",
       "      <td>4.2</td>\n",
       "      <td>4.6344</td>\n",
       "    </tr>\n",
       "    <tr>\n",
       "      <th>522</th>\n",
       "      <td>4.8</td>\n",
       "      <td>4.6750</td>\n",
       "    </tr>\n",
       "  </tbody>\n",
       "</table>\n",
       "</div>"
      ],
      "text/plain": [
       "     Actual  Predicted\n",
       "195     4.6     4.5867\n",
       "79      4.7     4.5838\n",
       "480     4.9     4.8760\n",
       "109     4.2     4.6344\n",
       "522     4.8     4.6750"
      ]
     },
     "execution_count": 40,
     "metadata": {},
     "output_type": "execute_result"
    }
   ],
   "source": [
    "# show actual values vs predicted values\n",
    "predictions = pd.DataFrame({'Actual' : y_test, 'Predicted' : y_pred})\n",
    "predictions.head()"
   ]
  },
  {
   "cell_type": "code",
   "execution_count": 41,
   "id": "20da07e3",
   "metadata": {
    "execution": {
     "iopub.execute_input": "2021-07-08T16:03:49.320114Z",
     "iopub.status.busy": "2021-07-08T16:03:49.319372Z",
     "iopub.status.idle": "2021-07-08T16:03:49.323378Z",
     "shell.execute_reply": "2021-07-08T16:03:49.323908Z",
     "shell.execute_reply.started": "2021-07-08T16:01:44.628898Z"
    },
    "papermill": {
     "duration": 0.085865,
     "end_time": "2021-07-08T16:03:49.324102",
     "exception": false,
     "start_time": "2021-07-08T16:03:49.238237",
     "status": "completed"
    },
    "tags": []
   },
   "outputs": [
    {
     "name": "stdout",
     "output_type": "stream",
     "text": [
      "Mean Absolute Error (MAE): 0.13683296703296186\n",
      "Mean Squared Error (MSE): 0.04219211923076986\n",
      "Root Mean Squared Error (RMSE): 0.2054072034539438\n"
     ]
    }
   ],
   "source": [
    "print('Mean Absolute Error (MAE):', metrics.mean_absolute_error(y_test, y_pred))\n",
    "print('Mean Squared Error (MSE):', metrics.mean_squared_error(y_test, y_pred))\n",
    "print('Root Mean Squared Error (RMSE):', np.sqrt(metrics.mean_squared_error(y_test, y_pred)))"
   ]
  },
  {
   "cell_type": "code",
   "execution_count": 42,
   "id": "44d9e0ff",
   "metadata": {
    "execution": {
     "iopub.execute_input": "2021-07-08T16:03:49.482287Z",
     "iopub.status.busy": "2021-07-08T16:03:49.481538Z",
     "iopub.status.idle": "2021-07-08T16:03:49.490607Z",
     "shell.execute_reply": "2021-07-08T16:03:49.489907Z",
     "shell.execute_reply.started": "2021-07-08T16:01:49.821772Z"
    },
    "papermill": {
     "duration": 0.088975,
     "end_time": "2021-07-08T16:03:49.490764",
     "exception": false,
     "start_time": "2021-07-08T16:03:49.401789",
     "status": "completed"
    },
    "tags": []
   },
   "outputs": [
    {
     "name": "stdout",
     "output_type": "stream",
     "text": [
      "Mean Absolute Percentage Error (MAPE): 3.12\n"
     ]
    }
   ],
   "source": [
    "# calculate mean absolute percentage error (MAPE)\n",
    "mape = np.mean(np.abs((y_test - y_pred) / np.abs(y_test)))\n",
    "print('Mean Absolute Percentage Error (MAPE):', round(mape * 100, 2))"
   ]
  },
  {
   "cell_type": "code",
   "execution_count": 43,
   "id": "02fd176c",
   "metadata": {
    "execution": {
     "iopub.execute_input": "2021-07-08T16:03:49.650532Z",
     "iopub.status.busy": "2021-07-08T16:03:49.649736Z",
     "iopub.status.idle": "2021-07-08T16:03:49.653679Z",
     "shell.execute_reply": "2021-07-08T16:03:49.654882Z",
     "shell.execute_reply.started": "2021-07-08T16:01:59.083307Z"
    },
    "papermill": {
     "duration": 0.086437,
     "end_time": "2021-07-08T16:03:49.655153",
     "exception": false,
     "start_time": "2021-07-08T16:03:49.568716",
     "status": "completed"
    },
    "tags": []
   },
   "outputs": [
    {
     "name": "stdout",
     "output_type": "stream",
     "text": [
      "Accuracy: 96.88 %\n"
     ]
    }
   ],
   "source": [
    "# calculate accuracy\n",
    "print('Accuracy:', round(100*(1 - mape), 2), '%')"
   ]
  }
 ],
 "metadata": {
  "kernelspec": {
   "display_name": "Python 3",
   "language": "python",
   "name": "python3"
  },
  "language_info": {
   "codemirror_mode": {
    "name": "ipython",
    "version": 3
   },
   "file_extension": ".py",
   "mimetype": "text/x-python",
   "name": "python",
   "nbconvert_exporter": "python",
   "pygments_lexer": "ipython3",
   "version": "3.7.10"
  },
  "papermill": {
   "default_parameters": {},
   "duration": 30.015653,
   "end_time": "2021-07-08T16:03:50.543529",
   "environment_variables": {},
   "exception": null,
   "input_path": "__notebook__.ipynb",
   "output_path": "__notebook__.ipynb",
   "parameters": {},
   "start_time": "2021-07-08T16:03:20.527876",
   "version": "2.3.3"
  }
 },
 "nbformat": 4,
 "nbformat_minor": 5
}
